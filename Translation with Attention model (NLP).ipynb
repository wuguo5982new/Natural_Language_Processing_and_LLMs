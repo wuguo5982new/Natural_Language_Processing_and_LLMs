{
 "cells": [
  {
   "cell_type": "code",
   "execution_count": null,
   "id": "b46c1131",
   "metadata": {},
   "outputs": [],
   "source": [
    "## We use attention (Softmax) for long sentences translation to overcome Seqtoseq (short sentence translation), \n",
    "## Doing a Softmax (probability distribution over each element for \"how much to care\") over RNN states is like doing a maxpool over CNN. \n",
    "## we also use teacher forcing (pass the previous word into the bottom as basic context) and simply concatenate them."
   ]
  },
  {
   "cell_type": "code",
   "execution_count": 1,
   "id": "2d3600c6",
   "metadata": {},
   "outputs": [],
   "source": [
    "import tensorflow as tf\n",
    "for gpu in tf.config.experimental.list_physical_devices(\"GPU\"):\n",
    "    tf.config.experimental.set_memory_growth(gpu, True)\n",
    "\n",
    "from __future__ import print_function, division\n",
    "from builtins import range, input\n",
    "import tensorflow.keras as keras\n",
    "import os, sys\n",
    "from keras.models import Model\n",
    "from keras.layers import Input, LSTM, GRU, Dense, Embedding, \\\n",
    "  Bidirectional, RepeatVector, Concatenate, Activation, Dot, Lambda\n",
    "from keras.preprocessing.text import Tokenizer\n",
    "from keras.preprocessing.sequence import pad_sequences\n",
    "import keras.backend as K\n",
    "import numpy as np\n",
    "import matplotlib.pyplot as plt\n",
    "\n",
    "try:\n",
    "  import keras.backend as K\n",
    "  if len(K.tensorflow_backend._get_available_gpus()) > 0:\n",
    "    from keras.layers import CuDNNLSTM as LSTM\n",
    "    from keras.layers import CuDNNGRU as GRU\n",
    "except:\n",
    "  pass"
   ]
  },
  {
   "cell_type": "code",
   "execution_count": 2,
   "id": "4ab86bac",
   "metadata": {},
   "outputs": [],
   "source": [
    "# Softmax function\n",
    "def softmax_over_time(x):\n",
    "  assert(K.ndim(x) > 2)\n",
    "  e = K.exp(x - K.max(x, axis=1, keepdims=True))\n",
    "  s = K.sum(e, axis=1, keepdims=True)\n",
    "  return e / s"
   ]
  },
  {
   "cell_type": "code",
   "execution_count": 3,
   "id": "40725a0c",
   "metadata": {},
   "outputs": [],
   "source": [
    "# Setup\n",
    "BATCH_SIZE = 64\n",
    "EPOCHS = 15\n",
    "LATENT_DIM = 400\n",
    "LATENT_DIM_DECODER = 400\n",
    "NUM_SAMPLES = 20000\n",
    "MAX_SEQUENCE_LENGTH = 100\n",
    "MAX_NUM_WORDS = 20000\n",
    "EMBEDDING_DIM = 100"
   ]
  },
  {
   "cell_type": "code",
   "execution_count": 4,
   "id": "fea2ab68",
   "metadata": {},
   "outputs": [
    {
     "name": "stdout",
     "output_type": "stream",
     "text": [
      "num samples: 20000\n",
      "['Go.', 'Go.', 'Go.', 'Go.', 'Hi.', 'Run!', 'Run!', 'Run!', 'Run!', 'Run.', 'Who?', 'Wow!', 'Duck!', 'Fire!', 'Fire!', 'Fire!', 'Help!', 'Help!', 'Help!', 'Jump!', 'Jump.', 'Stay.', 'Stop!', 'Stop!', 'Stop!', 'Wait!', 'Wait!', 'Wait.', 'Wait.', 'Go on.', 'Go on.', 'Hello!', 'Hurry!', 'Hurry!', 'Hurry!', 'I hid.', 'I hid.', 'I hid.', 'I hid.', 'I ran.', 'I ran.', 'I try.', 'I won!', 'Oh no!', 'Relax.', 'Shoot!', 'Shoot!', 'Shoot!', 'Shoot!', 'Shoot!'] \n",
      "\n",
      "['Ve. <eos>', 'Vete. <eos>', 'Vaya. <eos>', 'Váyase. <eos>', 'Hola. <eos>', '¡Corre! <eos>', '¡Corran! <eos>', '¡Corra! <eos>', '¡Corred! <eos>', 'Corred. <eos>', '¿Quién? <eos>', '¡Órale! <eos>', '¡Inclínate! <eos>', '¡Fuego! <eos>', '¡Incendio! <eos>', '¡Disparad! <eos>', '¡Ayuda! <eos>', '¡Socorro! ¡Auxilio! <eos>', '¡Auxilio! <eos>', '¡Salta! <eos>', 'Salte. <eos>', 'Quédate <eos>', '¡Parad! <eos>', '¡Para! <eos>', '¡Pare! <eos>', '¡Espera! <eos>', '¡Espérate! <eos>', 'Esperen. <eos>', 'Espera. <eos>', 'Continúa. <eos>', 'Continúe. <eos>', 'Hola. <eos>', '¡Date prisa! <eos>', '¡Daos prisa! <eos>', 'Dese prisa. <eos>', 'Me oculté. <eos>', 'Me escondí. <eos>', 'Me ocultaba. <eos>', 'Me escondía. <eos>', 'Corrí. <eos>', 'Corría. <eos>', 'Lo intento. <eos>', '¡He ganado! <eos>', '¡Oh, no! <eos>', 'Tomátelo con soda. <eos>', '¡Fuego! <eos>', '¡Disparad! <eos>', '¡Disparen! <eos>', 'Dispara. <eos>', '¡Dispara! <eos>']\n"
     ]
    }
   ],
   "source": [
    "input_texts = []\n",
    "target_texts = []\n",
    "target_texts_inputs = [] \n",
    "t = 0\n",
    "for line in open('../spa.txt', encoding='utf-8'):  \n",
    "  t += 1\n",
    "  if t > NUM_SAMPLES:\n",
    "    break\n",
    "  # Separated by tab\n",
    "  if '\\t' not in line:\n",
    "    continue\n",
    "\n",
    "  # Split up the parts of input and translation\n",
    "  input_text, translation, *rest = line.rstrip().split('\\t')\n",
    "  # Prepare for teacher forcing\n",
    "  target_text = translation + ' <eos>'          ## Since encoder-decoder structure (eos, sos).\n",
    "  target_text_input = '<sos> ' + translation\n",
    "\n",
    "  input_texts.append(input_text)\n",
    "  target_texts.append(target_text)\n",
    "  target_texts_inputs.append(target_text_input)\n",
    "print(\"num samples:\", len(input_texts))\n",
    "print(input_texts[:50], \"\\n\")\n",
    "print(target_texts[:50])"
   ]
  },
  {
   "cell_type": "code",
   "execution_count": 5,
   "id": "4efbb004",
   "metadata": {},
   "outputs": [
    {
     "name": "stdout",
     "output_type": "stream",
     "text": [
      "Found 3767 unique input tokens.\n",
      "[[2840, 1], [1578, 1], [1579, 1], [2052, 1], [2053, 1], [4576, 1], [4577, 1], [4578, 1], [4579, 1], [4580, 1]] \n",
      "\n",
      "[[2, 2840], [2, 1578], [2, 1579], [2, 2052], [2, 2053], [2, 4576], [2, 4577], [2, 4578], [2, 4579], [2, 4580]]\n"
     ]
    }
   ],
   "source": [
    "# Tokenization of inputs\n",
    "tokenizer_inputs = Tokenizer(num_words=MAX_NUM_WORDS)\n",
    "tokenizer_inputs.fit_on_texts(input_texts)\n",
    "input_sequences = tokenizer_inputs.texts_to_sequences(input_texts)\n",
    "\n",
    "# Word to index mapping \n",
    "word2idx_inputs = tokenizer_inputs.word_index\n",
    "print('Found %s unique input tokens.' % len(word2idx_inputs))\n",
    "\n",
    "# Find maximum length\n",
    "max_len_input = max(len(s) for s in input_sequences)\n",
    "\n",
    "# Tokenize the outputs \n",
    "tokenizer_outputs = Tokenizer(num_words=MAX_NUM_WORDS, filters='')    # No need to filter\n",
    "tokenizer_outputs.fit_on_texts(target_texts + target_texts_inputs) \n",
    "target_sequences = tokenizer_outputs.texts_to_sequences(target_texts)\n",
    "target_sequences_inputs = tokenizer_outputs.texts_to_sequences(target_texts_inputs)\n",
    "print(target_sequences[:10], '\\n')\n",
    "print(target_sequences_inputs[:10])"
   ]
  },
  {
   "cell_type": "code",
   "execution_count": 6,
   "id": "b9feff7d",
   "metadata": {},
   "outputs": [
    {
     "name": "stdout",
     "output_type": "stream",
     "text": [
      "[[8, 4, 5, 737, 526]]\n",
      "[[  0   0   0   0   0   0   0   0   0   0   0   0   0   0   0   0   0   0\n",
      "    0   0   0   0   0   0   0   0   0   0   0   0   0   0   0   0   0   0\n",
      "    0   0   0   0   0   0   0   0   0   0   0   0   0   0   0   0   0   0\n",
      "    0   0   0   0   0   0   0   0   0   0   0   0   0   0   0   0   0   0\n",
      "    0   0   0   0   0   0   0   0   0   0   0   0   0   0   0   0   0   0\n",
      "    0   0   0   0   0   0   0   0   0   0   0   0   0   0   0   0   0   0\n",
      "    0   0   0   0   0   0   0   0   0   0   0   0   0   0   0   0   0   0\n",
      "    0   0   0   0   0   0   0   0   0   0   0   0   0   0   0   0   0   0\n",
      "    0   0   0   0   0   0   0   0   0   0   0   0   0   0   0   0   0   0\n",
      "    0   0   0   0   0   0   0   0   0   0   0   0   0   0   0   0   0   0\n",
      "    0   0   0   0   0   0   0   0   0   0   0   0   0   0   0   8   4   5\n",
      "  737 526]]\n"
     ]
    }
   ],
   "source": [
    "# Sample\n",
    "twt = ['He is a lazy person.']\n",
    "twt = tokenizer_inputs.texts_to_sequences(twt)\n",
    "print (twt)\n",
    "data = pad_sequences(twt, maxlen= 200) \n",
    "print(data) "
   ]
  },
  {
   "cell_type": "code",
   "execution_count": 7,
   "id": "7a50f839",
   "metadata": {},
   "outputs": [
    {
     "name": "stdout",
     "output_type": "stream",
     "text": [
      "Found 10502 unique output tokens.\n",
      "16\n"
     ]
    }
   ],
   "source": [
    "# For output language (word to index mapping)\n",
    "word2idx_outputs = tokenizer_outputs.word_index\n",
    "print('Found %s unique output tokens.' % len(word2idx_outputs))\n",
    "num_words_output = len(word2idx_outputs) + 1\n",
    "max_len_target = max(len(s) for s in target_sequences)\n",
    "print(max_len_target)"
   ]
  },
  {
   "cell_type": "code",
   "execution_count": 8,
   "id": "b153eadd",
   "metadata": {},
   "outputs": [
    {
     "name": "stdout",
     "output_type": "stream",
     "text": [
      "encoder_data.shape: (20000, 6)\n",
      "encoder_data[0]: [ 0  0  0  0  0 22]\n",
      "decoder_data[0]: [   2 2840    0    0    0    0    0    0    0    0    0    0    0    0\n",
      "    0    0]\n",
      "decoder_data.shape: (20000, 16)\n"
     ]
    }
   ],
   "source": [
    "# Pad the sequences\n",
    "encoder_inputs = pad_sequences(input_sequences, maxlen=max_len_input)\n",
    "print(\"encoder_data.shape:\", encoder_inputs.shape)\n",
    "print(\"encoder_data[0]:\", encoder_inputs[0])\n",
    "decoder_inputs = pad_sequences(target_sequences_inputs, maxlen=max_len_target, padding='post')\n",
    "print(\"decoder_data[0]:\", decoder_inputs[0])\n",
    "print(\"decoder_data.shape:\", decoder_inputs.shape)\n",
    "decoder_targets = pad_sequences(target_sequences, maxlen=max_len_target, padding='post')"
   ]
  },
  {
   "cell_type": "code",
   "execution_count": 10,
   "id": "b593cef2",
   "metadata": {},
   "outputs": [
    {
     "name": "stdout",
     "output_type": "stream",
     "text": [
      "Total 400000 word vectors.\n"
     ]
    }
   ],
   "source": [
    "# Pre-trained word vectors (Glove.6B.100d) # Take for a while\n",
    "word2vec = {}\n",
    "with open(os.path.join('../glove.6B.%sd.txt' % EMBEDDING_DIM), encoding=\"utf8\") as f:\n",
    "  for line in f:\n",
    "    values = line.split()\n",
    "    word = values[0]\n",
    "    vec = np.asarray(values[1:], dtype='float32')\n",
    "    word2vec[word] = vec\n",
    "print('Total %s word vectors.' % len(word2vec))"
   ]
  },
  {
   "cell_type": "code",
   "execution_count": 11,
   "id": "97f39cd9",
   "metadata": {},
   "outputs": [],
   "source": [
    "# Fill embedding matrix\n",
    "num_words = min(MAX_NUM_WORDS, len(word2idx_inputs) + 1)\n",
    "embedding_matrix = np.zeros((num_words, EMBEDDING_DIM))\n",
    "for word, i in word2idx_inputs.items():\n",
    "  if i < MAX_NUM_WORDS:\n",
    "    embedding_vector = word2vec.get(word)\n",
    "    if embedding_vector is not None:\n",
    "      embedding_matrix[i] = embedding_vector"
   ]
  },
  {
   "cell_type": "code",
   "execution_count": 21,
   "id": "41512018",
   "metadata": {},
   "outputs": [
    {
     "name": "stdout",
     "output_type": "stream",
     "text": [
      "{'i': 1, 'tom': 2, 'you': 3, 'is': 4, 'a': 5, 'it': 6, \"i'm\": 7, 'he': 8, 'the': 9, 'me': 10, 'this': 11, 'to': 12, 'do': 13, 'my': 14, 'we': 15, 'are': 16, 'was': 17, 'that': 18, \"it's\": 19, \"don't\": 20, 'have': 21, 'go': 22, 'your': 23, 'can': 24, 'not': 25, \"you're\": 26, 'they': 27, 'like': 28, 'here': 29, 'she': 30, 'in': 31, 'on': 32, 'be': 33, 'did': 34, 'what': 35, 'come': 36, 'know': 37, 'up': 38, 'want': 39, 'him': 40, \"i'll\": 41, \"we're\": 42, 'now': 43, 'need': 44, \"that's\": 45, \"can't\": 46, 'how': 47, 'love': 48, 'get': 49, 'am': 50, 'who': 51, 'no': 52, \"he's\": 53, 'please': 54, 'try': 55, 'see': 56, 'help': 57, 'very': 58, 'mary': 59, 'has': 60, \"they're\": 61, 'look': 62, 'out': 63, \"let's\": 64, 'stop': 65, 'good': 66, 'got': 67, 'us': 68, 'one': 69, \"tom's\": 70, 'her': 71, 'at': 72, 'for': 73, 'all': 74, 'just': 75, 'car': 76, 'let': 77, 'there': 78, 'home': 79, 'will': 80, 'an': 81, 'so': 82, 'too': 83, 'with': 84, 'why': 85, 'his': 86, 'hate': 87, 'saw': 88, 'give': 89, 'were': 90, 'back': 91, 'keep': 92, \"isn't\": 93, 'stay': 94, 'take': 95, 'may': 96, 'must': 97, \"didn't\": 98, 'happy': 99, 'of': 100, 'dog': 101, 'them': 102, 'down': 103, 'eat': 104, 'feel': 105, 'work': 106, 'wait': 107, 'leave': 108, 'right': 109, 'book': 110, 'lost': 111, \"what's\": 112, 'again': 113, 'likes': 114, 'made': 115, 'had': 116, 'time': 117, 'say': 118, 'still': 119, 'going': 120, 'call': 121, 'came': 122, 'bad': 123, 'tell': 124, 'where': 125, 'money': 126, 'well': 127, 'alone': 128, 'everyone': 129, 'went': 130, 'some': 131, 'busy': 132, \"i've\": 133, 'old': 134, 'job': 135, 'ready': 136, 'never': 137, 'does': 138, 'away': 139, \"we'll\": 140, 'tired': 141, 'ask': 142, 'loves': 143, \"she's\": 144, 'more': 145, 'read': 146, 'mine': 147, 'talk': 148, 'nobody': 149, 'looks': 150, 'hurt': 151, 'over': 152, 'angry': 153, 'could': 154, 'make': 155, 'hold': 156, \"who's\": 157, 'today': 158, 'man': 159, 'pay': 160, 'live': 161, 'left': 162, \"won't\": 163, 'play': 164, 'and': 165, 'big': 166, \"where's\": 167, 'about': 168, 'new': 169, 'ok': 170, 'felt': 171, 'watch': 172, 'wrong': 173, 'lot': 174, 'drink': 175, \"wasn't\": 176, 'sick': 177, 'gave': 178, 'said': 179, 'cold': 180, 'think': 181, 'hurry': 182, 'nice': 183, 'boy': 184, 'our': 185, 'cry': 186, 'drunk': 187, 'these': 188, 'way': 189, 'hungry': 190, 'sleep': 191, 'done': 192, 'sit': 193, 'put': 194, 'miss': 195, 'french': 196, 'boston': 197, 'hot': 198, 'turn': 199, 'from': 200, 'fun': 201, 'late': 202, 'died': 203, 'yours': 204, 'life': 205, 'should': 206, \"aren't\": 207, 'ate': 208, 'find': 209, 'speak': 210, 'true': 211, 'bought': 212, 'fine': 213, 'crazy': 214, 'open': 215, 'wants': 216, 'room': 217, 'name': 218, 'fast': 219, 'loved': 220, 'stupid': 221, 'nothing': 222, 'hear': 223, 'better': 224, 'run': 225, 'won': 226, 'trust': 227, 'walk': 228, \"we've\": 229, 'swim': 230, 'close': 231, 'best': 232, 'sing': 233, 'broke': 234, 'first': 235, 'both': 236, 'cat': 237, 'ran': 238, 'really': 239, 'off': 240, 'sad': 241, 'knows': 242, 'key': 243, 'understand': 244, 'two': 245, 'rich': 246, 'stand': 247, 'die': 248, 'buy': 249, 'coming': 250, 'great': 251, 'house': 252, 'friend': 253, 'hard': 254, 'bit': 255, 'called': 256, 'married': 257, 'singing': 258, 'kill': 259, 'when': 260, 'already': 261, 'hair': 262, 'free': 263, 'answer': 264, 'bed': 265, 'tall': 266, 'found': 267, 'remember': 268, 'father': 269, 'long': 270, 'write': 271, 'move': 272, 'start': 273, 'bring': 274, 'food': 275, 'wine': 276, 'show': 277, 'by': 278, 'easy': 279, 'knew': 280, \"how's\": 281, 'hope': 282, 'mad': 283, 'yes': 284, 'dead': 285, 'those': 286, 'everything': 287, 'quit': 288, 'listen': 289, 'safe': 290, 'tv': 291, \"i'd\": 292, 'bus': 293, 'day': 294, 'school': 295, 'doctor': 296, 'idea': 297, 'hit': 298, 'fat': 299, 'soon': 300, 'win': 301, 'young': 302, 'fish': 303, 'heard': 304, 'crying': 305, \"doesn't\": 306, 'lie': 307, 'looked': 308, 'forget': 309, 'early': 310, 'water': 311, 'yourself': 312, 'drive': 313, 'sat': 314, 'smart': 315, 'told': 316, 'needs': 317, 'sure': 318, 'hand': 319, 'wife': 320, 'lying': 321, 'milk': 322, 'needed': 323, 'eyes': 324, 'met': 325, 'coffee': 326, 'friends': 327, 'doing': 328, 'red': 329, 'shot': 330, 'enjoy': 331, 'liked': 332, 'smoke': 333, 'took': 334, 'almost': 335, 'son': 336, 'bag': 337, 'only': 338, 'much': 339, 'enemy': 340, 'mean': 341, 'cook': 342, 'eating': 343, 'study': 344, 'gone': 345, \"you'll\": 346, 'as': 347, 'reading': 348, \"there's\": 349, 'seen': 350, 'arm': 351, 'everybody': 352, 'teacher': 353, 'been': 354, 'kind': 355, 'fired': 356, 'helped': 357, 'tea': 358, 'rest': 359, 'check': 360, 'along': 361, 'face': 362, 'beer': 363, 'hat': 364, 'seems': 365, \"they'll\": 366, 'hates': 367, 'dream': 368, 'something': 369, 'care': 370, 'shy': 371, 'smiled': 372, 'follow': 373, 'awake': 374, 'cats': 375, 'wish': 376, 'myself': 377, 'sorry': 378, 'thanks': 379, 'real': 380, 'full': 381, 'works': 382, 'lucky': 383, 'boring': 384, 'break': 385, 'pretty': 386, 'door': 387, 'own': 388, 'kept': 389, 'fell': 390, 'hurts': 391, 'funny': 392, 'afraid': 393, 'enough': 394, 'running': 395, 'small': 396, 'tomorrow': 397, 'always': 398, 'fault': 399, 'mother': 400, 'yet': 401, 'lied': 402, 'cool': 403, 'dogs': 404, 'blind': 405, '30': 406, 'men': 407, 'smell': 408, 'later': 409, 'kids': 410, 'clean': 411, 'broken': 412, 'arrived': 413, 'talking': 414, 'things': 415, 'believe': 416, 'girl': 417, 'lives': 418, 'word': 419, 'hands': 420, 'began': 421, 'calm': 422, 'moved': 423, 'tried': 424, 'quiet': 425, 'forgot': 426, 'warm': 427, 'inside': 428, 'slowly': 429, 'last': 430, 'scared': 431, 'blue': 432, \"you've\": 433, \"it'll\": 434, 'stopped': 435, 'outside': 436, 'pen': 437, 'music': 438, 'useless': 439, 'lunch': 440, 'kid': 441, 'watching': 442, 'little': 443, 'hi': 444, 'fire': 445, 'fix': 446, 'guys': 447, 'kiss': 448, 'anyone': 449, 'patient': 450, 'hey': 451, 'meat': 452, 'promised': 453, 'hide': 454, 'snow': 455, 'naive': 456, 'working': 457, 'monday': 458, 'another': 459, 'short': 460, 'insane': 461, 'people': 462, 'phone': 463, 'truth': 464, 'perfect': 465, 'wake': 466, 'drank': 467, 'around': 468, 'cut': 469, 'blame': 470, 'bored': 471, 'secret': 472, \"here's\": 473, 'japanese': 474, 'owe': 475, 'family': 476, 'betrayed': 477, 'shoot': 478, 'shut': 479, 'brave': 480, 'failed': 481, 'use': 482, 'next': 483, 'warn': 484, 'fly': 485, 'dying': 486, 'idiot': 487, 'wrote': 488, 'moving': 489, 'alive': 490, 'night': 491, 'missed': 492, 'fight': 493, 'woman': 494, 'joke': 495, 'changed': 496, 'cheated': 497, 'might': 498, 'whose': 499, 'books': 500, 'joking': 501, 'black': 502, 'happen': 503, 'lawyer': 504, '2': 505, 'would': 506, 'which': 507, 'being': 508, 'sang': 509, 'fair': 510, 'hang': 511, 'weak': 512, 'catch': 513, 'laughed': 514, 'sign': 515, 'head': 516, 'trying': 517, 'kidding': 518, 'problem': 519, 'once': 520, 'begin': 521, 'count': 522, 'dance': 523, 'change': 524, 'rain': 525, 'person': 526, 'confused': 527, 'boss': 528, 'together': 529, 'beautiful': 530, 'thirsty': 531, 'plan': 532, 'dinner': 533, 'horse': 534, 'student': 535, 'keys': 536, 'wanted': 537, 'six': 538, 'seem': 539, 'brother': 540, 'shirt': 541, 'canadian': 542, \"someone's\": 543, 'agree': 544, 'push': 545, 'weird': 546, 'naked': 547, 'forgive': 548, 'liar': 549, 'normal': 550, 'single': 551, 'sleepy': 552, 'sweet': 553, 'white': 554, 'finish': 555, 'meet': 556, 'seat': 557, 'curious': 558, 'often': 559, 'nervous': 560, 'trapped': 561, 'cake': 562, 'explain': 563, 'tennis': 564, 'mom': 565, 'week': 566, 'dry': 567, 'breath': 568, 'tie': 569, 'into': 570, \"couldn't\": 571, 'game': 572, 'paid': 573, 'wet': 574, 'wash': 575, 'talked': 576, 'bald': 577, 'worked': 578, 'dark': 579, 'thank': 580, 'drove': 581, \"tom'll\": 582, 'careful': 583, 'survived': 584, 'empty': 585, \"that'll\": 586, 'luck': 587, 'anybody': 588, 'worry': 589, 'waiting': 590, 'rules': 591, 'gun': 592, 'lonely': 593, 'studying': 594, 'fill': 595, 'caught': 596, 'listening': 597, 'touch': 598, 'somebody': 599, 'fishing': 600, 'also': 601, 'child': 602, 'mouth': 603, 'story': 604, 'war': 605, 'smile': 606, 'beat': 607, 'helps': 608, 'save': 609, 'after': 610, 'far': 611, 'ours': 612, 'cried': 613, 'serious': 614, 'god': 615, 'rice': 616, 'cheese': 617, 'strong': 618, 'soup': 619, 'jealous': 620, 'shall': 621, 'pain': 622, 'shoes': 623, 'absent': 624, 'box': 625, 'someone': 626, 'smoking': 627, 'english': 628, 'asleep': 629, 'worse': 630, 'sounds': 631, 'duty': 632, 'guy': 633, 'feeling': 634, 'killed': 635, 'trouble': 636, 'sister': 637, 'noise': 638, 'hug': 639, 'slow': 640, 'slept': 641, 'join': 642, 'welcome': 643, 'waited': 644, 'woke': 645, 'walks': 646, 'step': 647, 'breathe': 648, 'guess': 649, 'ice': 650, 'hero': 651, 'town': 652, 'hated': 653, 'dumb': 654, 'cash': 655, 'news': 656, 'baffled': 657, 'worried': 658, 'doll': 659, 'simple': 660, 'anything': 661, 'mind': 662, 'women': 663, 'sleeping': 664, 'writing': 665, \"they've\": 666, 'laughing': 667, 'horses': 668, 'deal': 669, 'advice': 670, 'ball': 671, 'letter': 672, 'raise': 673, 'glasses': 674, 'swimming': 675, 'born': 676, 'speaks': 677, 'paper': 678, 'grab': 679, 'cute': 680, 'deep': 681, 'agreed': 682, 'refuse': 683, 'deaf': 684, 'okay': 685, 'poor': 686, 'birds': 687, 'stood': 688, 'guilty': 689, 'hiding': 690, 'vote': 691, 'walked': 692, 'cheered': 693, 'prepared': 694, 'share': 695, 'fruit': 696, 'sell': 697, 'excited': 698, 'saved': 699, 'mess': 700, 'song': 701, 'return': 702, 'hugged': 703, 'lose': 704, 'bear': 705, 'or': 706, 'pizza': 707, 'dreaming': 708, 'nose': 709, 'became': 710, 'summer': 711, 'light': 712, 'trusted': 713, 'abroad': 714, 'forgetful': 715, 'important': 716, 'satisfied': 717, 'clever': 718, 'second': 719, 'winning': 720, 'form': 721, 'used': 722, 'apple': 723, 'truck': 724, 'undressing': 725, 'wonderful': 726, 'throw': 727, 'end': 728, 'bank': 729, 'getting': 730, 'matter': 731, \"one's\": 732, 'jump': 733, 'ahead': 734, 'spoke': 735, 'stayed': 736, 'lazy': 737, 'honest': 738, 'fantastic': 739, 'voted': 740, 'yell': 741, 'cruel': 742, 'glad': 743, 'closer': 744, 'laugh': 745, 'strange': 746, 'asked': 747, 'golf': 748, 'gas': 749, 'cooking': 750, 'happened': 751, 'talks': 752, 'kissed': 753, 'evil': 754, 'upset': 755, 'quickly': 756, 'finished': 757, 'thrilled': 758, 'learn': 759, 'point': 760, 'ended': 761, 'shame': 762, 'pale': 763, 'soccer': 764, 'bath': 765, 'budge': 766, 'danger': 767, 'diet': 768, 'famous': 769, 'minute': 770, 'send': 771, 'cheap': 772, 'copy': 773, 'cup': 774, 'turned': 775, 'robbed': 776, 'favor': 777, 'mistake': 778, 'side': 779, 'table': 780, 'carefully': 781, 'lit': 782, 'choice': 783, 'tonight': 784, 'park': 785, 'relax': 786, 'drop': 787, 'goodbye': 788, 'lock': 789, 'jumped': 790, 'ugly': 791, 'hers': 792, 'doubt': 793, 'fixed': 794, 'screamed': 795, 'eaten': 796, 'cheat': 797, 'bread': 798, 'dizzy': 799, 'cars': 800, 'dancing': 801, 'healthy': 802, 'leaving': 803, 'trap': 804, 'many': 805, 'twins': 806, 'nuts': 807, 'age': 808, 'bother': 809, 'upstairs': 810, 'half': 811, 'apples': 812, 'innocent': 813, 'restless': 814, 'smiling': 815, 'closely': 816, 'feet': 817, 'control': 818, 'losing': 819, 'deny': 820, 'rush': 821, 'type': 822, 'sells': 823, 'finally': 824, 'spring': 825, 'watched': 826, 'raining': 827, 'takes': 828, 'foot': 829, 'boat': 830, 'clearly': 831, 'japan': 832, 'map': 833, 'proud': 834, 'towel': 835, 'city': 836, 'rather': 837, 'behind': 838, 'if': 839, 'sore': 840, 'correct': 841, 'missing': 842, 'brothers': 843, 'legs': 844, 'writes': 845, 'children': 846, 'dangerous': 847, 'maybe': 848, 'cousin': 849, 'place': 850, 'easily': 851, 'brown': 852, 'himself': 853, 'attack': 854, 'fit': 855, 'phoned': 856, 'lies': 857, \"who'll\": 858, 'aboard': 859, 'facts': 860, 'ill': 861, 'green': 862, 'magic': 863, 'fail': 864, 'even': 865, 'eggs': 866, 'unlucky': 867, 'party': 868, 'pity': 869, 'scream': 870, 'fear': 871, 'annoying': 872, 'doubts': 873, 'meant': 874, 'misled': 875, 'sugar': 876, 'warned': 877, 'ears': 878, 'divorced': 879, 'angel': 880, 'amazing': 881, 'snowing': 882, 'looking': 883, 'command': 884, 'answered': 885, 'closed': 886, 'bird': 887, 'comes': 888, 'sports': 889, 'allow': 890, 'unfair': 891, 'babbling': 892, 'girls': 893, 'law': 894, 'sound': 895, 'deeply': 896, 'complain': 897, 'knife': 898, \"everyone's\": 899, 'uncle': 900, 'arrested': 901, 'animals': 902, 'teach': 903, 'unemployed': 904, 'sale': 905, 'continue': 906, 'desk': 907, 'bite': 908, 'police': 909, 'voice': 910, 'sky': 911, 'cap': 912, 'drinking': 913, 'bicycle': 914, 'yesterday': 915, \"haven't\": 916, 'movie': 917, 'happening': 918, 'crime': 919, \"he'll\": 920, 'driver': 921, 'hello': 922, 'hid': 923, 'oh': 924, 'brief': 925, 'resign': 926, 'odd': 927, 'awful': 928, 'ski': 929, 'fainted': 930, 'ignore': 931, 'burned': 932, 'loosen': 933, 'seize': 934, 'tight': 935, 'hired': 936, 'carry': 937, 'choose': 938, 'human': 939, 'faster': 940, 'skinny': 941, 'windy': 942, 'sharp': 943, 'drinks': 944, 'tough': 945, 'decide': 946, 'started': 947, 'crashed': 948, 'decided': 949, 'team': 950, 'invited': 951, 'confident': 952, 'blood': 953, 'egg': 954, 'framed': 955, 'chess': 956, 'games': 957, 'sue': 958, 'adult': 959, 'panicked': 960, 'shopping': 961, 'worn': 962, 'deer': 963, 'cancer': 964, 'burn': 965, 'leg': 966, 'dreams': 967, 'boys': 968, 'canceled': 969, 'rude': 970, 'downstairs': 971, 'ignored': 972, 'smells': 973, 'delicious': 974, 'american': 975, 'badly': 976, 'ring': 977, 'dad': 978, 'supper': 979, 'nearly': 980, 'ride': 981, 'respect': 982, 'easygoing': 983, 'impatient': 984, 'charge': 985, 'worth': 986, 'theirs': 987, 'rose': 988, 'adores': 989, 'remembers': 990, 'survive': 991, 'doctors': 992, 'parents': 993, 'special': 994, 'hassle': 995, 'thinks': 996, 'baby': 997, 'knee': 998, 'cows': 999, 'genius': 1000, 'plays': 1001, 'sisters': 1002, 'wide': 1003, 'likely': 1004, 'hour': 1005, 'their': 1006, \"nobody's\": 1007, 'bill': 1008, 'ticket': 1009, 'creep': 1010, 'says': 1011, 'seemed': 1012, 'set': 1013, 'wore': 1014, 'thirty': 1015, 'trip': 1016, 'every': 1017, 'played': 1018, 'embarrassed': 1019, 'radio': 1020, 'same': 1021, 'seeing': 1022, 'cards': 1023, 'yourselves': 1024, 'hotel': 1025, 'order': 1026, 'ever': 1027, 'disturb': 1028, 'juice': 1029, 'keeps': 1030, 'intelligent': 1031, 'pick': 1032, 'video': 1033, 'computer': 1034, 'escaping': 1035, 'figure': 1036, 'wept': 1037, 'bowed': 1038, 'shaved': 1039, 'wise': 1040, 'taste': 1041, 'tripped': 1042, 'rained': 1043, 'stinks': 1044, 'then': 1045, 'quick': 1046, 'hung': 1047, 'air': 1048, 'twin': 1049, 'happens': 1050, 'pray': 1051, 'lift': 1052, 'alert': 1053, \"this'll\": 1054, 'obeyed': 1055, 'creative': 1056, 'punctual': 1057, 'shout': 1058, 'coin': 1059, 'math': 1060, 'overslept': 1061, 'lips': 1062, 'loser': 1063, 'popular': 1064, 'through': 1065, 'list': 1066, 'fox': 1067, 'thief': 1068, 'huge': 1069, 'escaped': 1070, 'painted': 1071, 'refused': 1072, 'relaxed': 1073, 'ship': 1074, 'fbi': 1075, 'examine': 1076, 'kicked': 1077, 'injured': 1078, 'sushi': 1079, 'cab': 1080, 'pregnant': 1081, 'fake': 1082, 'amusing': 1083, 'lawn': 1084, 'pull': 1085, 'focused': 1086, 'built': 1087, 'ink': 1088, 'years': 1089, 'grown': 1090, 'body': 1091, 'few': 1092, 'accept': 1093, 'contributed': 1094, 'deserved': 1095, 'despise': 1096, 'winter': 1097, 'skiing': 1098, 'trains': 1099, 'prefer': 1100, 'rescued': 1101, 'prove': 1102, 'desperate': 1103, 'exhausted': 1104, 'expecting': 1105, 'gets': 1106, 'hoax': 1107, 'fighting': 1108, 'peace': 1109, 'gentle': 1110, 'line': 1111, 'suit': 1112, 'number': 1113, 'stingy': 1114, 'trusts': 1115, 'helping': 1116, 'calling': 1117, 'racist': 1118, \"dinner's\": 1119, 'year': 1120, 'kite': 1121, 'scolded': 1122, 'surrendered': 1123, 'animal': 1124, 'disgusting': 1125, 'high': 1126, 'brought': 1127, 'followed': 1128, 'parties': 1129, 'spiders': 1130, 'checked': 1131, 'chicken': 1132, 'flowers': 1133, 'korean': 1134, 'having': 1135, 'excuse': 1136, 'heavy': 1137, 'tag': 1138, 'heart': 1139, 'drugs': 1140, 'shook': 1141, 'hopeless': 1142, 'clock': 1143, 'husband': 1144, 'fool': 1145, 'death': 1146, 'guessed': 1147, 'pencil': 1148, 'ordered': 1149, 'chance': 1150, 'totally': 1151, 'taxi': 1152, 'aware': 1153, 'defenseless': 1154, 'vacation': 1155, 'quite': 1156, 'bugs': 1157, 'pure': 1158, 'singer': 1159, \"somebody's\": 1160, 'aspirin': 1161, 'pathetic': 1162, 'gorgeous': 1163, 'any': 1164, 'students': 1165, 'tank': 1166, 'diary': 1167, 'debt': 1168, 'terrified': 1169, 'health': 1170, 'eye': 1171, 'america': 1172, 'sunny': 1173, 'complaining': 1174, 'pool': 1175, 'cannot': 1176, 'traitor': 1177, 'train': 1178, 'thing': 1179, 'bothering': 1180, 'wow': 1181, 'fled': 1182, 'prayed': 1183, 'thin': 1184, 'runs': 1185, 'aim': 1186, 'course': 1187, 'above': 1188, 'cared': 1189, '18': 1190, 'faith': 1191, 'lovely': 1192, 'admit': 1193, 'envy': 1194, 'resigned': 1195, 'threw': 1196, 'cd': 1197, 'notes': 1198, 'nap': 1199, 'drives': 1200, 'cds': 1201, 'wood': 1202, 'discreet': 1203, 'thorough': 1204, 'grew': 1205, 'eight': 1206, 'nasty': 1207, 'jerk': 1208, 'apologize': 1209, 'sand': 1210, 'rock': 1211, 'taxes': 1212, 'ufo': 1213, 'attend': 1214, 'furious': 1215, 'jittery': 1216, 'psyched': 1217, 'sloshed': 1218, 'harp': 1219, 'rule': 1220, 'memorize': 1221, 'teaches': 1222, 'objective': 1223, 'exist': 1224, 'touching': 1225, 'faint': 1226, 'beans': 1227, 'plans': 1228, 'candy': 1229, 'bet': 1230, 'paint': 1231, 'raised': 1232, 'lion': 1233, 'twice': 1234, 'coward': 1235, 'writer': 1236, 'barefoot': 1237, 'drowning': 1238, 'freezing': 1239, 'gullible': 1240, 'stubborn': 1241, 'thinking': 1242, 'wolf': 1243, 'gross': 1244, 'walking': 1245, 'quietly': 1246, 'mow': 1247, 'rent': 1248, 'whining': 1249, 'gold': 1250, 'approved': 1251, 'bores': 1252, 'silly': 1253, 'applauded': 1254, 'succeeded': 1255, 'shock': 1256, 'waste': 1257, 'sent': 1258, 'mistaken': 1259, 'security': 1260, 'skate': 1261, 'dishes': 1262, 'healthily': 1263, 'sec': 1264, 'eats': 1265, 'pinched': 1266, 'adorable': 1267, 'rope': 1268, 'admired': 1269, 'part': 1270, 'fed': 1271, 'visa': 1272, 'hiking': 1273, 'resist': 1274, 'mouse': 1275, 'crown': 1276, 'sold': 1277, 'volunteered': 1278, 'poems': 1279, 'impressed': 1280, 'returned': 1281, 'saturday': 1282, 'business': 1283, 'exciting': 1284, 'paddling': 1285, 'gate': 1286, 'neck': 1287, 'shouting': 1288, 'stuff': 1289, 'adopted': 1290, 'moment': 1291, 'floor': 1292, 'cousins': 1293, 'staying': 1294, 'polite': 1295, 'disappeared': 1296, 'sons': 1297, 'slapped': 1298, 'depressed': 1299, 'borrow': 1300, 'stroke': 1301, 'flute': 1302, 'cookies': 1303, 'sun': 1304, 'five': 1305, 'usually': 1306, 'glass': 1307, 'popcorn': 1308, 'abducted': 1309, 'sweating': 1310, 'handle': 1311, 'diabetic': 1312, 'interested': 1313, 'christmas': 1314, 'expensive': 1315, 'pack': 1316, 'prices': 1317, 'cooks': 1318, 'ditched': 1319, 'roses': 1320, 'misses': 1321, 'appeared': 1322, 'obvious': 1323, 'leaks': 1324, 'blew': 1325, 'dice': 1326, 'forgave': 1327, 'intervened': 1328, 'blond': 1329, 'guest': 1330, \"we'd\": 1331, 'speaking': 1332, 'wipe': 1333, 'capsized': 1334, 'bears': 1335, 'whistle': 1336, 'cover': 1337, 'meal': 1338, 'store': 1339, 'dawn': 1340, 'camera': 1341, 'tokyo': 1342, 'goats': 1343, 'helpless': 1344, 'fever': 1345, 'learning': 1346, 'shower': 1347, 'mayor': 1348, 'bell': 1349, 'evidence': 1350, 'color': 1351, 'friday': 1352, 'fabulous': 1353, 'handmade': 1354, 'shortcut': 1355, 'practicing': 1356, 'kites': 1357, 'office': 1358, 'gray': 1359, 'pass': 1360, 'nosy': 1361, 'hurting': 1362, 'opened': 1363, 'fate': 1364, 'piano': 1365, 'rabbits': 1366, 'weight': 1367, 'stole': 1368, 'shocked': 1369, 'wears': 1370, 'teachers': 1371, 'zoo': 1372, 'signed': 1373, 'past': 1374, 'dragons': 1375, 'teeth': 1376, 'deceive': 1377, 'laughs': 1378, \"everybody's\": 1379, 'costs': 1380, 'umbrella': 1381, 'croissant': 1382, 'college': 1383, 'expect': 1384, 'traveling': 1385, 'cream': 1386, 'breakfast': 1387, 'band': 1388, 'regret': 1389, 'class': 1390, 'lower': 1391, 'tomboy': 1392, 'scarf': 1393, 'taught': 1394, 'revenge': 1395, 'socks': 1396, 'saying': 1397, 'corrected': 1398, 'guitar': 1399, 'leader': 1400, 'invite': 1401, 'escape': 1402, 'pleased': 1403, 'wallet': 1404, 'weapons': 1405, \"everything's\": 1406, 'knees': 1407, 'but': 1408, 'heed': 1409, 'warnings': 1410, 'earring': 1411, 'decision': 1412, 'plug': 1413, 'leak': 1414, 'silence': 1415, 'golden': 1416, 'bug': 1417, \"weren't\": 1418, 'flight': 1419, 'patience': 1420, 'pockets': 1421, 'tells': 1422, 'robots': 1423, 'excuses': 1424, 'playing': 1425, 'king': 1426, 'banged': 1427, 'position': 1428, 'tomato': 1429, '19': 1430, 'awesome': 1431, 'froze': 1432, 'low': 1433, 'tries': 1434, 'humor': 1435, 'swam': 1436, 'bless': 1437, 'kneeled': 1438, 'cares': 1439, 'waved': 1440, 'burns': 1441, 'chuckled': 1442, 'art': 1443, 'pie': 1444, 'buying': 1445, 'clumsy': 1446, 'greedy': 1447, 'begun': 1448, 'aside': 1449, 'flies': 1450, 'danced': 1451, 'fought': 1452, 'gasped': 1453, 'rested': 1454, 'winked': 1455, 'yelled': 1456, 'obey': 1457, 'gives': 1458, 'specific': 1459, 'tolerant': 1460, 'flip': 1461, 'dressed': 1462, 'straight': 1463, 'mice': 1464, 'rats': 1465, 'beef': 1466, 'engaged': 1467, 'jail': 1468, 'selfish': 1469, 'chilly': 1470, 'silent': 1471, 'timing': 1472, 'card': 1473, \"tv's\": 1474, 'drowned': 1475, 'listens': 1476, 'shouted': 1477, 'act': 1478, 'stuck': 1479, 'arrive': 1480, 'attentive': 1481, 'realistic': 1482, 'anytime': 1483, 'describe': 1484, 'snore': 1485, 'ghosts': 1486, 'morning': 1487, 'courage': 1488, 'driven': 1489, 'dieting': 1490, 'romantic': 1491, 'caviar': 1492, 'carded': 1493, 'opera': 1494, 'cow': 1495, 'honey': 1496, 'space': 1497, 'star': 1498, 'risk': 1499, 'ex': 1500, 'priest': 1501, 'actor': 1502, 'doubtful': 1503, 'famished': 1504, 'rebel': 1505, 'outraged': 1506, 'relieved': 1507, 'iron': 1508, 'driving': 1509, 'goes': 1510, \"life's\": 1511, 'jaw': 1512, 'louder': 1513, 'softly': 1514, 'arguing': 1515, 'grow': 1516, 'cop': 1517, 'harsh': 1518, 'witty': 1519, 'relented': 1520, 'adults': 1521, 'pays': 1522, 'passed': 1523, 'scare': 1524, 'included': 1525, 'talented': 1526, 'idiots': 1527, 'expert': 1528, 'respond': 1529, 'draw': 1530, 'feed': 1531, 'hole': 1532, 'sneezing': 1533, 'enter': 1534, 'caused': 1535, 'steal': 1536, 'exaggerated': 1537, 'movies': 1538, 'nature': 1539, 'violin': 1540, 'queen': 1541, 'swimmer': 1542, 'addict': 1543, 'orphan': 1544, 'horrified': 1545, 'motivated': 1546, 'uninsured': 1547, 'painful': 1548, 'gift': 1549, 'test': 1550, 'weapon': 1551, 'treat': 1552, 'loud': 1553, 'gambling': 1554, 'model': 1555, 'positive': 1556, 'stir': 1557, 'sweep': 1558, 'tastes': 1559, 'absurd': 1560, 'creepy': 1561, 'hesitated': 1562, 'winded': 1563, 'joined': 1564, 'scares': 1565, 'dirty': 1566, 'violent': 1567, 'till': 1568, 'succeed': 1569, 'nonsense': 1570, 'modest': 1571, 'add': 1572, \"ain't\": 1573, 'lay': 1574, 'grass': 1575, 'hasty': 1576, 'mug': 1577, 'golfer': 1578, 'respects': 1579, 'prison': 1580, 'homesick': 1581, 'carrots': 1582, 'spinach': 1583, 'cough': 1584, 'hunch': 1585, 'ranch': 1586, 'hurried': 1587, 'mahjong': 1588, 'harm': 1589, 'answers': 1590, 'travel': 1591, 'punished': 1592, 'puppy': 1593, 'bleeding': 1594, 'insulted': 1595, 'wear': 1596, 'beginner': 1597, 'musician': 1598, 'astonished': 1599, 'devastated': 1600, 'fascinated': 1601, 'making': 1602, 'meditating': 1603, 'optimistic': 1604, 'oldest': 1605, 'blunt': 1606, 'earned': 1607, 'different': 1608, 'improving': 1609, 'risky': 1610, 'prepare': 1611, 'choked': 1612, 'fooled': 1613, 'bike': 1614, 'screaming': 1615, 'evident': 1616, 'helpful': 1617, 'yellow': 1618, 'ford': 1619, 'shallow': 1620, 'charming': 1621, 'stranded': 1622, 'country': 1623, 'causes': 1624, \"what'd\": 1625, 'paris': 1626, 'glowing': 1627, 'wealthy': 1628, 'ghost': 1629, 'bees': 1630, 'clear': 1631, 'arms': 1632, 'ten': 1633, 'painter': 1634, 'unmarried': 1635, 'tigers': 1636, 'gloomy': 1637, 'stared': 1638, 'tongue': 1639, 'cooked': 1640, 'finger': 1641, 'terrible': 1642, 'sunburned': 1643, 'weddings': 1644, 'skin': 1645, 'homework': 1646, 'pens': 1647, 'jobs': 1648, 'learned': 1649, 'laptop': 1650, 'rang': 1651, 'studied': 1652, 'surprised': 1653, '10': 1654, 'policeman': 1655, 'able': 1656, 'comfortable': 1657, 'asking': 1658, 'responsible': 1659, 'truly': 1660, 'breathing': 1661, 'river': 1662, 'payday': 1663, 'honor': 1664, 'impossible': 1665, 'incredible': 1666, 'visit': 1667, 'served': 1668, 'smaller': 1669, \"mary's\": 1670, 'changes': 1671, 'repeat': 1672, 'mail': 1673, 'tied': 1674, 'alarm': 1675, 'dress': 1676, 'lake': 1677, 'soldier': 1678, 'held': 1679, 'believes': 1680, 'deranged': 1681, 'lived': 1682, 'jokes': 1683, 'conscious': 1684, 'lack': 1685, 'ideas': 1686, 'available': 1687, 'newlyweds': 1688, 'separated': 1689, 'disaster': 1690, 'coat': 1691, 'menace': 1692, 'wings': 1693, 'apply': 1694, 'normally': 1695, 'brush': 1696, 'solve': 1697, 'mirror': 1698, 'concentrate': 1699, 'cross': 1700, 'lecture': 1701, 'meals': 1702, 'stairs': 1703, 'france': 1704, 'unconscious': 1705, \"how're\": 1706, 'violence': 1707, 'appreciate': 1708, 'hardly': 1709, 'chocolate': 1710, 'computers': 1711, 'hypocrisy': 1712, 'cancel': 1713, 'australia': 1714, 'near': 1715, 'tree': 1716, 'recognized': 1717, 'unhappy': 1718, 'protect': 1719, 'translator': 1720, 'homeschooled': 1721, 'housesitting': 1722, 'wasting': 1723, 'scary': 1724, 'noon': 1725, 'probably': 1726, 'kick': 1727, 'candle': 1728, 'smokes': 1729, 'pants': 1730, 'pulse': 1731, 'studies': 1732, 'confusing': 1733, 'burst': 1734, 'race': 1735, 'storm': 1736, 'entered': 1737, 'coach': 1738, 'abandoned': 1739, 'deceitful': 1740, 'calmly': 1741, 'tortured': 1742, 'toss': 1743, 'unreliable': 1744, 'match': 1745, \"shouldn't\": 1746, 'admission': 1747, 'arrest': 1748, 'question': 1749, 'hospital': 1750, 'pet': 1751, 'makes': 1752, 'picture': 1753, 'taking': 1754, 'screw': 1755, 'enjoyed': 1756, 'ends': 1757, 'goal': 1758, 'jacket': 1759, 'mood': 1760, 'persuaded': 1761, 'neighbor': 1762, 'heavily': 1763, 'rising': 1764, 'living': 1765, 'aggressive': 1766, 'secrets': 1767, 'advance': 1768, 'essential': 1769, 'silver': 1770, 'ridiculous': 1771, 'dull': 1772, 'worst': 1773, 'bucket': 1774, 'flat': 1775, 'believer': 1776, 'magician': 1777, 'murderer': 1778, 'happiness': 1779, 'example': 1780, 'garden': 1781, 'packed': 1782, 'duck': 1783, 'fold': 1784, 'cheer': 1785, 'cursed': 1786, 'sighed': 1787, 'tidy': 1788, 'marry': 1789, 'terrific': 1790, 'dj': 1791, 'beg': 1792, 'exhaled': 1793, 'grinned': 1794, 'snowed': 1795, '8': 1796, 'dozed': 1797, 'unlock': 1798, 'yawned': 1799, 'stink': 1800, 'higher': 1801, 'south': 1802, 'lingered': 1803, 'twelve': 1804, 'jesus': 1805, 'chat': 1806, 'comment': 1807, 'agrees': 1808, 'cheats': 1809, 'dances': 1810, 'sensible': 1811, 'comfort': 1812, 'contact': 1813, 'guts': 1814, 'dozing': 1815, 'exercised': 1816, 'jazz': 1817, 'fasting': 1818, 'finicky': 1819, 'fragile': 1820, 'starved': 1821, 'yen': 1822, 'vice': 1823, 'cloudy': 1824, 'means': 1825, 'blushed': 1826, 'clapped': 1827, 'giggled': 1828, 'prepaid': 1829, 'retired': 1830, 'sweated': 1831, 'bore': 1832, 'dope': 1833, 'loss': 1834, 'boil': 1835, 'forward': 1836, 'safely': 1837, 'roof': 1838, 'easter': 1839, 'donut': 1840, 'snack': 1841, 'avoids': 1842, 'cranky': 1843, 'arrogant': 1844, 'horrible': 1845, 'admire': 1846, 'chinese': 1847, 'praying': 1848, 'apologized': 1849, 'lip': 1850, 'detest': 1851, 'woozy': 1852, 'trips': 1853, 'wonder': 1854, 'surfer': 1855, 'agent': 1856, 'anorexic': 1857, 'autistic': 1858, 'dyslexic': 1859, 'grateful': 1860, 'grounded': 1861, 'hesitant': 1862, 'saint': 1863, 'starting': 1864, 'solid': 1865, 'curse': 1866, 'trick': 1867, 'bedtime': 1868, 'digging': 1869, 'pigs': 1870, 'recess': 1871, \"school's\": 1872, 'sued': 1873, 'pushing': 1874, 'yelling': 1875, 'harder': 1876, 'switch': 1877, 'approve': 1878, 'vet': 1879, 'loyal': 1880, 'picky': 1881, 'listened': 1882, 'shrugged': 1883, 'stutters': 1884, 'vanished': 1885, 'stoned': 1886, 'strict': 1887, 'unbelievable': 1888, 'humans': 1889, 'pooped': 1890, 'paying': 1891, 'pig': 1892, 'cops': 1893, 'reasonable': 1894, 'respectful': 1895, 'supportive': 1896, 'beware': 1897, 'circle': 1898, 'wins': 1899, 'fry': 1900, 'dug': 1901, 'sexist': 1902, 'demented': 1903, 'friendly': 1904, 'calls': 1905, 'honk': 1906, 'horn': 1907, 'thrilling': 1908, 'coughing': 1909, 'blacked': 1910, 'bmw': 1911, 'freaked': 1912, 'flying': 1913, 'bomb': 1914, 'voices': 1915, 'fall': 1916, 'camels': 1917, 'tulips': 1918, 'baking': 1919, 'crew': 1920, 'oppose': 1921, 'outrank': 1922, 'motel': 1923, 'plane': 1924, 'support': 1925, 'unarmed': 1926, 'referee': 1927, 'tourist': 1928, 'witness': 1929, 'artist': 1930, 'impartial': 1931, 'intrigued': 1932, 'bossy': 1933, 'strike': 1934, 'sensitive': 1935, 'improved': 1936, 'llama': 1937, 'private': 1938, 'bat': 1939, 'wig': 1940, 'legal': 1941, 'gag': 1942, 'apart': 1943, 'ironic': 1944, '00': 1945, 'official': 1946, 'italian': 1947, 'offer': 1948, 'aches': 1949, \"name's\": 1950, 'owls': 1951, 'attention': 1952, 'robe': 1953, 'russia': 1954, 'shake': 1955, 'beside': 1956, 'anyway': 1957, 'freaky': 1958, 'embraced': 1959, 'spies': 1960, 'graduated': 1961, 'sheep': 1962, 'hoot': 1963, 'wimp': 1964, 'fierce': 1965, 'wicked': 1966, 'staggered': 1967, '13': 1968, 'snoring': 1969, 'wax': 1970, 'doomed': 1971, 'enemies': 1972, 'lawyers': 1973, 'sinking': 1974, 'relief': 1975, 'responded': 1976, 'morons': 1977, 'coke': 1978, 'hiring': 1979, 'promise': 1980, 'annoy': 1981, 'tempt': 1982, 'scarce': 1983, 'van': 1984, 'hint': 1985, 'goodnight': 1986, 'holidays': 1987, 'accelerated': 1988, 'flew': 1989, '12': 1990, 'beard': 1991, 'slacker': 1992, 'believed': 1993, 'log': 1994, 'deserve': 1995, 'dislike': 1996, 'notice': 1997, 'honored': 1998, 'insects': 1999, 'ironing': 2000, 'noodles': 2001, 'picnics': 2002, 'seafood': 2003, 'stories': 2004, 'upstate': 2005, 'harvard': 2006, 'sunsets': 2007, '100': 2008, 'plead': 2009, 'sneeze': 2010, 'justice': 2011, 'teaching': 2012, 'direct': 2013, 'scold': 2014, 'salesman': 2015, 'atheist': 2016, 'diplomatic': 2017, 'kyoto': 2018, 'remodeling': 2019, 'speechless': 2020, 'using': 2021, 'possible': 2022, 'planned': 2023, 'wednesday': 2024, 'classic': 2025, 'gimmick': 2026, 'beyond': 2027, 'identical': 2028, 'large': 2029, 'lend': 2030, 'power': 2031, 'ache': 2032, 'itches': 2033, \"nothing's\": 2034, 'hatch': 2035, 'bags': 2036, 'dumped': 2037, 'nurse': 2038, 'sings': 2039, 'teased': 2040, 'beauty': 2041, 'gossiping': 2042, 'grumbling': 2043, 'whistling': 2044, 'farce': 2045, 'hogwash': 2046, 'immoral': 2047, 'obscene': 2048, 'suicide': 2049, 'flag': 2050, 'ruined': 2051, 'struggled': 2052, 'bites': 2053, '65': 2054, 'improvised': 2055, 'ashamed': 2056, 'devious': 2057, 'naughty': 2058, 'wounded': 2059, 'remembered': 2060, 'understood': 2061, 'humble': 2062, 'cheating': 2063, 'kicking': 2064, 'front': 2065, 'plenty': 2066, 'letdown': 2067, 'thought': 2068, 'tragedy': 2069, 'else': 2070, 'wind': 2071, 'disgust': 2072, 'present': 2073, 'instead': 2074, 'suits': 2075, 'chip': 2076, 'defend': 2077, 'dig': 2078, 'remind': 2079, 'pills': 2080, 'cane': 2081, '7': 2082, 'jeans': 2083, 'ethiopian': 2084, 'dreamer': 2085, 'standing': 2086, 'comedian': 2087, 'gardener': 2088, 'id': 2089, 'interesting': 2090, 'afford': 2091, 'eel': 2092, 'tomatoes': 2093, 'football': 2094, 'goatee': 2095, 'insomnia': 2096, 'ankle': 2097, 'elbow': 2098, 'cartoons': 2099, 'heat': 2100, 'eggplant': 2101, 'misunderstood': 2102, 'ladder': 2103, 'shave': 2104, 'relied': 2105, 'refund': 2106, 'mommy': 2107, 'concerned': 2108, 'dismissed': 2109, 'skeptical': 2110, \"wouldn't\": 2111, 'fork': 2112, 'arrange': 2113, 'assist': 2114, 'notify': 2115, 'double': 2116, 'reward': 2117, 'biologist': 2118, 'carpenter': 2119, 'detective': 2120, 'lifeguard': 2121, 'owl': 2122, 'engineer': 2123, 'begging': 2124, 'extroverted': 2125, 'canada': 2126, 'frying': 2127, 'pickle': 2128, 'hunting': 2129, 'handed': 2130, 'minded': 2131, 'overwhelmed': 2132, 'such': 2133, 'dork': 2134, 'surprise': 2135, 'irrelevant': 2136, 'damp': 2137, 'sweltering': 2138, 'wrap': 2139, 'koalas': 2140, 'lead': 2141, 'message': 2142, 'lemons': 2143, 'sour': 2144, 'ditch': 2145, 'niece': 2146, 'bottle': 2147, 'stabbed': 2148, 'panting': 2149, 'assertive': 2150, 'coughed': 2151, 'squabbling': 2152, 'church': 2153, 'leaves': 2154, 'moon': 2155, 'net': 2156, 'sea': 2157, 'feared': 2158, 'interns': 2159, \"book's\": 2160, 'spot': 2161, 'gifts': 2162, 'times': 2163, 'each': 2164, 'legend': 2165, 'bluffing': 2166, 'handsome': 2167, 'involved': 2168, 'likeable': 2169, 'texted': 2170, 'remain': 2171, 'suffer': 2172, 'sometime': 2173, 'waffles': 2174, 'canadians': 2175, 'prisoners': 2176, 'stolen': 2177, 'stake': 2178, 'comb': 2179, 'words': 2180, \"you'd\": 2181, 'decisive': 2182, 'stalling': 2183, 'than': 2184, 'accidents': 2185, 'flexible': 2186, 'inbox': 2187, 'window': 2188, 'immediately': 2189, 'foolish': 2190, 'glum': 2191, 'reason': 2192, 'sword': 2193, 'without': 2194, 'eggnog': 2195, 'recently': 2196, 'picasso': 2197, 'pajamas': 2198, 'overweight': 2199, 'oranges': 2200, 'remained': 2201, 'ipad': 2202, 'gentleman': 2203, 'stark': 2204, 'abhor': 2205, 'professor': 2206, 'against': 2207, 'brazil': 2208, 'sweat': 2209, 'bananas': 2210, 'politely': 2211, 'bumped': 2212, 'earlier': 2213, 'flu': 2214, 'haggling': 2215, 'powerless': 2216, 'surprises': 2217, 'fresh': 2218, 'beach': 2219, 'yolks': 2220, 'soap': 2221, 'outsmarted': 2222, 'mile': 2223, 'label': 2224, 'visited': 2225, 'divorce': 2226, 'dumbstruck': 2227, 'salad': 2228, 'citizen': 2229, 'insomniac': 2230, 'member': 2231, 'suicidal': 2232, 'smartest': 2233, 'suspect': 2234, 'coma': 2235, 'reachable': 2236, 'contagious': 2237, 'suitable': 2238, 'virus': 2239, 'hours': 2240, 'complicated': 2241, 'logical': 2242, 'unusual': 2243, 'sofa': 2244, 'destiny': 2245, 'unlikely': 2246, 'asia': 2247, 'informed': 2248, 'repair': 2249, 'tiny': 2250, 'itchy': 2251, 'stomach': 2252, 'toy': 2253, 'beats': 2254, 'showed': 2255, 'gain': 2256, 'windows': 2257, 'ketchup': 2258, 'mask': 2259, 'weep': 2260, 'rome': 2261, 'italy': 2262, 'despised': 2263, 'despises': 2264, 'reply': 2265, 'rejected': 2266, 'worships': 2267, 'apologizing': 2268, 'precautions': 2269, 'tacky': 2270, 'dishonest': 2271, 'flammable': 2272, 'offensive': 2273, 'ballon': 2274, 'cage': 2275, 'curtain': 2276, 'mic': 2277, 'road': 2278, \"water's\": 2279, 'demoted': 2280, 'nearby': 2281, 'thanked': 2282, 'luxury': 2283, 'relaxing': 2284, 'belongs': 2285, 'convinced': 2286, 'chickens': 2287, 'fighter': 2288, 'schemer': 2289, 'ambitious': 2290, 'conceited': 2291, 'weakening': 2292, 'oven': 2293, 'smiles': 2294, 'punched': 2295, 'fingers': 2296, 'exam': 2297, 'depend': 2298, 'gunfire': 2299, 'sandbar': 2300, 'evacuate': 2301, 'withdraw': 2302, 'sophomores': 2303, 'surrounded': 2304, \"what've\": 2305, 'cheaper': 2306, 'murdered': 2307, 'younger': 2308, 'hobby': 2309, 'necessary': 2310, 'owner': 2311, 'adjust': 2312, 'brakes': 2313, 'equal': 2314, 'under': 2315, 'error': 2316, 'others': 2317, 'behave': 2318, 'ambulance': 2319, 'click': 2320, 'link': 2321, 'coding': 2322, 'proof': 2323, 'exercise': 2324, 'days': 2325, 'hay': 2326, 'headache': 2327, 'three': 2328, 'forty': 2329, 'influential': 2330, 'sailor': 2331, 'twisted': 2332, 'scripts': 2333, 'journalist': 2334, 'overreacting': 2335, 'address': 2336, \"room's\": 2337, 'weather': 2338, 'vegetarian': 2339, 'barely': 2340, 'cactus': 2341, 'chose': 2342, 'demand': 2343, 'seven': 2344, 'bee': 2345, 'otherwise': 2346, 'intend': 2347, 'style': 2348, 'locked': 2349, 'chair': 2350, 'photo': 2351, 'oversleep': 2352, 'apology': 2353, 'area': 2354, 'lottery': 2355, 'toilet': 2356, 'giving': 2357, 'eighteen': 2358, 'diarrhea': 2359, 'egyptian': 2360, 'familiar': 2361, 'greasy': 2362, 'emergency': 2363, \"brother's\": 2364, 'knock': 2365, 'downtown': 2366, 'hustle': 2367, 'vivacious': 2368, \"heart's\": 2369, 'aching': 2370, \"stomach's\": 2371, 'bar': 2372, 'tasty': 2373, 'gods': 2374, 'foxes': 2375, 'kidnapped': 2376, 'gibberish': 2377, 'hilarious': 2378, \"hasn't\": 2379, 'courageous': 2380, 'lacks': 2381, 'cigar': 2382, 'stove': 2383, 'mistakes': 2384, 'clothes': 2385, 'rarely': 2386, 'nda': 2387, 'threatened': 2388, 'weeks': 2389, 'battle': 2390, 'novel': 2391, 'vodka': 2392, \"where've\": 2393, 'actresses': 2394, 'faced': 2395, 'european': 2396, 'photogenic': 2397, 'buddhist': 2398, 'blaming': 2399, 'repaired': 2400, 'rid': 2401, 'remote': 2402, 'acted': 2403, 'foolishly': 2404, 'forced': 2405, 'adventure': 2406, 'pulled': 2407, 'englishman': 2408, 'refill': 2409, 'chipped': 2410, 'tooth': 2411, 'dreamt': 2412, 'dropped': 2413, 'goat': 2414, 'tire': 2415, 'information': 2416, 'candlelight': 2417, 'outfit': 2418, 'daughter': 2419, 'graduate': 2420, 'destroy': 2421, 'report': 2422, 'cigarettes': 2423, 'attorney': 2424, 'blanket': 2425, 'hire': 2426, 'exaggerating': 2427, 'television': 2428, 'known': 2429, 'betray': 2430, 'library': 2431, 'slave': 2432, 'hop': 2433, 'skip': 2434, 'cuff': 2435, 'spit': 2436, 'bark': 2437, 'belched': 2438, 'cringed': 2439, 'pro': 2440, 'obese': 2441, 'poured': 2442, 'pardon': 2443, 'search': 2444, 'seriously': 2445, 'knits': 2446, 'rocks': 2447, 'swims': 2448, 'swore': 2449, 'content': 2450, 'prudent': 2451, 'sincere': 2452, 'bottoms': 2453, 'exists': 2454, 'tragic': 2455, 'chew': 2456, 'gum': 2457, 'disagree': 2458, 'objected': 2459, 'bushed': 2460, 'chubby': 2461, 'immune': 2462, 'unwell': 2463, 'ivory': 2464, 'lasts': 2465, 'mama': 2466, 'replace': 2467, 'row': 2468, 'shadow': 2469, 'burped': 2470, 'goofed': 2471, 'moaned': 2472, 'nodded': 2473, 'paused': 2474, 'snores': 2475, 'merciful': 2476, 'vigilant': 2477, 'watchful': 2478, \"beer's\": 2479, 'bowl': 2480, 'argue': 2481, 'blink': 2482, 'faking': 2483, 'monk': 2484, 'taller': 2485, 'confessed': 2486, '300': 2487, 'gout': 2488, 'peas': 2489, '17': 2490, 'baker': 2491, 'neutral': 2492, 'resting': 2493, 'stuffed': 2494, 'cost': 2495, '50': 2496, 'futile': 2497, 'clap': 2498, 'release': 2499, 'stick': 2500, 'action': 2501, 'blinked': 2502, 'gloated': 2503, 'groaned': 2504, 'grunted': 2505, 'ocd': 2506, 'inhaled': 2507, 'slipped': 2508, 'sneezed': 2509, 'flaky': 2510, 'cnn': 2511, 'heel': 2512, 'ego': 2513, 'drew': 2514, 'abandon': 2515, 'merciless': 2516, 'backup': 2517, 'ramble': 2518, 'denied': 2519, 'bigot': 2520, 'ninja': 2521, 'barbaric': 2522, 'dare': 2523, 'mugged': 2524, 'liars': 2525, 'sympathize': 2526, 'pasta': 2527, 'farmer': 2528, 'waiter': 2529, 'addicted': 2530, 'educated': 2531, 'grieving': 2532, 'perth': 2533, 'literate': 2534, 'painting': 2535, 'rational': 2536, 'thirteen': 2537, 'ticklish': 2538, 'cured': 2539, 'lucid': 2540, 'elk': 2541, 'similar': 2542, 'hip': 2543, 'gawking': 2544, 'staring': 2545, 'approves': 2546, 'enlisted': 2547, 'flinched': 2548, 'insisted': 2549, 'timid': 2550, 'shivered': 2551, 'whistled': 2552, 'groggy': 2553, 'translate': 2554, 'focus': 2555, 'hats': 2556, 'surrender': 2557, 'dating': 2558, 'goners': 2559, 'guests': 2560, 'feast': 2561, 'phony': 2562, 'amuse': 2563, 'cain': 2564, 'despair': 2565, 'mock': 2566, 'sass': 2567, 'drain': 2568, 'oil': 2569, 'riddance': 2570, 'ham': 2571, 'grows': 2572, 'blog': 2573, 'maid': 2574, 'skating': 2575, 'tycoon': 2576, 'bled': 2577, 'acquired': 2578, 'added': 2579, 'runner': 2580, 'belong': 2581, 'borrowed': 2582, 'bribed': 2583, 'designed': 2584, 'poker': 2585, 'drowsy': 2586, 'queasy': 2587, 'reborn': 2588, 'bonus': 2589, 'clue': 2590, 'celery': 2591, 'date': 2592, 'braces': 2593, 'orders': 2594, 'rights': 2595, 'sinned': 2596, 'tenure': 2597, 'sirens': 2598, 'clocks': 2599, 'sewing': 2600, 'spoons': 2601, 'garlic': 2602, 'object': 2603, 'lamp': 2604, 'loan': 2605, 'yacht': 2606, 'squash': 2607, 'pled': 2608, 'rescheduled': 2609, 'resent': 2610, 'bacon': 2611, 'smelled': 2612, 'firefox': 2613, 'gang': 2614, 'spy': 2615, 'wasted': 2616, 'sickens': 2617, 'p': 2618, 'm': 2619, 'sequel': 2620, 'deserted': 2621, 'obsolete': 2622, 'occupied': 2623, 'outdated': 2624, 'rat': 2625, 'proceed': 2626, 'mortal': 2627, 'shrieked': 2628, \"mom's\": 2629, 'lungs': 2630, 'hood': 2631, 'sank': 2632, 'bent': 2633, 'obeys': 2634, 'meddling': 2635, 'shooting': 2636, 'worrying': 2637, 'differ': 2638, 'saturn': 2639, 'myth': 2640, 'unreal': 2641, 'vulgar': 2642, 'asian': 2643, 'armed': 2644, 'pun': 2645, 'exercises': 2646, 'punk': 2647, 'voting': 2648, 'recovered': 2649, 'shuddered': 2650, 'stammered': 2651, 'stuttered': 2652, 'aloof': 2653, 'sober': 2654, 'tipsy': 2655, 'west': 2656, 'whispered': 2657, 'klutz': 2658, 'trees': 2659, 'recover': 2660, 'orphans': 2661, 'thieves': 2662, 'fiasco': 2663, 'weirdo': 2664, 'ails': 2665, \"what'll\": 2666, 'disagreed': 2667, 'hypocrite': 2668, 'biased': 2669, 'qualified': 2670, 'autumn': 2671, 'bend': 2672, 'brace': 2673, 'shovel': 2674, 'file': 2675, \"dad's\": 2676, 'recycle': 2677, 'force': 2678, 'struggle': 2679, 'cries': 2680, 'lines': 2681, 'afternoon': 2682, 'dislikes': 2683, 'tan': 2684, 'bankrupt': 2685, 'homeless': 2686, 'outgoing': 2687, 'learns': 2688, 'jelly': 2689, 'florist': 2690, 'author': 2691, 'ached': 2692, 'hungarian': 2693, 'banana': 2694, 'nail': 2695, 'ease': 2696, 'guarantee': 2697, 'mondays': 2698, 'sundays': 2699, 'karaoke': 2700, 'riddles': 2701, 'amnesia': 2702, 'hiccup': 2703, 'castles': 2704, 'history': 2705, 'jogging': 2706, 'puzzles': 2707, 'sashimi': 2708, 'turtles': 2709, 'kittens': 2710, 'lasagna': 2711, 'medic': 2712, 'ruler': 2713, 'stamp': 2714, 'asap': 2715, 'surgery': 2716, 'cattle': 2717, 'fan': 2718, 'captured': 2719, 'welcomed': 2720, 'prosper': 2721, 'extra': 2722, 'prisoner': 2723, 'dependable': 2724, 'illiterate': 2725, 'indisposed': 2726, 'quitter': 2727, 'holiday': 2728, 'stew': 2729, 'insured': 2730, 'insult': 2731, 'redundant': 2732, 'vibrating': 2733, 'searching': 2734, 'lean': 2735, 'dutch': 2736, 'practice': 2737, 'larger': 2738, 'joints': 2739, 'tummy': 2740, 'meter': 2741, 'science': 2742, 'awkward': 2743, 'types': 2744, 'counting': 2745, 'resisting': 2746, 'mango': 2747, 'cyanide': 2748, 'illegal': 2749, 'plastic': 2750, 'lame': 2751, 'typical': 2752, \"day's\": 2753, 'barked': 2754, 'melted': 2755, 'siren': 2756, 'quarreled': 2757, 'starve': 2758, 'hollow': 2759, 'fact': 2760, 'scam': 2761, \"today's\": 2762, 'approached': 2763, 'complained': 2764, 'asthma': 2765, 'issues': 2766, 'talent': 2767, 'dwarf': 2768, 'pilot': 2769, 'jobless': 2770, 'miserly': 2771, 'idol': 2772, 'shaking': 2773, 'shaving': 2774, 'spoiled': 2775, 'yawning': 2776, 'paged': 2777, 'shed': 2778, 'tears': 2779, 'improve': 2780, 'sauce': 2781, 'credible': 2782, 'starving': 2783, 'concept': 2784, 'scandal': 2785, \"when's\": 2786, 'fraud': 2787, 'freak': 2788, 'prude': 2789, 'envious': 2790, 'balls': 2791, 'round': 2792, 'precise': 2793, 'hibernate': 2794, 'bullet': 2795, 'boxes': 2796, 'congratulations': 2797, 'rap': 2798, 'interfere': 2799, 'interrupt': 2800, 'overdo': 2801, 'frogs': 2802, 'whirl': 2803, 'bottom': 2804, 'toyota': 2805, 'racket': 2806, 'mark': 2807, 'disney': 2808, 'robot': 2809, 'mentioned': 2810, 'pressured': 2811, 'whisky': 2812, 'tends': 2813, 'nara': 2814, 'freshman': 2815, 'album': 2816, '45': 2817, 'fascinating': 2818, 'humiliating': 2819, 'unfortunate': 2820, 'spain': 2821, 'booked': 2822, 'undo': 2823, 'chickened': 2824, 'dried': 2825, 'feverish': 2826, 'repulsed': 2827, 'examples': 2828, 'politics': 2829, 'raccoons': 2830, 'reptiles': 2831, 'bruise': 2832, 'dandruff': 2833, 'drum': 2834, 'rains': 2835, 'imagined': 2836, 'climbing': 2837, 'hyogo': 2838, 'interest': 2839, 'comedies': 2840, 'internet': 2841, 'tissue': 2842, 'caffeine': 2843, 'scissors': 2844, 'outwitted': 2845, 'bills': 2846, 'baseball': 2847, 'outfield': 2848, 'bass': 2849, 'biking': 2850, 'recognize': 2851, 'giraffe': 2852, 'dollar': 2853, 'disgusted': 2854, 'petrified': 2855, 'christian': 2856, 'geologist': 2857, 'masochist': 2858, 'educator': 2859, 'optimist': 2860, 'catching': 2861, 'celebrating': 2862, 'cracking': 2863, 'zambia': 2864, 'nearsighted': 2865, 'alarmed': 2866, 'certain': 2867, 'tallest': 2868, 'poisonous': 2869, 'zebra': 2870, 'option': 2871, 'tasted': 2872, 'thrill': 2873, 'ages': 2874, 'ago': 2875, 'soft': 2876, 'fraction': 2877, 'mushroom': 2878, 'eyesore': 2879, 'artificial': 2880, 'dinnertime': 2881, 'dirt': 2882, 'inevitable': 2883, 'misleading': 2884, 'useful': 2885, 'refreshing': 2886, 'metal': 2887, 'celebrate': 2888, 'widow': 2889, 'merry': 2890, \"shift's\": 2891, 'squeak': 2892, 'october': 2893, 'button': 2894, 'remove': 2895, 'saddle': 2896, 'airmail': 2897, 'calmed': 2898, 'carefree': 2899, 'graceful': 2900, 'brazilian': 2901, 'spelling': 2902, 'whimpering': 2903, 'abrupt': 2904, 'pagoda': 2905, 'childish': 2906, 'enormous': 2907, 'personal': 2908, 'snag': 2909, 'cast': 2910, 'growled': 2911, 'engine': 2912, \"power's\": 2913, 'radar': 2914, \"soup's\": 2915, 'cure': 2916, 'salt': 2917, 'actors': 2918, 'melons': 2919, 'pilots': 2920, 'greeted': 2921, 'garbage': 2922, 'pleases': 2923, 'limited': 2924, 'err': 2925, 'baked': 2926, 'blamed': 2927, 'chased': 2928, 'disgusts': 2929, 'exaggerates': 2930, 'hiccups': 2931, 'muslim': 2932, 'banker': 2933, 'cyborg': 2934, 'maniac': 2935, 'zealot': 2936, 'abnormal': 2937, 'court': 2938, 'insecure': 2939, 'insolent': 2940, 'inspired': 2941, 'buddy': 2942, 'perverse': 2943, 'training': 2944, 'landed': 2945, 'perky': 2946, 'tense': 2947, 'weary': 2948, 'nudged': 2949, 'pitied': 2950, 'novels': 2951, 'sees': 2952, 'understands': 2953, 'gloves': 2954, 'yawn': 2955, 'toes': 2956, 'declared': 2957, 'raw': 2958, 'bunny': 2959, 'ought': 2960, 'shared': 2961, 'gifu': 2962, 'attorneys': 2963, 'gardeners': 2964, 'optimists': 2965, 'organized': 2966, 'relatives': 2967, 'its': 2968, 'prize': 2969, 'theology': 2970, 'dude': 2971, 'received': 2972, 'buyer': 2973, 'note': 2974, 'unsure': 2975, 'devil': 2976, \"mustn't\": 2977, 'reliable': 2978, 'corny': 2979, '5': 2980, 'less': 2981, 'barking': 2982, 'invisible': 2983, 'wizard': 2984, 'blushing': 2985, 'atlantis': 2986, 'frank': 2987, 'excused': 2988, 'cherries': 2989, 'blinds': 2990, 'drawer': 2991, 'consult': 2992, 'cookie': 2993, 'supply': 2994, 'bridge': 2995, 'street': 2996, 'potatoes': 2997, 'wire': 2998, 'deeds': 2999, 'brute': 3000, 'exaggerate': 3001, 'faces': 3002, 'mention': 3003, 'mislead': 3004, 'rip': 3005, 'dust': 3006, 'shelves': 3007, 'gossips': 3008, 'purpose': 3009, 'hammer': 3010, 'fetch': 3011, 'garage': 3012, 'behaved': 3013, 'joy': 3014, 'deserves': 3015, 'suddenly': 3016, 'feels': 3017, 'backward': 3018, 'distracted': 3019, 'hunt': 3020, 'moves': 3021, 'screams': 3022, 'shares': 3023, 'tenacious': 3024, 'arabic': 3025, 'crude': 3026, 'historian': 3027, 'lisbon': 3028, 'senile': 3029, 'wealth': 3030, 'embarrassing': 3031, 'melodramatic': 3032, 'foreigner': 3033, 'dumbfounded': 3034, 'norway': 3035, 'witch': 3036, 'bake': 3037, 'minds': 3038, 'reach': 3039, 'solitude': 3040, 'details': 3041, 'expected': 3042, 'flattered': 3043, 'refreshed': 3044, 'filled': 3045, 'tub': 3046, '6': 3047, 'chemistry': 3048, 'marmalade': 3049, 'grenade': 3050, 'scooter': 3051, 'heartburn': 3052, 'insurance': 3053, 'future': 3054, '20': 3055, 'junk': 3056, 'languages': 3057, 'pop': 3058, 'astronomy': 3059, 'gardening': 3060, 'fortune': 3061, 'snowman': 3062, 'massage': 3063, 'miracle': 3064, 'aid': 3065, 'planted': 3066, 'cello': 3067, 'pointed': 3068, 'require': 3069, 'among': 3070, 'umbrellas': 3071, 'stifled': 3072, 'grin': 3073, 'martini': 3074, 'retire': 3075, '2003': 3076, 'pretending': 3077, 'victim': 3078, 'moody': 3079, 'checking': 3080, 'disappointed': 3081, 'finishing': 3082, 'freaking': 3083, 'romania': 3084, 'sapporo': 3085, 'inviting': 3086, 'middle': 3087, 'catholic': 3088, 'beggar': 3089, 'snitch': 3090, 'shape': 3091, 'sitting': 3092, 'quickest': 3093, 'saving': 3094, 'drawn': 3095, 'riddle': 3096, 'issue': 3097, 'flower': 3098, 'puzzle': 3099, 'dvd': 3100, 'euros': 3101, 'creeps': 3102, 'freaks': 3103, 'setback': 3104, 'ambush': 3105, 'drizzling': 3106, 'excessive': 3107, 'greek': 3108, 'group': 3109, 'rainy': 3110, 'season': 3111, 'gotten': 3112, 'drug': 3113, 'monkey': 3114, 'natural': 3115, 'transparent': 3116, 'bitter': 3117, 'immortal': 3118, 'fleas': 3119, 'sunburn': 3120, 'throat': 3121, 'pets': 3122, 'allowed': 3123, 'trigger': 3124, 'article': 3125, 'prayers': 3126, 'defeated': 3127, '1960': 3128, 'idolized': 3129, 'shameless': 3130, 'repulses': 3131, 'rode': 3132, 'camel': 3133, 'happily': 3134, 'sadly': 3135, 'startled': 3136, 'promoted': 3137, 'size': 3138, 'avoiding': 3139, 'nosey': 3140, 'daydreaming': 3141, 'interfering': 3142, 'pinching': 3143, 'scaring': 3144, 'showing': 3145, 'kindly': 3146, 'concerns': 3147, 'debatable': 3148, 'idle': 3149, 'affair': 3150, 'troubling': 3151, \"baby's\": 3152, 'bubble': 3153, 'ticked': 3154, 'creaked': 3155, \"door's\": 3156, \"food's\": 3157, 'jury': 3158, 'milkman': 3159, \"party's\": 3160, 'icy': 3161, 'abated': 3162, 'world': 3163, 'wound': 3164, 'healed': 3165, 'limit': 3166, 'singers': 3167, 'grave': 3168, \"they'd\": 3169, 'immature': 3170, 'traitors': 3171, '839': 3172, 'sabotage': 3173, 'norm': 3174, 'admires': 3175, 'loses': 3176, 'avoided': 3177, 'babysat': 3178, 'detests': 3179, 'drown': 3180, 'tb': 3181, '2009': 3182, 'forgives': 3183, 'frightens': 3184, 'alibi': 3185, 'diabetes': 3186, 'freckles': 3187, 'olives': 3188, 'butcher': 3189, 'fascist': 3190, 'patriot': 3191, 'pianist': 3192, 'plumber': 3193, 'realtor': 3194, 'recluse': 3195, 'redneck': 3196, 'refugee': 3197, 'surgeon': 3198, 'trucker': 3199, 'veteran': 3200, 'widower': 3201, 'bilingual': 3202, 'brilliant': 3203, 'eccentric': 3204, 'emotional': 3205, 'energetic': 3206, 'honorable': 3207, 'insincere': 3208, 'muttering': 3209, 'nephew': 3210, 'obsessive': 3211, 'perplexed': 3212, 'undecided': 3213, 'hockey': 3214, 'ponies': 3215, 'reggae': 3216, 'zebras': 3217, 'mellowed': 3218, 'shouts': 3219, 'reads': 3220, 'slugged': 3221, 'wandered': 3222, 'pony': 3223, 'appalled': 3224, 'executed': 3225, 'watches': 3226, 'perk': 3227, 'award': 3228, 'dehydrated': 3229, 'panic': 3230, 'slower': 3231, 'plants': 3232, 'checks': 3233, 'aced': 3234, 'argued': 3235, 'swordfish': 3236, 'competed': 3237, 'disturbed': 3238, 'crisis': 3239, 'theory': 3240, 'pictures': 3241, 'visitors': 3242, 'makeup': 3243, 'supported': 3244, 'value': 3245, 'quality': 3246, 'agents': 3247, 'classmates': 3248, 'frightened': 3249, 'historians': 3250, 'lifeguards': 3251, 'professors': 3252, 'view': 3253, 'rotten': 3254, 'abacus': 3255, 'cause': 3256, 'whatever': 3257, 'customs': 3258, 'razor': 3259, 'exit': 3260, 'wherever': 3261, 'damaged': 3262, 'hamlet': 3263, \"who'd\": 3264, 'conform': 3265, 'practical': 3266, 'shivering': 3267, 'mauled': 3268, 'candles': 3269, 'religious': 3270, 'chef': 3271, 'build': 3272, 'nests': 3273, 'rely': 3274, 'elephants': 3275, 'bow': 3276, 'champagne': 3277, 'insist': 3278, 'slack': 3279, 'imminent': 3280, 'dial': 3281, 'ants': 3282, 'latin': 3283, 'china': 3284, 'kratom': 3285, 'wanna': 3286, 'distract': 3287, 'threaten': 3288, 'responsibly': 3289, 'outdoors': 3290, 'spoon': 3291, 'ladies': 3292, 'haste': 3293, 'blackmailed': 3294, 'blocked': 3295, 'hanged': 3296, 'remorse': 3297, 'houses': 3298, 'poet': 3299, 'daredevil': 3300, 'scientist': 3301, 'introverted': 3302, 'smoker': 3303, 'osaka': 3304, 'owns': 3305, 'land': 3306, 'pushed': 3307, 'russian': 3308, 'struck': 3309, 'vitamins': 3310, 'violated': 3311, 'wakes': 3312, 'imprisoned': 3313, 'raging': 3314, 'timer': 3315, 'joint': 3316, 'mr': 3317, 'skirt': 3318, 'receipt': 3319, 'elevator': 3320, 'handrail': 3321, 'complex': 3322, 'cakes': 3323, 'ecuador': 3324, 'shikoku': 3325, 'baited': 3326, 'hook': 3327, 'hybrid': 3328, 'brushed': 3329, 'upfront': 3330, 'chopin': 3331, 'consented': 3332, 'defended': 3333, 'vindicated': 3334, 'slap': 3335, 'sting': 3336, 'interviewed': 3337, 'lightly': 3338, 'nightmare': 3339, 'accident': 3340, 'hypocrites': 3341, 'mosquitoes': 3342, 'onion': 3343, 'desert': 3344, 'backache': 3345, 'hangover': 3346, 'migraine': 3347, 'earache': 3348, 'discs': 3349, 'reasons': 3350, 'nightmares': 3351, 'split': 3352, 'nieces': 3353, 'experience': 3354, 'folk': 3355, 'songs': 3356, 'sandwiches': 3357, 'sauerkraut': 3358, 'watermelon': 3359, 'film': 3360, 'luggage': 3361, 'minutes': 3362, 'keyboard': 3363, 'belt': 3364, 'naps': 3365, 'peeled': 3366, 'fuel': 3367, 'reached': 3368, 'curb': 3369, 'airplane': 3370, 'sunrise': 3371, 'geography': 3372, 'plate': 3373, 'discount': 3374, 'freedom': 3375, 'compete': 3376, 'confess': 3377, 'discouraged': 3378, 'lonesome': 3379, 'taken': 3380, 'aback': 3381, 'washed': 3382, 'judge': 3383, \"would've\": 3384, 'london': 3385, 'someday': 3386, 'salesperson': 3387, 'astronomer': 3388, 'bringing': 3389, 'concentrating': 3390, 'pear': 3391, 'fairly': 3392, 'keeping': 3393, 'miserable': 3394, 'self': 3395, 'employed': 3396, 'sophisticated': 3397, 'twitter': 3398, 'client': 3399, 'forgiven': 3400, 'rumors': 3401, 'identify': 3402, 'poison': 3403, 'curfew': 3404, 'muted': 3405, 'stunning': 3406, 'fatal': 3407, 'pieces': 3408, 'ways': 3409, 'cooled': 3410, 'nonstop': 3411, 'surprising': 3412, 'unexpected': 3413, 'ruin': 3414, 'flimsy': 3415, 'cargo': 3416, 'compliment': 3417, 'conspiracy': 3418, 'dictionary': 3419, 'closing': 3420, 'confidential': 3421, 'exhilarating': 3422, 'tourists': 3423, 'nicely': 3424, 'pocket': 3425, 'questionable': 3426, 'chin': 3427, 'menu': 3428, 'investigate': 3429, 'difficult': 3430, 'enjoyable': 3431, 'price': 3432, 'conquers': 3433, 'prediction': 3434, 'manners': 3435, \"monday's\": 3436, 'murder': 3437, 'numb': 3438, 'shoulder': 3439, 'volunteers': 3440, 'opposites': 3441, 'attract': 3442, 'permit': 3443, 'pink': 3444, 'reconsider': 3445, 'poets': 3446, 'pretend': 3447, 'thorns': 3448, 'rugs': 3449, 'absorb': 3450, 'attractive': 3451, 'german': 3452, 'polish': 3453, 'loudly': 3454, 'rapidly': 3455, 'bitterly': 3456, 'fashionable': 3457, 'hyperactive': 3458, 'turning': 3459, \"something's\": 3460, 'spin': 3461, 'webs': 3462, 'stealing': 3463, 'scale': 3464, 'wild': 3465, 'medicine': 3466, 'termites': 3467, \"knot's\": 3468, 'loose': 3469, \"money's\": 3470, 'fir': 3471, 'blow': 3472, 'pheasant': 3473, 'tricycle': 3474, 'castle': 3475, 'terrifying': 3476, 'spirit': 3477, 'handy': 3478, 'squeaked': 3479, 'doorbell': 3480, 'earth': 3481, 'rotates': 3482, 'lid': 3483, 'lovers': 3484, 'market': 3485, 'sail': 3486, 'thick': 3487, 'tactic': 3488, 'continued': 3489, 'hitch': 3490, 'trial': 3491, 'carnage': 3492, 'daisies': 3493, 'genuine': 3494, 'leather': 3495, 'hunted': 3496, 'extortion': 3497, 'messed': 3498, 'spaghetti': 3499, 'tasteless': 3500, 'fishy': 3501, 'thursday': 3502, 'arrives': 3503, 'orange': 3504, 'leftovers': 3505, 'attacked': 3506, 'deceived': 3507, 'appear': 3508, 'disliked': 3509, 'dyed': 3510, 'speech': 3511, 'gazed': 3512, 'allergies': 3513, 'iphone': 3514, 'arthritis': 3515, 'income': 3516, 'wavy': 3517, 'imitated': 3518, 'civilian': 3519, 'crackpot': 3520, 'democrat': 3521, 'designer': 3522, 'lobbyist': 3523, 'mechanic': 3524, 'pacifist': 3525, 'reporter': 3526, 'sorcerer': 3527, 'teenager': 3528, 'weakling': 3529, 'amateur': 3530, 'growing': 3531, 'hitting': 3532, 'hysterical': 3533, 'indiscreet': 3534, 'intolerant': 3535, 'mesmerized': 3536, 'fiancé': 3537, 'stepdad': 3538, 'packing': 3539, 'passionate': 3540, 'stuttering': 3541, 'winner': 3542, 'unfaithful': 3543, 'vulnerable': 3544, 'crook': 3545, 'budging': 3546, 'empathy': 3547, 'blondes': 3548, 'lobster': 3549, 'knit': 3550, 'meatloaf': 3551, 'offended': 3552, 'outlived': 3553, 'owned': 3554, 'fare': 3555, 'poisoned': 3556, 'released': 3557, 'patiently': 3558, 'seldom': 3559, 'skipped': 3560, 'swindled': 3561, 'vomited': 3562, 'dessert': 3563, 'results': 3564, 'acquitted': 3565, 'heaven': 3566, 'er': 3567, 'irritated': 3568, 'strangled': 3569, 'suffering': 3570, 'talkative': 3571, 'poetry': 3572, \"bed's\": 3573, 'incompetent': 3574, 'unstoppable': 3575, 'beers': 3576, 'venus': 3577, 'planet': 3578, 'wages': 3579, 'falling': 3580, 'liquid': 3581, 'flaws': 3582, 'amused': 3583, 'cultivate': 3584, 'visitor': 3585, 'suppliers': 3586, 'witnesses': 3587, 'mysteries': 3588, 'parks': 3589, 'rented': 3590, 'canoe': 3591, 'seek': 3592, 'neighbors': 3593, 'overcome': 3594, 'adventurous': 3595, 'astrologers': 3596, 'guinea': 3597, 'journalists': 3598, 'workaholics': 3599, 'collection': 3600, \"what're\": 3601, 'pandemic': 3602, 'invented': 3603, 'problems': 3604, 'stressed': 3605, 'blowing': 3606, 'scratched': 3607, 'guard': 3608, 'criminals': 3609, 'criminal': 3610, 'productive': 3611, 'registered': 3612, 'anxious': 3613, 'barley': 3614, 'cereal': 3615, 'bookmark': 3616, 'site': 3617, 'changing': 3618, '110': 3619, 'curtains': 3620, 'consider': 3621, 'bribe': 3622, 'divide': 3623, 'conquer': 3624, 'octopus': 3625, 'kabuki': 3626, 'mozart': 3627, 'snails': 3628, 'trim': 3629, 'gums': 3630, 'bleed': 3631, 'offend': 3632, 'paranoid': 3633, 'hog': 3634, 'scene': 3635, 'overthink': 3636, 'patronize': 3637, 'chances': 3638, 'stones': 3639, 'relaxes': 3640, 'matters': 3641, 'blanks': 3642, 'broom': 3643, 'wrench': 3644, 'thanksgiving': 3645, 'before': 3646, 'forgotten': 3647, 'abused': 3648, 'cycling': 3649, 'gripped': 3650, 'footsteps': 3651, 'mere': 3652, 'classmate': 3653, 'colleague': 3654, 'heartless': 3655, 'memory': 3656, 'gossip': 3657, 'rolled': 3658, 'precedent': 3659, 'touched': 3660, 'appeal': 3661, '4': 3662, 'heartbroken': 3663, 'bodybuilder': 3664, 'creationist': 3665, 'keeper': 3666, 'aristocrat': 3667, 'stepfather': 3668, 'fifty': 3669, 'studious': 3670, 'hedgehogs': 3671, 'print': 3672, 'torn': 3673, 'grammar': 3674, 'smooth': 3675, 'closet': 3676, 'folks': 3677, 'hail': 3678, 'vision': 3679, 'completely': 3680, 'boiling': 3681, 'bathe': 3682, 't': 3683, 'tools': 3684, 'confirm': 3685, 'exclude': 3686, 'collect': 3687, 'antiques': 3688, 'recount': 3689, 'cave': 3690, 'tests': 3691, 'unsafe': 3692, 'flipped': 3693, 'fractured': 3694, 'advertising': 3695, 'eyebrows': 3696, 'roommate': 3697, 'carpet': 3698, 'nosebleed': 3699, 'toothache': 3700, 'blonde': 3701, 'cabin': 3702, 'passport': 3703, 'appetite': 3704, 'cameras': 3705, 'nephews': 3706, 'jog': 3707, 'unlocked': 3708, 'l': 3709, 'comic': 3710, 'races': 3711, 'company': 3712, 'custom': 3713, 'kakogawa': 3714, 'yokohama': 3715, 'identity': 3716, 'almond': 3717, 'cider': 3718, 'butterflies': 3719, 'lentil': 3720, 'pot': 3721, 'roast': 3722, 'other': 3723, 'offense': 3724, 'hometown': 3725, 'month': 3726, 'volunteer': 3727, 'envelope': 3728, 'butter': 3729, 'names': 3730, 'doubted': 3731, 'doors': 3732, 'bassoon': 3733, 'plowed': 3734, 'field': 3735, 'repeated': 3736, 'nine': 3737, 'spilled': 3738, 'psychology': 3739, 'suggest': 3740, 'boyfriend': 3741, 'challenge': 3742, 'tiger': 3743, 'sculpture': 3744, '1972': 3745, '1979': 3746, '1982': 3747, '1988': 3748, 'fond': 3749, 'success': 3750, 'coerced': 3751, 'farm': 3752, 'accompany': 3753, 'photographer': 3754, 'extremely': 3755, 'sunday': 3756, 'singapore': 3757, 'gaining': 3758, 'kitchen': 3759, 'beginning': 3760, 'clients': 3761, 'sock': 3762, 'xenophobic': 3763, 'nanny': 3764, 'older': 3765, 'ordering': 3766, 'selling': 3767} \n",
      "\n",
      "[[ 0.          0.          0.         ...  0.          0.\n",
      "   0.        ]\n",
      " [-0.046539    0.61966002  0.56647003 ... -0.37616    -0.032502\n",
      "   0.80620003]\n",
      " [-0.58388001 -0.46939999  0.16855    ...  0.13704     0.089572\n",
      "  -0.54277003]\n",
      " ...\n",
      " [ 0.36436     0.95257002  0.66235    ... -0.62946999  0.32567\n",
      "  -0.26076999]\n",
      " [ 0.47034001 -0.72635001 -0.083381   ... -0.0099609   0.21349999\n",
      "  -0.064907  ]\n",
      " [ 0.73356998  0.048734   -0.20768    ...  0.11849     1.32560003\n",
      "   0.42879999]]\n",
      "(3768, 100)\n"
     ]
    }
   ],
   "source": [
    "print((word2idx_inputs), \"\\n\")\n",
    "print(embedding_matrix)\n",
    "print(embedding_matrix.shape)"
   ]
  },
  {
   "cell_type": "code",
   "execution_count": 12,
   "id": "59e52ec2",
   "metadata": {},
   "outputs": [],
   "source": [
    "# Build embedding layer\n",
    "embedding_layer = Embedding(\n",
    "  num_words,\n",
    "  EMBEDDING_DIM,\n",
    "  weights=[embedding_matrix],\n",
    "  input_length=max_len_input)     # trainable=True"
   ]
  },
  {
   "cell_type": "code",
   "execution_count": 13,
   "id": "e200b569",
   "metadata": {},
   "outputs": [],
   "source": [
    "# For targets\n",
    "decoder_targets_one_hot = np.zeros((len(input_texts),\n",
    "                                    max_len_target,\n",
    "                                    num_words_output),\n",
    "                                    dtype='float32')\n",
    "# Values\n",
    "for i, d in enumerate(decoder_targets):\n",
    "  for t, word in enumerate(d):\n",
    "    if word > 0:\n",
    "      decoder_targets_one_hot[i, t, word] = 1"
   ]
  },
  {
   "cell_type": "code",
   "execution_count": 13,
   "id": "a90fe4fc",
   "metadata": {},
   "outputs": [
    {
     "name": "stdout",
     "output_type": "stream",
     "text": [
      "KerasTensor(type_spec=TensorSpec(shape=(None, 6, 100), dtype=tf.float32, name=None), name='embedding/embedding_lookup/Identity_1:0', description=\"created by layer 'embedding'\")\n"
     ]
    }
   ],
   "source": [
    "# Build model (encoder + decoder)\n",
    "# (a). Encoder \n",
    "encoder_inputs_placeholder = Input(shape=(max_len_input,))\n",
    "x = embedding_layer(encoder_inputs_placeholder)\n",
    "encoder = Bidirectional(LSTM(LATENT_DIM, return_sequences=True))   # dropout=0.5 #                               \n",
    "encoder_outputs = encoder(x)\n",
    "\n",
    "# (2) Decoder \n",
    "decoder_inputs_placeholder = Input(shape=(max_len_target,))\n",
    "decoder_embedding = Embedding(num_words_output, EMBEDDING_DIM)\n",
    "decoder_inputs_x = decoder_embedding(decoder_inputs_placeholder)\n",
    "print(x)"
   ]
  },
  {
   "cell_type": "code",
   "execution_count": 14,
   "id": "6373f486",
   "metadata": {},
   "outputs": [],
   "source": [
    "# Attention function\n",
    "attn_repeat_layer = RepeatVector(max_len_input)\n",
    "attn_concat_layer = Concatenate(axis=-1)\n",
    "attn_dense1 = Dense(10, activation='tanh')\n",
    "attn_dense2 = Dense(1, activation=softmax_over_time)\n",
    "attn_dot = Dot(axes=1)                 ## weighted sum of alpha[t] * h[t]\n",
    "\n",
    "def one_step_attention(h, st_1):       ## h shape shape = (Tx, LATENT_DIM * 2)\n",
    "  st_1 = attn_repeat_layer(st_1)       ## s(t-1) shape = (Tx, LATENT_DIM_DECODER)\n",
    "  x = attn_concat_layer([h, st_1])     ## x shape (Tx, LATENT_DIM_DECODER + LATENT_DIM * 2)\n",
    "  x = attn_dense1(x)                   ## Neural net first layer\n",
    "  alphas = attn_dense2(x)              ## Neural net second layer (softmax)\n",
    "  context = attn_dot([alphas, h])\n",
    "  return context"
   ]
  },
  {
   "cell_type": "code",
   "execution_count": 15,
   "id": "efbd3e68",
   "metadata": {},
   "outputs": [],
   "source": [
    "# After attention\n",
    "decoder_lstm = LSTM(LATENT_DIM_DECODER, return_state=True)\n",
    "decoder_dense = Dense(num_words_output, activation='softmax')\n",
    "initial_s = Input(shape=(LATENT_DIM_DECODER,), name='s0')\n",
    "initial_c = Input(shape=(LATENT_DIM_DECODER,), name='c0')\n",
    "context_last_word_concat_layer = Concatenate(axis=2)\n",
    "\n",
    "s = initial_s\n",
    "c = initial_c\n",
    "outputs = []\n",
    "for t in range(max_len_target): \n",
    "  context = one_step_attention(encoder_outputs, s)\n",
    "  selector = Lambda(lambda x: x[:, t:t+1])  ## Each time step\n",
    "  xt = selector(decoder_inputs_x)\n",
    "  \n",
    "  # combine \n",
    "  decoder_lstm_input = context_last_word_concat_layer([context, xt])\n",
    "  o, s, c = decoder_lstm(decoder_lstm_input, initial_state=[s, c])   ## [context, last word] for LSTM\n",
    "  decoder_outputs = decoder_dense(o)  ## final dense layer\n",
    "  outputs.append(decoder_outputs)"
   ]
  },
  {
   "cell_type": "code",
   "execution_count": 16,
   "id": "da02b5f8",
   "metadata": {},
   "outputs": [
    {
     "name": "stdout",
     "output_type": "stream",
     "text": [
      "Epoch 1/15\n",
      "250/250 [==============================] - 382s 1s/step - loss: 6.1512 - acc: 0.2567 - val_loss: 5.9908 - val_acc: 0.2399\n",
      "Epoch 2/15\n",
      "250/250 [==============================] - 342s 1s/step - loss: 5.3422 - acc: 0.2862 - val_loss: 5.6839 - val_acc: 0.2638\n",
      "Epoch 3/15\n",
      "250/250 [==============================] - 347s 1s/step - loss: 4.8351 - acc: 0.3253 - val_loss: 5.3474 - val_acc: 0.3011\n",
      "Epoch 4/15\n",
      "250/250 [==============================] - 350s 1s/step - loss: 4.2432 - acc: 0.3778 - val_loss: 5.0157 - val_acc: 0.3478\n",
      "Epoch 5/15\n",
      "250/250 [==============================] - 338s 1s/step - loss: 3.6836 - acc: 0.4209 - val_loss: 4.7924 - val_acc: 0.3713\n",
      "Epoch 6/15\n",
      "250/250 [==============================] - 333s 1s/step - loss: 3.1911 - acc: 0.4565 - val_loss: 4.6424 - val_acc: 0.3934\n",
      "Epoch 7/15\n",
      "250/250 [==============================] - 331s 1s/step - loss: 2.7619 - acc: 0.4856 - val_loss: 4.5491 - val_acc: 0.4077\n",
      "Epoch 8/15\n",
      "250/250 [==============================] - 337s 1s/step - loss: 2.3836 - acc: 0.5152 - val_loss: 4.5139 - val_acc: 0.4156\n",
      "Epoch 9/15\n",
      "250/250 [==============================] - 336s 1s/step - loss: 2.0590 - acc: 0.5471 - val_loss: 4.4865 - val_acc: 0.4225\n",
      "Epoch 10/15\n",
      "250/250 [==============================] - 347s 1s/step - loss: 1.7896 - acc: 0.5798 - val_loss: 4.4637 - val_acc: 0.4327\n",
      "Epoch 11/15\n",
      "250/250 [==============================] - 341s 1s/step - loss: 1.5625 - acc: 0.6159 - val_loss: 4.4768 - val_acc: 0.4338\n",
      "Epoch 12/15\n",
      "250/250 [==============================] - 340s 1s/step - loss: 1.3742 - acc: 0.6473 - val_loss: 4.5108 - val_acc: 0.4354\n",
      "Epoch 13/15\n",
      "250/250 [==============================] - 348s 1s/step - loss: 1.2199 - acc: 0.6771 - val_loss: 4.5196 - val_acc: 0.4412\n",
      "Epoch 14/15\n",
      "250/250 [==============================] - 349s 1s/step - loss: 1.0887 - acc: 0.7023 - val_loss: 4.5337 - val_acc: 0.4418\n",
      "Epoch 15/15\n",
      "250/250 [==============================] - 358s 1s/step - loss: 0.9822 - acc: 0.7243 - val_loss: 4.5725 - val_acc: 0.4438\n"
     ]
    }
   ],
   "source": [
    "# Stack all outputs into tensor\n",
    "def stack_and_transpose(x):\n",
    "  # x is a list of length T, each element is a batch_size x output_vocab_size tensor\n",
    "  x = K.stack(x) # is now T x batch_size x output_vocab_size tensor\n",
    "  x = K.permute_dimensions(x, pattern=(1, 0, 2)) # is now batch_size x T x output_vocab_size\n",
    "  return x\n",
    "\n",
    "stacker = Lambda(stack_and_transpose)       \n",
    "outputs = stacker(outputs)                   ## tensor (N x T x D)\n",
    "\n",
    "# Build the model\n",
    "model = Model(inputs=[\n",
    "                encoder_inputs_placeholder,\n",
    "                decoder_inputs_placeholder,\n",
    "                initial_s, \n",
    "                initial_c],\n",
    "                outputs=outputs)\n",
    "\n",
    "def custom_loss(y_true, y_pred):\n",
    "  mask = K.cast(y_true > 0, dtype='float32')   ## Shape (N x T x K)\n",
    "  out = mask * y_true * K.log(y_pred)\n",
    "  return -K.sum(out) / K.sum(mask)\n",
    "\n",
    "def acc(y_true, y_pred):\n",
    "  targ = K.argmax(y_true, axis=-1)\n",
    "  pred = K.argmax(y_pred, axis=-1)\n",
    "  correct = K.cast(K.equal(targ, pred), dtype='float32')\n",
    "  \n",
    "  mask = K.cast(K.greater(targ, 0), dtype='float32')   ## 0 is padding (excluded)\n",
    "  n_correct = K.sum(mask * correct)\n",
    "  n_total = K.sum(mask)\n",
    "  return n_correct / n_total\n",
    "\n",
    "# compile the model\n",
    "model.compile(optimizer='adam', loss=custom_loss, metrics=[acc])\n",
    "# model.compile(optimizer='rmsprop', loss='categorical_crossentropy', metrics=['acc'])\n",
    "\n",
    "# Train \n",
    "z = np.zeros((len(encoder_inputs), LATENT_DIM_DECODER)) # initial [s, c]\n",
    "r = model.fit(\n",
    "  [encoder_inputs, decoder_inputs, z, z], decoder_targets_one_hot,\n",
    "  batch_size=BATCH_SIZE,\n",
    "  epochs=EPOCHS,\n",
    "  validation_split=0.2\n",
    ")"
   ]
  },
  {
   "cell_type": "code",
   "execution_count": 18,
   "id": "dc3cf320",
   "metadata": {},
   "outputs": [
    {
     "data": {
      "image/png": "[encoded data removed]",
      "text/plain": [
       "<Figure size 432x288 with 1 Axes>"
      ]
     },
     "metadata": {
      "needs_background": "light"
     },
     "output_type": "display_data"
    },
    {
     "ename": "KeyError",
     "evalue": "'accuracy'",
     "output_type": "error",
     "traceback": [
      "\u001b[1;31m---------------------------------------------------------------------------\u001b[0m",
      "\u001b[1;31mKeyError\u001b[0m                                  Traceback (most recent call last)",
      "\u001b[1;32m~\\AppData\\Local\\Temp/ipykernel_31204/548597519.py\u001b[0m in \u001b[0;36m<module>\u001b[1;34m\u001b[0m\n\u001b[0;32m      6\u001b[0m \u001b[1;33m\u001b[0m\u001b[0m\n\u001b[0;32m      7\u001b[0m \u001b[1;31m# accuracies\u001b[0m\u001b[1;33m\u001b[0m\u001b[1;33m\u001b[0m\u001b[1;33m\u001b[0m\u001b[0m\n\u001b[1;32m----> 8\u001b[1;33m \u001b[0mplt\u001b[0m\u001b[1;33m.\u001b[0m\u001b[0mplot\u001b[0m\u001b[1;33m(\u001b[0m\u001b[0mr\u001b[0m\u001b[1;33m.\u001b[0m\u001b[0mhistory\u001b[0m\u001b[1;33m[\u001b[0m\u001b[1;34m'accuracy'\u001b[0m\u001b[1;33m]\u001b[0m\u001b[1;33m,\u001b[0m \u001b[0mlabel\u001b[0m\u001b[1;33m=\u001b[0m\u001b[1;34m'acc'\u001b[0m\u001b[1;33m)\u001b[0m\u001b[1;33m\u001b[0m\u001b[1;33m\u001b[0m\u001b[0m\n\u001b[0m\u001b[0;32m      9\u001b[0m \u001b[0mplt\u001b[0m\u001b[1;33m.\u001b[0m\u001b[0mplot\u001b[0m\u001b[1;33m(\u001b[0m\u001b[0mr\u001b[0m\u001b[1;33m.\u001b[0m\u001b[0mhistory\u001b[0m\u001b[1;33m[\u001b[0m\u001b[1;34m'val_accuracy'\u001b[0m\u001b[1;33m]\u001b[0m\u001b[1;33m,\u001b[0m \u001b[0mlabel\u001b[0m\u001b[1;33m=\u001b[0m\u001b[1;34m'val_acc'\u001b[0m\u001b[1;33m)\u001b[0m\u001b[1;33m\u001b[0m\u001b[1;33m\u001b[0m\u001b[0m\n\u001b[0;32m     10\u001b[0m \u001b[0mplt\u001b[0m\u001b[1;33m.\u001b[0m\u001b[0mlegend\u001b[0m\u001b[1;33m(\u001b[0m\u001b[1;33m)\u001b[0m\u001b[1;33m\u001b[0m\u001b[1;33m\u001b[0m\u001b[0m\n",
      "\u001b[1;31mKeyError\u001b[0m: 'accuracy'"
     ]
    }
   ],
   "source": [
    "# plot \n",
    "plt.plot(r.history['loss'], label='loss')\n",
    "plt.plot(r.history['val_loss'], label='val_loss')\n",
    "plt.legend()\n",
    "plt.show()\n",
    "\n",
    "# accuracies\n",
    "plt.plot(r.history['accuracy'], label='acc')\n",
    "plt.plot(r.history['val_accuracy'], label='val_acc')\n",
    "plt.legend()\n",
    "plt.show()"
   ]
  },
  {
   "cell_type": "code",
   "execution_count": null,
   "id": "4f0c6df1",
   "metadata": {},
   "outputs": [
    {
     "name": "stdout",
     "output_type": "stream",
     "text": [
      "-\n",
      "Input sentence: I'm a normal girl.\n",
      "Predicted translation: soy un una\n",
      "Actual translation: Soy una chica normal. <eos>\n"
     ]
    }
   ],
   "source": [
    "### Predictions \n",
    "encoder_model = Model(encoder_inputs_placeholder, encoder_outputs)\n",
    "\n",
    "# Define a T=1 decoder model\n",
    "encoder_outputs_as_input = Input(shape=(max_len_input, LATENT_DIM * 2,))\n",
    "decoder_inputs_single = Input(shape=(1,))\n",
    "decoder_inputs_single_x = decoder_embedding(decoder_inputs_single)\n",
    "\n",
    "## only one step\n",
    "context = one_step_attention(encoder_outputs_as_input, initial_s)\n",
    "\n",
    "# combine context with last word\n",
    "decoder_lstm_input = context_last_word_concat_layer([context, decoder_inputs_single_x])\n",
    "\n",
    "# lstm and final dense\n",
    "o, s, c = decoder_lstm(decoder_lstm_input, initial_state=[initial_s, initial_c])\n",
    "decoder_outputs = decoder_dense(o)\n",
    "\n",
    "# Model\n",
    "decoder_model = Model(inputs=[decoder_inputs_single,\n",
    "                            encoder_outputs_as_input,\n",
    "                            initial_s, \n",
    "                            initial_c],\n",
    "                            outputs=[decoder_outputs, s, c])\n",
    "idx2word_eng = {v:k for k, v in word2idx_inputs.items()}\n",
    "idx2word_trans = {v:k for k, v in word2idx_outputs.items()}\n",
    "\n",
    "def decode_sequence(input_seq):\n",
    "  enc_out = encoder_model.predict(input_seq)\n",
    "  target_seq = np.zeros((1, 1))\n",
    "  target_seq[0, 0] = word2idx_outputs['<sos>']   ## Start chr.\n",
    "  eos = word2idx_outputs['<eos>']                ## End chr\n",
    "  s = np.zeros((1, LATENT_DIM_DECODER))\n",
    "  c = np.zeros((1, LATENT_DIM_DECODER))\n",
    "\n",
    "  # Translation\n",
    "  output_sentence = []\n",
    "  for _ in range(max_len_target):\n",
    "    o, s, c = decoder_model.predict([target_seq, enc_out, s, c])     \n",
    "    idx = np.argmax(o.flatten())       \n",
    "    if eos == idx:                     # End of sentence\n",
    "      break\n",
    "\n",
    "    word = ''\n",
    "    if idx > 0:\n",
    "      word = idx2word_trans[idx]\n",
    "      output_sentence.append(word)\n",
    "\n",
    "    target_seq[0, 0] = idx\n",
    "  return ' '.join(output_sentence)\n",
    "\n",
    "while True:\n",
    "  # Test translations\n",
    "  i = np.random.choice(len(input_texts))\n",
    "  input_seq = encoder_inputs[i:i+1]\n",
    "  translation = decode_sequence(input_seq)\n",
    "  print('-')\n",
    "  print('Input sentence:', input_texts[i])\n",
    "  print('Predicted translation:', translation)\n",
    "  print('Actual translation:', target_texts[i])"
   ]
  },
  {
   "cell_type": "markdown",
   "id": "f01b5c37",
   "metadata": {},
   "source": [
    "#### Acknowledges:\n",
    "(References)\n",
    "        \n",
    "    1.  Coursera of NLP (Natural Language Processing Specialization)\n",
    "           https://www.coursera.org/specializations/natural-language-processing\n",
    "                \n",
    "    2. Towarwards data science \n",
    "          https://towardsdatascience.com/text-analysis-feature-engineering-with-nlp-502d6ea9225d\n",
    "            \n",
    "    3. Deep Learning: Advanced Natural Language Processing and RNNS (Udemy) by Lazy Programmer.\n",
    "        \n",
    "    4. https://d2l.ai\n",
    "          Book (Dive into Deep Learning)"
   ]
  },
  {
   "cell_type": "code",
   "execution_count": null,
   "id": "8b6b61af",
   "metadata": {},
   "outputs": [],
   "source": []
  },
  {
   "cell_type": "code",
   "execution_count": null,
   "id": "86434522",
   "metadata": {},
   "outputs": [],
   "source": []
  },
  {
   "cell_type": "code",
   "execution_count": null,
   "id": "4b63b8eb",
   "metadata": {},
   "outputs": [],
   "source": []
  },
  {
   "cell_type": "code",
   "execution_count": null,
   "id": "440c6fae",
   "metadata": {},
   "outputs": [],
   "source": []
  }
 ],
 "metadata": {
  "kernelspec": {
   "display_name": "Python 3",
   "language": "python",
   "name": "python3"
  },
  "language_info": {
   "codemirror_mode": {
    "name": "ipython",
    "version": 3
   },
   "file_extension": ".py",
   "mimetype": "text/x-python",
   "name": "python",
   "nbconvert_exporter": "python",
   "pygments_lexer": "ipython3",
   "version": "3.8.12"
  },
  "varInspector": {
   "cols": {
    "lenName": 16,
    "lenType": 16,
    "lenVar": 40
   },
   "kernels_config": {
    "python": {
     "delete_cmd_postfix": "",
     "delete_cmd_prefix": "del ",
     "library": "var_list.py",
     "varRefreshCmd": "print(var_dic_list())"
    },
    "r": {
     "delete_cmd_postfix": ") ",
     "delete_cmd_prefix": "rm(",
     "library": "var_list.r",
     "varRefreshCmd": "cat(var_dic_list()) "
    }
   },
   "types_to_exclude": [
    "module",
    "function",
    "builtin_function_or_method",
    "instance",
    "_Feature"
   ],
   "window_display": false
  }
 },
 "nbformat": 4,
 "nbformat_minor": 5
}
