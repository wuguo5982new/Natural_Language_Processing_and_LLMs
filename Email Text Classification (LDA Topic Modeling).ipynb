{
 "cells": [
  {
   "cell_type": "markdown",
   "metadata": {},
   "source": [
    "## Email Text Classification (K-Means and Topic Modeling/LDA)\n",
    "\n",
    "We performed email text classification, by using K-Means and topic Modeling (LDA), results show that some of classified contents are similar.  "
   ]
  },
  {
   "cell_type": "code",
   "execution_count": 1,
   "metadata": {},
   "outputs": [],
   "source": [
    "# Import library and read csv\n",
    "import pandas as pd\n",
    "import numpy as np\n",
    "import numpy as np\n",
    "import string\n",
    "import nltk\n",
    "import gensim\n",
    "from gensim import corpora\n",
    "from nltk.corpus import stopwords\n",
    "import matplotlib.pyplot as plt\n",
    "from sklearn.decomposition import PCA\n",
    "from sklearn.model_selection import train_test_split\n",
    "from sklearn.metrics.pairwise import linear_kernel\n",
    "import seaborn as sns"
   ]
  },
  {
   "cell_type": "code",
   "execution_count": 2,
   "metadata": {},
   "outputs": [
    {
     "name": "stdout",
     "output_type": "stream",
     "text": [
      "(517401, 2)\n",
      "(20000, 2)\n",
      "                       file                                            message\n",
      "0     allen-p/_sent_mail/1.  Message-ID: <18782981.1075855378110.JavaMail.e...\n",
      "1    allen-p/_sent_mail/10.  Message-ID: <15464986.1075855378456.JavaMail.e...\n",
      "2   allen-p/_sent_mail/100.  Message-ID: <24216240.1075855687451.JavaMail.e...\n",
      "3  allen-p/_sent_mail/1000.  Message-ID: <13505866.1075863688222.JavaMail.e...\n",
      "4  allen-p/_sent_mail/1001.  Message-ID: <30922949.1075863688243.JavaMail.e...\n"
     ]
    }
   ],
   "source": [
    "emails = pd.read_csv('emails.csv')\n",
    "print(emails.shape)\n",
    "email_subset = emails[:20000]\n",
    "print(email_subset.shape)\n",
    "print(email_subset.head())"
   ]
  },
  {
   "cell_type": "code",
   "execution_count": 3,
   "metadata": {},
   "outputs": [
    {
     "data": {
      "text/plain": [
       "['Message-ID: <30965995.1075863688265.JavaMail.evans@thyme>',\n",
       " 'Date: Thu, 31 Aug 2000 04:17:00 -0700 (PDT)',\n",
       " 'From: phillip.allen@enron.com',\n",
       " 'To: greg.piper@enron.com',\n",
       " 'Subject: Re: Hello',\n",
       " 'Mime-Version: 1.0',\n",
       " 'Content-Type: text/plain; charset=us-ascii',\n",
       " 'Content-Transfer-Encoding: 7bit',\n",
       " 'X-From: Phillip K Allen',\n",
       " 'X-To: Greg Piper',\n",
       " 'X-cc: ',\n",
       " 'X-bcc: ',\n",
       " \"X-Folder: \\\\Phillip_Allen_Dec2000\\\\Notes Folders\\\\'sent mail\",\n",
       " 'X-Origin: Allen-P',\n",
       " 'X-FileName: pallen.nsf',\n",
       " '',\n",
       " 'Greg,',\n",
       " '',\n",
       " ' How about either next Tuesday or Thursday?',\n",
       " '',\n",
       " 'Phillip']"
      ]
     },
     "execution_count": 3,
     "metadata": {},
     "output_type": "execute_result"
    }
   ],
   "source": [
    "email_subset['message'].loc[5].split('\\n')"
   ]
  },
  {
   "cell_type": "code",
   "execution_count": 4,
   "metadata": {},
   "outputs": [],
   "source": [
    "def parse_message(raw_message):\n",
    "    lines = raw_message.split('\\n')\n",
    "    email = {}\n",
    "    message = ''\n",
    "    keys_to_extract = ['from', 'to']\n",
    "    for line in lines:\n",
    "        if ':' not in line:\n",
    "            message += line.strip()\n",
    "            email['body'] = message\n",
    "        else:\n",
    "            pairs = line.split(':')\n",
    "            key = pairs[0].lower()\n",
    "            val = pairs[1].strip()\n",
    "            if key in keys_to_extract:\n",
    "                email[key] = val\n",
    "    return email"
   ]
  },
  {
   "cell_type": "code",
   "execution_count": 5,
   "metadata": {},
   "outputs": [
    {
     "data": {
      "text/html": [
       "<div>\n",
       "<style scoped>\n",
       "    .dataframe tbody tr th:only-of-type {\n",
       "        vertical-align: middle;\n",
       "    }\n",
       "\n",
       "    .dataframe tbody tr th {\n",
       "        vertical-align: top;\n",
       "    }\n",
       "\n",
       "    .dataframe thead th {\n",
       "        text-align: right;\n",
       "    }\n",
       "</style>\n",
       "<table border=\"1\" class=\"dataframe\">\n",
       "  <thead>\n",
       "    <tr style=\"text-align: right;\">\n",
       "      <th></th>\n",
       "      <th>from</th>\n",
       "      <th>to</th>\n",
       "      <th>body</th>\n",
       "    </tr>\n",
       "  </thead>\n",
       "  <tbody>\n",
       "    <tr>\n",
       "      <th>19942</th>\n",
       "      <td>kayne.coulter@enron.com</td>\n",
       "      <td>jay.wills@enron.com, cyril.price@enron.com, jo...</td>\n",
       "      <td>rudy.acevedo@enron.com, richard.hrabal@enron.c...</td>\n",
       "    </tr>\n",
       "    <tr>\n",
       "      <th>12000</th>\n",
       "      <td>eric.bass@enron.com</td>\n",
       "      <td>\"'Eric_Bass@enron.com'\" &lt;Eric_Bass@enron.com&gt;</td>\n",
       "      <td>Michael is a happily married man.  He would ne...</td>\n",
       "    </tr>\n",
       "    <tr>\n",
       "      <th>18349</th>\n",
       "      <td>news@luxurylink.com</td>\n",
       "      <td>don.baughman@enron.com</td>\n",
       "      <td>Buenos Aires, Barbados, Indian Wells, Bali, Pa...</td>\n",
       "    </tr>\n",
       "    <tr>\n",
       "      <th>12372</th>\n",
       "      <td>Eric.Bass@enron.com [mailto</td>\n",
       "      <td>Bass, Jason</td>\n",
       "      <td>i havent heard anything yet - i will let you k...</td>\n",
       "    </tr>\n",
       "    <tr>\n",
       "      <th>12985</th>\n",
       "      <td>eric.bass@enron.com</td>\n",
       "      <td>eric preston bass &lt;Eric.Bass@enron.com&gt;</td>\n",
       "      <td>beef and bird is on wilcrest - right?Hi Son. M...</td>\n",
       "    </tr>\n",
       "  </tbody>\n",
       "</table>\n",
       "</div>"
      ],
      "text/plain": [
       "                              from  \\\n",
       "19942      kayne.coulter@enron.com   \n",
       "12000          eric.bass@enron.com   \n",
       "18349          news@luxurylink.com   \n",
       "12372  Eric.Bass@enron.com [mailto   \n",
       "12985          eric.bass@enron.com   \n",
       "\n",
       "                                                      to  \\\n",
       "19942  jay.wills@enron.com, cyril.price@enron.com, jo...   \n",
       "12000      \"'Eric_Bass@enron.com'\" <Eric_Bass@enron.com>   \n",
       "18349                             don.baughman@enron.com   \n",
       "12372                                        Bass, Jason   \n",
       "12985            eric preston bass <Eric.Bass@enron.com>   \n",
       "\n",
       "                                                    body  \n",
       "19942  rudy.acevedo@enron.com, richard.hrabal@enron.c...  \n",
       "12000  Michael is a happily married man.  He would ne...  \n",
       "18349  Buenos Aires, Barbados, Indian Wells, Bali, Pa...  \n",
       "12372  i havent heard anything yet - i will let you k...  \n",
       "12985  beef and bird is on wilcrest - right?Hi Son. M...  "
      ]
     },
     "metadata": {},
     "output_type": "display_data"
    },
    {
     "name": "stdout",
     "output_type": "stream",
     "text": [
      "(20000, 3)\n"
     ]
    }
   ],
   "source": [
    "email_df = pd.DataFrame([i for i in [parse_message(m) for m in email_subset['message']]])\n",
    "display(email_df.sample(5))\n",
    "print(email_df.shape)"
   ]
  },
  {
   "cell_type": "code",
   "execution_count": 6,
   "metadata": {},
   "outputs": [
    {
     "data": {
      "text/plain": [
       "from    False\n",
       "to      False\n",
       "body    False\n",
       "dtype: bool"
      ]
     },
     "execution_count": 6,
     "metadata": {},
     "output_type": "execute_result"
    }
   ],
   "source": [
    "# Check null values\n",
    "email_df.isnull().all()"
   ]
  },
  {
   "cell_type": "markdown",
   "metadata": {},
   "source": [
    "### Text Cleaning"
   ]
  },
  {
   "cell_type": "code",
   "execution_count": 8,
   "metadata": {},
   "outputs": [
    {
     "name": "stderr",
     "output_type": "stream",
     "text": [
      "[nltk_data] Downloading package stopwords to\n",
      "[nltk_data]     C:\\Users\\Sealion\\AppData\\Roaming\\nltk_data...\n",
      "[nltk_data]   Package stopwords is already up-to-date!\n"
     ]
    }
   ],
   "source": [
    "# Define stopwords to exclude\n",
    "nltk.download('stopwords')\n",
    "stop = set(stopwords.words('english'))\n",
    "stop.update((\"to\", \"cc\", \"subject\", \"http\", \"from\", \"sent\", \"ect\", \"u\", \"fwd\", \"www\", \"com\", 'html'))\n",
    "# Define punctuations to exclude and lemmatizer\n",
    "exclude = set(string.punctuation)"
   ]
  },
  {
   "cell_type": "code",
   "execution_count": 9,
   "metadata": {},
   "outputs": [
    {
     "name": "stderr",
     "output_type": "stream",
     "text": [
      "[nltk_data] Downloading package wordnet to\n",
      "[nltk_data]     C:\\Users\\Sealion\\AppData\\Roaming\\nltk_data...\n",
      "[nltk_data]   Package wordnet is already up-to-date!\n"
     ]
    },
    {
     "data": {
      "text/plain": [
       "['traveling', 'business', 'meeting', 'take', 'fun']"
      ]
     },
     "execution_count": 9,
     "metadata": {},
     "output_type": "execute_result"
    }
   ],
   "source": [
    "from nltk.stem.wordnet import WordNetLemmatizer\n",
    "nltk.download('wordnet')\n",
    "\n",
    "# Import the lemmatizer from nltk\n",
    "lemma = WordNetLemmatizer()\n",
    "\n",
    "def clean(text):\n",
    "    text = str(text).rstrip()\n",
    "    stop_free = \" \".join([i for i in text.lower().split() if((i not in stop) and (not i.isdigit()))])\n",
    "    punc_free = ''.join(i for i in stop_free if i not in exclude)\n",
    "    normalized = \" \".join(lemma.lemmatize(i) for i in punc_free.split())      \n",
    "    return normalized\n",
    "# Clean the emails in email_df and print results\n",
    "text_clean=[]\n",
    "for text in email_df['body']:\n",
    "    text_clean.append(clean(text).split())    \n",
    "text_clean[1][:5]"
   ]
  },
  {
   "cell_type": "code",
   "execution_count": 10,
   "metadata": {},
   "outputs": [
    {
     "data": {
      "text/html": [
       "<div>\n",
       "<style scoped>\n",
       "    .dataframe tbody tr th:only-of-type {\n",
       "        vertical-align: middle;\n",
       "    }\n",
       "\n",
       "    .dataframe tbody tr th {\n",
       "        vertical-align: top;\n",
       "    }\n",
       "\n",
       "    .dataframe thead th {\n",
       "        text-align: right;\n",
       "    }\n",
       "</style>\n",
       "<table border=\"1\" class=\"dataframe\">\n",
       "  <thead>\n",
       "    <tr style=\"text-align: right;\">\n",
       "      <th></th>\n",
       "      <th>from</th>\n",
       "      <th>to</th>\n",
       "      <th>body</th>\n",
       "      <th>clean_text</th>\n",
       "    </tr>\n",
       "  </thead>\n",
       "  <tbody>\n",
       "    <tr>\n",
       "      <th>0</th>\n",
       "      <td>phillip.allen@enron.com</td>\n",
       "      <td>tim.belden@enron.com</td>\n",
       "      <td>Here is our forecast</td>\n",
       "      <td>forecast</td>\n",
       "    </tr>\n",
       "    <tr>\n",
       "      <th>1</th>\n",
       "      <td>phillip.allen@enron.com</td>\n",
       "      <td>john.lavorato@enron.com</td>\n",
       "      <td>Traveling to have a business meeting takes the...</td>\n",
       "      <td>traveling business meeting take fun trip espec...</td>\n",
       "    </tr>\n",
       "    <tr>\n",
       "      <th>2</th>\n",
       "      <td>phillip.allen@enron.com</td>\n",
       "      <td>leah.arsdall@enron.com</td>\n",
       "      <td>test successful.  way to go!!!</td>\n",
       "      <td>test successful way go</td>\n",
       "    </tr>\n",
       "    <tr>\n",
       "      <th>3</th>\n",
       "      <td>phillip.allen@enron.com</td>\n",
       "      <td>randall.gay@enron.com</td>\n",
       "      <td>Randy,Can you send me a schedule of the salary...</td>\n",
       "      <td>randycan send schedule salary level everyone t...</td>\n",
       "    </tr>\n",
       "    <tr>\n",
       "      <th>4</th>\n",
       "      <td>phillip.allen@enron.com</td>\n",
       "      <td>greg.piper@enron.com</td>\n",
       "      <td></td>\n",
       "      <td></td>\n",
       "    </tr>\n",
       "  </tbody>\n",
       "</table>\n",
       "</div>"
      ],
      "text/plain": [
       "                      from                       to  \\\n",
       "0  phillip.allen@enron.com     tim.belden@enron.com   \n",
       "1  phillip.allen@enron.com  john.lavorato@enron.com   \n",
       "2  phillip.allen@enron.com   leah.arsdall@enron.com   \n",
       "3  phillip.allen@enron.com    randall.gay@enron.com   \n",
       "4  phillip.allen@enron.com     greg.piper@enron.com   \n",
       "\n",
       "                                                body  \\\n",
       "0                               Here is our forecast   \n",
       "1  Traveling to have a business meeting takes the...   \n",
       "2                     test successful.  way to go!!!   \n",
       "3  Randy,Can you send me a schedule of the salary...   \n",
       "4                                                      \n",
       "\n",
       "                                          clean_text  \n",
       "0                                           forecast  \n",
       "1  traveling business meeting take fun trip espec...  \n",
       "2                             test successful way go  \n",
       "3  randycan send schedule salary level everyone t...  \n",
       "4                                                     "
      ]
     },
     "execution_count": 10,
     "metadata": {},
     "output_type": "execute_result"
    }
   ],
   "source": [
    "email_df['clean_text'] = email_df['body'].apply(clean)\n",
    "email_df.head(5)"
   ]
  },
  {
   "cell_type": "code",
   "execution_count": 11,
   "metadata": {},
   "outputs": [],
   "source": [
    "from sklearn.feature_extraction.text import TfidfVectorizer\n",
    "vect = TfidfVectorizer(stop_words='english', max_df=0.75, min_df=1, ngram_range=(1,3), max_features=1000)\n",
    "new_vect = vect.fit_transform(email_df['clean_text'])"
   ]
  },
  {
   "cell_type": "code",
   "execution_count": 12,
   "metadata": {},
   "outputs": [
    {
     "name": "stderr",
     "output_type": "stream",
     "text": [
      "C:\\Users\\Sealion\\anaconda3\\envs\\python\\lib\\site-packages\\sklearn\\utils\\deprecation.py:87: FutureWarning: Function get_feature_names is deprecated; get_feature_names is deprecated in 1.0 and will be removed in 1.2. Please use get_feature_names_out instead.\n",
      "  warnings.warn(msg, category=FutureWarning)\n"
     ]
    },
    {
     "data": {
      "text/html": [
       "<div>\n",
       "<style scoped>\n",
       "    .dataframe tbody tr th:only-of-type {\n",
       "        vertical-align: middle;\n",
       "    }\n",
       "\n",
       "    .dataframe tbody tr th {\n",
       "        vertical-align: top;\n",
       "    }\n",
       "\n",
       "    .dataframe thead th {\n",
       "        text-align: right;\n",
       "    }\n",
       "</style>\n",
       "<table border=\"1\" class=\"dataframe\">\n",
       "  <thead>\n",
       "    <tr style=\"text-align: right;\">\n",
       "      <th></th>\n",
       "      <th>features</th>\n",
       "      <th>score</th>\n",
       "    </tr>\n",
       "  </thead>\n",
       "  <tbody>\n",
       "    <tr>\n",
       "      <th>0</th>\n",
       "      <td>meeting</td>\n",
       "      <td>0.543749</td>\n",
       "    </tr>\n",
       "    <tr>\n",
       "      <th>1</th>\n",
       "      <td>business</td>\n",
       "      <td>0.411307</td>\n",
       "    </tr>\n",
       "    <tr>\n",
       "      <th>2</th>\n",
       "      <td>trip</td>\n",
       "      <td>0.396988</td>\n",
       "    </tr>\n",
       "    <tr>\n",
       "      <th>3</th>\n",
       "      <td>discussion</td>\n",
       "      <td>0.278341</td>\n",
       "    </tr>\n",
       "    <tr>\n",
       "      <th>4</th>\n",
       "      <td>try</td>\n",
       "      <td>0.229640</td>\n",
       "    </tr>\n",
       "    <tr>\n",
       "      <th>5</th>\n",
       "      <td>jet</td>\n",
       "      <td>0.155166</td>\n",
       "    </tr>\n",
       "    <tr>\n",
       "      <th>6</th>\n",
       "      <td>table</td>\n",
       "      <td>0.149227</td>\n",
       "    </tr>\n",
       "    <tr>\n",
       "      <th>7</th>\n",
       "      <td>austin</td>\n",
       "      <td>0.147740</td>\n",
       "    </tr>\n",
       "    <tr>\n",
       "      <th>8</th>\n",
       "      <td>especially</td>\n",
       "      <td>0.139708</td>\n",
       "    </tr>\n",
       "    <tr>\n",
       "      <th>9</th>\n",
       "      <td>fun</td>\n",
       "      <td>0.134621</td>\n",
       "    </tr>\n",
       "  </tbody>\n",
       "</table>\n",
       "</div>"
      ],
      "text/plain": [
       "     features     score\n",
       "0     meeting  0.543749\n",
       "1    business  0.411307\n",
       "2        trip  0.396988\n",
       "3  discussion  0.278341\n",
       "4         try  0.229640\n",
       "5         jet  0.155166\n",
       "6       table  0.149227\n",
       "7      austin  0.147740\n",
       "8  especially  0.139708\n",
       "9         fun  0.134621"
      ]
     },
     "execution_count": 12,
     "metadata": {},
     "output_type": "execute_result"
    }
   ],
   "source": [
    "## To find out the top keywords in the email\n",
    "row = np.squeeze(new_vect[1].toarray())\n",
    "features = vect.get_feature_names()\n",
    "top_feature = [(features[i], row[i]) for i in np.argsort(row)[::-1][:10]]\n",
    "top_feature\n",
    "pd.DataFrame(top_feature, columns = ['features', 'score'])"
   ]
  },
  {
   "cell_type": "markdown",
   "metadata": {},
   "source": [
    "## (1). K-Means"
   ]
  },
  {
   "cell_type": "code",
   "execution_count": 13,
   "metadata": {},
   "outputs": [
    {
     "name": "stderr",
     "output_type": "stream",
     "text": [
      "C:\\Users\\Sealion\\anaconda3\\envs\\python\\lib\\site-packages\\sklearn\\utils\\validation.py:585: FutureWarning: np.matrix usage is deprecated in 1.0 and will raise a TypeError in 1.2. Please convert to a numpy array with np.asarray. For more information see: https://numpy.org/doc/stable/reference/generated/numpy.matrix.html\n",
      "  warnings.warn(\n"
     ]
    },
    {
     "data": {
      "image/png": "[encoded data removed]",
      "text/plain": [
       "<Figure size 432x288 with 1 Axes>"
      ]
     },
     "metadata": {
      "needs_background": "light"
     },
     "output_type": "display_data"
    }
   ],
   "source": [
    "from sklearn.cluster import KMeans\n",
    "clf = KMeans(n_clusters=3, max_iter=100, init='k-means++', random_state = 42)\n",
    "labels = clf.fit_predict(new_vect)\n",
    "\n",
    "label_colors = [\"#2AB0E9\", \"#2BAF74\", \"#D7665E\", \"#CCCCCC\", \n",
    "                \"#D2CA0D\", \"#522A64\", \"#A3DB05\", \"#FC6514\"]\n",
    "colors = [label_colors[i] for i in labels]\n",
    "coords = PCA(n_components=2).fit_transform(new_vect.todense())\n",
    "plt.scatter(coords[:, 0], coords[:, 1], c=colors)\n",
    "plt.show()"
   ]
  },
  {
   "cell_type": "code",
   "execution_count": 15,
   "metadata": {},
   "outputs": [],
   "source": [
    "## To extract the top terms per cluster\n",
    "def top_tfidf_feats(row, features, top_n=20):\n",
    "    topn_ids = np.argsort(row)[::-1][:top_n]\n",
    "    top_feats = [(features[i], row[i]) for i in topn_ids]\n",
    "    df = pd.DataFrame(top_feats, columns=['features', 'score'])\n",
    "    return df\n",
    "\n",
    "def top_mean_feats(X, features, grp_ids=None, min_tfidf=0.1, top_n=25):\n",
    "    if grp_ids:\n",
    "        D = X[grp_ids].toarray()\n",
    "    else:\n",
    "        D = X.toarray()\n",
    "    D[D < min_tfidf] = 0\n",
    "    tfidf_means = np.mean(D, axis=0)\n",
    "    return top_tfidf_feats(tfidf_means, features, top_n)\n",
    "\n",
    "def top_feats_per_cluster(X, y, features, min_tfidf=0.1, top_n=25):\n",
    "    dfs = []\n",
    "    labels = np.unique(y)\n",
    "    for label in labels:\n",
    "        ids = np.where(y==label) \n",
    "        feats_df = top_mean_feats(X, features, ids, min_tfidf=min_tfidf, top_n=top_n)\n",
    "        feats_df.label = label\n",
    "        dfs.append(feats_df)\n",
    "    return dfs"
   ]
  },
  {
   "cell_type": "code",
   "execution_count": 16,
   "metadata": {},
   "outputs": [
    {
     "data": {
      "image/png": "[encoded data removed]",
      "text/plain": [
       "<Figure size 864x648 with 3 Axes>"
      ]
     },
     "metadata": {},
     "output_type": "display_data"
    }
   ],
   "source": [
    "def plot_tfidf_classfeats_h(dfs):\n",
    "    fig = plt.figure(figsize=(12, 9), facecolor=\"w\")\n",
    "    x = np.arange(len(dfs[0]))\n",
    "    for i, df in enumerate(dfs):\n",
    "        ax = fig.add_subplot(1, len(dfs), i+1)\n",
    "        ax.spines[\"top\"].set_visible(False)\n",
    "        ax.spines[\"right\"].set_visible(False)\n",
    "        ax.set_frame_on(False)\n",
    "        ax.get_xaxis().tick_bottom()\n",
    "        ax.get_yaxis().tick_left()\n",
    "        ax.set_xlabel(\"Tf-Idf Score\", labelpad=12, fontsize=12)\n",
    "        ax.set_title(\"cluster = \" + str(df.label), fontsize=12)\n",
    "        ax.ticklabel_format(axis='x', style='sci', scilimits=(-2,2))\n",
    "        ax.barh(x, df.score, align='center', color='g')\n",
    "        ax.set_yticks(x)\n",
    "        ax.set_ylim([-1, x[-1]+1])\n",
    "        yticks = ax.set_yticklabels(df.features)\n",
    "        plt.subplots_adjust(bottom=0.1, right=1, left=0.2, top=1, wspace=0.5)\n",
    "    plt.show()    \n",
    "plot_tfidf_classfeats_h(top_feats_per_cluster(new_vect, labels, features, 0.1, 25))"
   ]
  },
  {
   "cell_type": "code",
   "execution_count": 17,
   "metadata": {},
   "outputs": [
    {
     "name": "stdout",
     "output_type": "stream",
     "text": [
      "[15190 14694 12039  2498  1086   551  1690   137   357]\n"
     ]
    }
   ],
   "source": [
    "## Query the key word (example)\n",
    "query = \"forwarded phillip\"\n",
    "vec_query = vect.transform([query])\n",
    "cosine_sim = linear_kernel(vec_query, new_vect).flatten()\n",
    "related_email_indices = cosine_sim.argsort()[:-10:-1]\n",
    "print(related_email_indices)"
   ]
  },
  {
   "cell_type": "code",
   "execution_count": 18,
   "metadata": {},
   "outputs": [
    {
     "data": {
      "text/plain": [
       "'---------------------- Forwarded by Phillip K Allen/HOU/ECT on 11/29/2000Anne Bike@ENRONSanchez/HOU/ECT@ECT, Phillip K Allen/HOU/ECT@ECTAttached please find the spreadsheet containing the above referencedinformation.'"
      ]
     },
     "metadata": {},
     "output_type": "display_data"
    }
   ],
   "source": [
    "# Show the example\n",
    "display(email_df.iloc[551].body)"
   ]
  },
  {
   "cell_type": "markdown",
   "metadata": {},
   "source": [
    "## (2). Latent Dirichlet Allocation (LDA) topic modeling"
   ]
  },
  {
   "cell_type": "code",
   "execution_count": 46,
   "metadata": {},
   "outputs": [
    {
     "name": "stdout",
     "output_type": "stream",
     "text": [
      "Dictionary(174912 unique tokens: ['forecast', 'across', 'austin', 'better', 'boat']...)\n"
     ]
    }
   ],
   "source": [
    "# Dictionary and corpus\n",
    "dictionary = corpora.Dictionary(text_clean)\n",
    "# Filter out (non)frequent words \n",
    "# dictionary.filter_extremes(no_below=10, keep_n=500000)\n",
    "corpus = [dictionary.doc2bow(text) for text in text_clean]\n",
    "print(dictionary)"
   ]
  },
  {
   "cell_type": "code",
   "execution_count": 41,
   "metadata": {},
   "outputs": [
    {
     "name": "stdout",
     "output_type": "stream",
     "text": [
      "(0, '0.006*\"enron\" + 0.006*\"company\" + 0.005*\"power\" + 0.005*\"said\" + 0.005*\"market\"')\n",
      "(1, '0.008*\"facearial\" + 0.005*\"border0\" + 0.004*\"cellspacing0\" + 0.003*\"john\" + 0.003*\"david\"')\n",
      "(2, '0.008*\"image\" + 0.006*\"new\" + 0.005*\"email\" + 0.004*\"please\" + 0.004*\"travel\"')\n",
      "(3, '0.011*\"game\" + 0.009*\"week\" + 0.006*\"get\" + 0.005*\"updated\" + 0.005*\"last\"')\n",
      "(4, '0.014*\"email\" + 0.011*\"please\" + 0.007*\"alignrightfont\" + 0.006*\"message\" + 0.006*\"enron\"')\n"
     ]
    }
   ],
   "source": [
    "# LDA model\n",
    "ldamodel = gensim.models.ldamodel.LdaModel(corpus, num_topics=5, id2word=dictionary, passes=10)\n",
    "# Top words for each topic\n",
    "topics = ldamodel.print_topics(num_words=5)\n",
    "for topic in topics:\n",
    "    print(topic)"
   ]
  },
  {
   "cell_type": "markdown",
   "metadata": {},
   "source": [
    "### Visualize the topics"
   ]
  },
  {
   "cell_type": "code",
   "execution_count": 43,
   "metadata": {},
   "outputs": [
    {
     "name": "stderr",
     "output_type": "stream",
     "text": [
      "C:\\Users\\Sealion\\anaconda3\\envs\\python\\lib\\site-packages\\pyLDAvis\\_prepare.py:247: FutureWarning: In a future version of pandas all arguments of DataFrame.drop except for the argument 'labels' will be keyword-only\n",
      "  default_term_info = default_term_info.sort_values(\n"
     ]
    },
    {
     "data": {
      "text/html": [
       "\n",
       "<link rel=\"stylesheet\" type=\"text/css\" href=\"https://cdn.jsdelivr.net/gh/bmabey/pyLDAvis@3.2.2/pyLDAvis/js/ldavis.v1.0.0.css\">\n",
       "\n",
       "\n",
       "<div id=\"ldavis_el2752825588318993603035727666\"></div>\n",
       "<script type=\"text/javascript\">\n",
       "\n",
       "var ldavis_el2752825588318993603035727666_data = {\"mdsDat\": {\"x\": [-0.12972369236139508, 0.3387132162798628, -0.11588459571209539, -0.047321934612246146, -0.045782993594126235], \"y\": [0.03292645774987832, -0.013556864196663182, -0.11903863941016257, 0.23936366592954478, -0.13969462007259742], \"topics\": [1, 2, 3, 4, 5], \"cluster\": [1, 1, 1, 1, 1], \"Freq\": [31.000112225812437, 7.5895423650917255, 16.286848786099984, 30.80959513374956, 14.313901489246295]}, \"tinfo\": {\"Term\": [\"game\", \"email\", \"please\", \"image\", \"alignrightfont\", \"updated\", \"company\", \"facearial\", \"yard\", \"enron\", \"message\", \"play\", \"week\", \"tofrom\", \"size1\", \"said\", \"travel\", \"market\", \"power\", \"fantasy\", \"sunday\", \"energy\", \"information\", \"recipient\", \"gas\", \"defense\", \"border0\", \"city\", \"contact\", \"agent\", \"billion\", \"dow\", \"utility\", \"earnings\", \"electricity\", \"revenue\", \"officer\", \"india\", \"recount\", \"attack\", \"political\", \"democrat\", \"sector\", \"police\", \"military\", \"investigation\", \"rto\", \"republican\", \"foreign\", \"terrorist\", \"bin\", \"voter\", \"rating\", \"forecast\", \"economist\", \"indian\", \"megawatt\", \"secretary\", \"expressed\", \"growing\", \"lay\", \"demand\", \"economic\", \"government\", \"million\", \"ballot\", \"gore\", \"industry\", \"nation\", \"dynegy\", \"quote\", \"economy\", \"mr\", \"bush\", \"profit\", \"debt\", \"company\", \"stock\", \"energy\", \"county\", \"state\", \"california\", \"power\", \"enrons\", \"asset\", \"election\", \"said\", \"american\", \"journal\", \"market\", \"president\", \"vote\", \"enron\", \"share\", \"jones\", \"gas\", \"price\", \"business\", \"street\", \"trading\", \"year\", \"news\", \"the\", \"new\", \"would\", \"u\", \"also\", \"one\", \"time\", \"people\", \"right\", \"say\", \"report\", \"could\", \"last\", \"border0\", \"cellspacing0\", \"alignmiddlefont\", \"size2font\", \"color000000bfont\", \"facearial\", \"shaperect\", \"parentrandom\", \"25area\", \"pizzahut\", \"cellpadding1\", \"baumbachhouectect\", \"lqcolomboaolcommichaelwaltersenroncom\", \"colorffffff\", \"winfreehouectect\", \"garylamphierenroncomonealwinfreeenroncom\", \"matthewlenhartenroncomharrybucaloenroncom\", \"communicationsenroncommunications\", \"languagejavascriptif\", \"abcsubstring2abclengthscriptnoscriptnoscript\", \"mathrandom\", \"classtd2\", \"lenharthouectect\", \"gorons\", \"bgcolor000099trtd\", \"forcbs\", \"hiemstrahouectect\", \"scotthouectect\", \"bgcolorf0f0f0\", \"faceverdanaarialhelvetica\", \"random\", \"cellpadding0trtd\", \"communicationsenron\", \"spotlight\", \"width100\", \"var\", \"davidbaumbachenroncom\", \"lisa\", \"cellpadding0\", \"logo\", \"david\", \"tag\", \"jeffrey\", \"j\", \"brian\", \"bryan\", \"john\", \"communication\", \"d\", \"forwarded\", \"north\", \"eric\", \"1\", \"w\", \"america\", \"c\", \"email\", \"michael\", \"mark\", \"roundtrip\", \"ew\", \"meter\", \"eb\", \"rental\", \"caribbean\", \"accrual\", \"resort\", \"buycom\", \"dvd\", \"chadstarnesenroncomjoestepenovitchenroncom\", \"etrade\", \"xms\", \"dougsewellenroncomrobertstalfordenroncom\", \"eel\", \"gracekimenroncomjeffkingenroncom\", \"dougmillerenroncomjeffreymillerenroncom\", \"clearstation\", \"larryjesterenroncomgaryjusticeenroncom\", \"departure\", \"chrislenartowiczenroncompetermakkaienroncom\", \"tommayenroncomkellermayeauxenroncom\", \"zacharysampsonenroncomannasantuccienroncom\", \"davidportzenroncomsharencasonenroncom\", \"madhupkumarenroncomjustinlaverellenroncom\", \"veronicagonzalezenroncomkimberlyallenenroncom\", \"williambradfordenroncomdebbiebrackettenroncom\", \"michaelkellyenroncom\", \"mariavaldesenroncomjosephwagnerenroncom\", \"todddecookenroncomgeorgediazenroncom\", \"amazoncom\", \"fare\", \"travel\", \"subscriber\", \"image\", \"shipping\", \"01\", \"hotel\", \"trademark\", \"rt\", \"gift\", \"save\", \"airline\", \"discount\", \"special\", \"holiday\", \"saving\", \"airfare\", \"ena\", \"expense\", \"cruise\", \"shopping\", \"card\", \"city\", \"click\", \"order\", \"purchase\", \"online\", \"tax\", \"sale\", \"offer\", \"value\", \"service\", \"account\", \"new\", \"unsubscribe\", \"available\", \"please\", \"email\", \"deal\", \"free\", \"u\", \"receive\", \"day\", \"may\", \"time\", \"get\", \"great\", \"game\", \"yard\", \"injury\", \"rb\", \"qb\", \"wr\", \"rank\", \"coach\", \"sore\", \"knee\", \"ball\", \"injured\", \"te\", \"rushing\", \"ut\", \"matchup\", \"dallas\", \"offense\", \"he01s\", \"catch\", \"questionable\", \"receiver\", \"ankle\", \"touchdown\", \"starter\", \"quarterback\", \"lineup\", \"nfl\", \"sprained\", \"playoff\", \"sunday\", \"tofrom\", \"passing\", \"updated\", \"defense\", \"agent\", \"play\", \"fantasy\", \"playing\", \"allowed\", \"league\", \"season\", \"player\", \"week\", \"team\", \"start\", \"he\", \"good\", \"last\", \"back\", \"v\", \"way\", \"get\", \"know\", \"point\", \"going\", \"like\", \"think\", \"free\", \"see\", \"one\", \"time\", \"go\", \"look\", \"would\", \"year\", \"alignrightfont\", \"size1\", \"recipient\", \"attachment\", \"size1b\", \"size1bb\", \"alignleft\", \"mailbox\", \"fonttdtrtrtd\", \"size3d1\", \"privileged\", \"ercot\", \"align3drightfont\", \"acceptance\", \"enronmessagingadministrationenroncom\", \"enforceable\", \"estoppel\", \"hereto\", \"tradersnews\", \"713\", \"deanlaurentenroncomdonbaughmanenroncom\", \"dougmillerenroncomlarrycampbellenroncom\", \"joestepenovitchenroncomjoeerrigoenroncom\", \"kellermayeauxenroncomchadstarnesenroncom\", \"energy7136478690bobetterineripgdirectcom\", \"oncall\", \"juanhernandezenroncomgregtrefzenroncom\", \"itsaffiliates\", \"intercontinentalexchange\", \"otherwisethank\", \"sender\", \"hourly\", \"confidential\", \"oasis\", \"delete\", \"helvetica\", \"sansserif\", \"intended\", \"prohibited\", \"alignleftfont\", \"strictly\", \"desk\", \"email\", \"please\", \"message\", \"contact\", \"or\", \"index\", \"attached\", \"information\", \"use\", \"transmission\", \"call\", \"enron\", \"need\", \"send\", \"request\", \"may\", \"meeting\", \"corp\", \"contract\", \"question\", \"gas\", \"receive\", \"market\", \"know\", \"day\", \"let\", \"would\", \"new\", \"get\"], \"Freq\": [7605.0, 7840.0, 6113.0, 3122.0, 2299.0, 3892.0, 5318.0, 1342.0, 2909.0, 7647.0, 3402.0, 3186.0, 7988.0, 2841.0, 1545.0, 4931.0, 1697.0, 4547.0, 4759.0, 2732.0, 2315.0, 3575.0, 3071.0, 1203.0, 3250.0, 2072.0, 877.0, 2114.0, 2009.0, 1972.0, 1101.6130380959985, 1060.3976233667377, 884.8390375013431, 692.92834976351, 686.6167403684314, 617.6182213813249, 571.0631486963953, 456.8568436901206, 438.9225002109944, 445.938000741709, 370.7963625694133, 338.7647226347154, 309.38517363816754, 315.54414699009135, 310.9894925424575, 307.3836115468179, 314.5070855147996, 292.122928292761, 289.54248802803755, 287.86634911342657, 279.2734330775136, 278.0116403762927, 355.95669316896203, 263.86400852887215, 258.48059815312274, 258.85072626997277, 253.05053546297682, 241.0411205806554, 237.37377029236262, 236.9018495348897, 414.8648922975428, 895.5405365458421, 404.7062026679188, 874.6511372574417, 1615.49124456928, 524.8006901649218, 1373.2340734159932, 850.125143494187, 489.3850217333092, 520.2004840927049, 1209.31807638551, 496.47617352157977, 815.7796419007138, 1430.8830410638802, 737.0600844874598, 421.044080241231, 4555.8120346436335, 1744.5102097413553, 3085.1526037787744, 555.4585422098908, 2061.490587600971, 997.7751464630143, 3787.236237404371, 1046.9439764466329, 712.6687135552223, 882.5387651283403, 3640.0160961418796, 1262.971455342497, 636.3109401418478, 3296.0545935561126, 1179.930674390486, 1027.079996722037, 4605.696990353506, 1047.481197743994, 1219.8881699999847, 2194.741959110711, 2364.02398831816, 2032.4752187628592, 1175.0864538534947, 1670.0764844559367, 3056.145193774697, 1616.373997799585, 1635.9222488846444, 2938.2677495671182, 2773.736636267868, 2174.6951802086523, 1794.9158764013885, 2284.1787638996398, 2283.5796499673897, 1422.7042384031276, 1646.6626107463992, 1452.6445253582408, 1463.2704154794076, 1309.736971452894, 1312.1811801861038, 877.042251038907, 626.8389344889592, 514.0579498222774, 511.557643364852, 509.6675509804965, 1339.9839207208531, 357.5243383507216, 304.4130988854935, 283.35020386886185, 281.0927558963909, 195.28927362833818, 193.40222837587828, 183.32308303056212, 177.02845477073356, 175.94705460842695, 171.34496301505888, 171.34496301505888, 166.50845991801154, 153.1847927895553, 152.253634885609, 152.253634885609, 151.20652013932445, 146.45452831260477, 114.61075627677847, 113.48433318605595, 112.55036653128076, 91.18977501996898, 89.8691335462847, 82.20423909333002, 78.18223227908499, 472.26336437015095, 111.00124198740107, 365.48066920425805, 286.4641653782323, 358.24420771445455, 483.5582324266389, 185.12145052622492, 210.94183049850363, 316.0063993086499, 306.99887013751317, 613.7357283895856, 317.9345497485172, 235.03512927844474, 433.7449639254535, 393.48920080936944, 266.6095721665233, 614.7567455912681, 517.5628148233915, 260.0583215062394, 430.6681898624818, 496.995586595103, 362.1119923429655, 455.33723074037505, 394.9125223364184, 477.9208725895598, 372.2991554046607, 561.7584158364826, 328.3415416112487, 314.46175218306576, 1142.7751346373827, 584.8401571910232, 452.6116344896155, 397.95142469438576, 371.2566501811753, 351.4511123298842, 328.3490849892275, 327.23213569553224, 276.29772213147714, 240.08684834894433, 170.57886849520688, 162.168052817265, 156.14982931301594, 154.57576019696916, 137.77804964726178, 136.08760152766533, 136.07930542287335, 137.83437641773276, 134.06265134903683, 150.16331116367564, 125.93741740173571, 125.93519324495502, 125.93519324495502, 125.63199619261121, 123.90573914884564, 123.6005181138314, 123.6005181138314, 121.87401641281996, 119.82699147814311, 114.83856368413794, 134.4728637048836, 992.0172507623088, 1620.198750442218, 229.3817371062323, 2891.1636059660873, 366.83860739357834, 1232.3622125056522, 822.9633642429989, 189.81759111172272, 151.59234301605358, 790.2068728396929, 953.9607716831584, 694.2759215521294, 343.325311222604, 1224.9258777588184, 1088.301976427409, 488.2404019595059, 377.7655560335965, 480.8375630137893, 303.5075001472566, 454.5016339555755, 359.19664935236966, 587.7198174581196, 1437.184098709324, 1317.7129834368752, 1195.523503747066, 783.8239877104656, 986.4799010748291, 635.2217121041019, 949.7427028317135, 1285.6546103638925, 932.9155333254458, 1413.0124966144006, 675.2088482351634, 2115.0138488117177, 559.8588730616572, 920.7305348855654, 1705.6017445746515, 1944.7149682928484, 1053.3937467881913, 1358.1744877261224, 1201.480329403384, 810.4841543441686, 1007.8462187054023, 942.595330533827, 939.7641568845497, 871.9321792521182, 799.9478788426787, 7604.474668963979, 2908.4572686830684, 1713.2321138805733, 1522.0326497791477, 1513.6326497331738, 1343.207416391384, 1352.2763938412436, 1181.520963350668, 981.6701488252298, 882.2552260179414, 853.1885364855602, 767.95820663938, 758.6550450241099, 742.370283755306, 675.1664546489145, 621.3242921487507, 662.033292211272, 590.4523734030914, 565.9245482968983, 562.0486867594167, 660.4871129272848, 527.9387911567986, 516.1473281174274, 507.31522757221416, 475.42860894922705, 434.3474639095127, 413.9956986915384, 385.4231268089204, 362.29813469646047, 567.2936799761338, 2306.6428400006093, 2806.0949744860313, 1440.490951945462, 3821.051840114695, 2045.7662237306902, 1947.3063818710875, 3106.5466110078096, 2619.034418886181, 988.2562524035104, 1816.682106432658, 895.4918906199587, 2193.949851725554, 1636.3012270995312, 6293.163842745565, 3069.2686656202613, 2316.613885094451, 1208.5585055726967, 2539.9681898911763, 3559.790162134061, 2591.3377445880974, 1515.5221111956707, 2700.0545667891392, 4027.916483016395, 3281.5931739148828, 2125.8849771744754, 2167.738054819793, 3144.027521615253, 2259.062979185625, 2701.7292822975837, 2471.507987561047, 3012.7066681957713, 3132.218513696799, 2200.945419963873, 2043.6990414786326, 2578.836870982253, 2410.5536275544146, 2299.270982216472, 1544.794567526089, 1202.7926799377042, 521.2974464319634, 457.58503859485114, 457.58503859485114, 361.6160594288251, 318.6417920922236, 274.00500895548896, 264.332232403327, 263.13249848192714, 267.26864450914366, 256.991720141733, 272.1724318102668, 229.86832345700196, 228.0132669385784, 226.84731071882382, 229.17830443612388, 214.29533695246306, 648.6376614738264, 207.87131850993114, 201.27815744451937, 201.27815744451937, 189.41336834328524, 177.91084900165262, 167.49062351690324, 163.79950066359103, 153.03440249936992, 149.9727802848214, 149.58984904915562, 379.799839431538, 791.7926433394703, 492.17152854060754, 485.4287721333606, 398.59607484394354, 602.2018443261422, 466.3927697716607, 1070.8878620154057, 418.6838382095349, 1050.5562658660626, 329.6965614142462, 816.8449860502337, 4615.696658277777, 3597.7039733367164, 2177.5907214956655, 1321.5605521610978, 754.2086169400704, 708.3419384272839, 592.7563635579681, 1498.9321112260081, 1182.2287057113017, 725.1365713552738, 1267.146864106076, 2006.4789837125115, 1464.3875306508116, 872.1964744606563, 711.0619034900926, 1430.8597214464364, 767.9740468191244, 818.9084752264371, 763.269954541154, 889.4188800870285, 945.7603209986792, 767.5741876380739, 1015.4101763585585, 1078.4621206637323, 1025.2302612206734, 859.8146011339466, 964.2691722851654, 960.1879345704035, 779.0552440651195], \"Total\": [7605.0, 7840.0, 6113.0, 3122.0, 2299.0, 3892.0, 5318.0, 1342.0, 2909.0, 7647.0, 3402.0, 3186.0, 7988.0, 2841.0, 1545.0, 4931.0, 1697.0, 4547.0, 4759.0, 2732.0, 2315.0, 3575.0, 3071.0, 1203.0, 3250.0, 2072.0, 877.0, 2114.0, 2009.0, 1972.0, 1102.2948256583936, 1061.0795544714006, 885.5256145042373, 693.6137957789318, 687.2985383097813, 618.3146517359354, 571.7594760883866, 457.5396768806559, 439.65414266230573, 446.7026504877579, 371.48558105034635, 339.4481772735246, 310.06862415494317, 316.24347880370834, 311.682419079511, 308.07416062122593, 315.21954815698143, 292.80755381727795, 290.2333203811765, 288.5594807879453, 279.96145443451326, 278.705157229137, 356.86370407625355, 264.5494356027377, 259.16406064657366, 259.5474096086449, 253.76256874038683, 241.7238221147995, 238.07037868222235, 237.60304859217376, 416.28279500571756, 906.0596932443334, 406.66243296583997, 888.165097845114, 1657.613565535813, 530.7477794461277, 1416.5855306623473, 868.5739180375147, 495.25806217588956, 527.5320310014863, 1249.2901937929164, 504.1881116393512, 841.8279858890172, 1521.457874783207, 763.4501071276873, 427.66853480654333, 5318.136314078188, 1919.6586612551441, 3575.983866869193, 576.0566586796687, 2421.9330252042955, 1091.9302039240647, 4759.9499903311025, 1159.8356367458646, 757.5773439308547, 964.6899109631128, 4931.88771532351, 1485.4403387613038, 670.524566632979, 4547.774512159778, 1386.718911082024, 1189.013803860798, 7647.710199964054, 1237.5109970637752, 1505.1842280164244, 3250.925105533563, 3641.7216647541527, 3064.11038939706, 1440.8010562536194, 2447.1922385531543, 5955.263192856356, 2369.0185058888374, 2426.499999479691, 7434.058830932253, 6891.214781588078, 4798.820560275674, 3566.6703429036597, 6484.57243999688, 7096.381139390855, 2361.2450181072645, 3738.8371125180843, 2604.904268626422, 2744.920750481308, 3641.912554408729, 5226.678178500099, 877.8824936082219, 627.7103116967195, 514.808569963504, 512.3087622710426, 510.4181996933142, 1342.0557085655653, 358.27795145041, 305.16437509271674, 284.10145177735905, 281.84403959454, 196.0422414014877, 194.15414409639558, 184.07575691551412, 177.78635692529465, 176.7024314552548, 172.09771546913328, 172.09771546913328, 167.26605990174696, 153.93615179644388, 153.0049133824111, 153.0049133824111, 151.95723730104146, 147.21310841410778, 115.36446255354605, 114.2356040842734, 113.30179199266918, 91.94144662509824, 90.62027083245097, 82.95489221192372, 78.94595015166219, 478.52901451024866, 112.2119118662731, 375.14198060450803, 300.63434000735504, 379.95516981596853, 550.8661675952796, 195.9314075336542, 227.24878960615345, 369.9760615945221, 377.5028529047616, 998.5095853366189, 412.8265481624314, 278.06896891134494, 693.4748624656745, 647.9027674430163, 349.9906013856955, 1362.1121995997473, 1118.9917133636327, 353.3154642294585, 1209.4290690560033, 1958.2855400918838, 901.5965297861073, 1615.9250599063566, 1161.3585901411677, 2455.8897689762393, 1102.076691198463, 7840.630949076987, 840.8378362146076, 1082.3896025055558, 1144.0283578437597, 585.5953050085387, 453.3862370844395, 398.7204144974809, 372.00616266456984, 352.20091425352376, 329.0972546368826, 327.9839521505685, 277.046710816526, 240.84232916119078, 171.35923587080933, 162.92996458226014, 156.90254981060488, 155.3260243720623, 138.5289571446391, 136.83651370929533, 136.82939467389502, 138.59859990993496, 134.81059619189307, 151.04385478384663, 126.68506865749359, 126.6831450355099, 126.6831450355099, 126.37961831009926, 124.65336561551375, 124.34811640423978, 124.34811640423978, 122.62161007648274, 120.57671822036777, 115.58980253374828, 135.36067408233873, 1028.1395743148353, 1697.932335943408, 233.0223913158107, 3122.301364896675, 380.9098359872918, 1332.789029797799, 903.3415753831532, 194.50973031878857, 153.80104728558942, 877.2744509050133, 1107.1687921781718, 787.5807560472615, 370.09911965230907, 1485.7290992203434, 1313.1077361570492, 548.2532497538006, 417.79982611977874, 557.8089066246579, 332.77847531267776, 530.5522529431614, 405.0051981805932, 721.1310845605161, 2114.96355703527, 1996.8863470386063, 1810.5328639680895, 1107.0859968334942, 1553.5047089877226, 857.2983658629082, 1522.7989575258143, 2398.8104830926513, 1600.2876980494273, 3048.6817155557364, 987.8661592492132, 7434.058830932253, 759.8178760211429, 1893.025103694083, 6113.373610941619, 7840.630949076987, 2698.2648675460096, 4755.025700501812, 4798.820560275674, 1799.6687261320224, 4754.124539513568, 5015.660386348571, 7096.381139390855, 6854.795956958436, 2260.8668696316286, 7605.242732711154, 2909.218959265132, 1714.0074307824643, 1522.7941324705075, 1514.393573670953, 1343.9717174454822, 1353.0473081831879, 1182.2834830046274, 982.4356250258993, 883.0169374292906, 853.9561296531687, 768.7284796956402, 759.4229043384071, 743.1358697208277, 675.931381268556, 622.0864613933296, 662.8732159867576, 591.2156477372948, 566.6848000573607, 562.8347138022415, 661.4380397989305, 528.7121922385153, 516.9111541968546, 508.0770400601467, 476.1951667764397, 435.1130375675031, 414.7597914476129, 386.18870968408413, 363.05932709893136, 568.4940535009889, 2315.3487786326864, 2841.364739692012, 1449.8009908665313, 3892.5897211330152, 2072.4919834400134, 1972.3011851789481, 3186.399686564152, 2732.4249066979705, 1007.8744786420746, 1923.3026676344114, 919.1367119034253, 2401.1591954103988, 1775.9309072285705, 7988.512178177117, 3741.468373123165, 2754.052433207881, 1317.27418696122, 3326.450829942019, 5226.678178500099, 3577.2915607976356, 1802.1621951884106, 3977.929677572452, 6854.795956958436, 5561.557061461114, 2971.7454961898834, 3087.358991271913, 5437.392775058795, 3394.614007885549, 4755.025700501812, 4116.848547679928, 6484.57243999688, 7096.381139390855, 3432.830538887306, 2944.779743992845, 6891.214781588078, 5955.263192856356, 2299.9906032455715, 1545.526978110657, 1203.5355581702306, 522.0232162355444, 458.3045666287112, 458.3045666287112, 362.3703231853834, 319.37589831436577, 274.72454685592294, 265.05176097454546, 263.85375463223676, 268.004694671721, 257.7112487129515, 272.95005654548777, 230.58874447335566, 228.7336888727484, 227.56774101233825, 229.91649082664935, 215.0155244704034, 650.8331309987423, 208.60488184464185, 202.01211280456891, 202.01211280456891, 190.14762062439195, 178.63126645116762, 168.21034732817805, 164.53753909224142, 153.75491997514735, 150.69481774062103, 150.31036495756834, 381.91870939639153, 802.3450611332053, 498.9085452033792, 493.1780207863422, 404.8025531109622, 617.4133600966572, 478.93763935943304, 1175.7936622381048, 437.8820808080511, 1168.0401627346655, 346.4419669198021, 999.3205650036598, 7840.630949076987, 6113.373610941619, 3402.0927691077204, 2009.2162496271826, 1015.2479361612058, 939.7610380691108, 801.644141699554, 3071.4351372688775, 2310.6677749476994, 1259.5001676163158, 3162.2006023146796, 7647.710199964054, 4531.944336591341, 1768.6321846280503, 1221.7031969851287, 5015.660386348571, 1493.8971370251913, 1771.6331331538, 1596.736823414537, 2418.779310467275, 3250.925105533563, 1799.6687261320224, 4547.774512159778, 5561.557061461114, 4754.124539513568, 3247.3052290194864, 6891.214781588078, 7434.058830932253, 6854.795956958436], \"Category\": [\"Default\", \"Default\", \"Default\", \"Default\", \"Default\", \"Default\", \"Default\", \"Default\", \"Default\", \"Default\", \"Default\", \"Default\", \"Default\", \"Default\", \"Default\", \"Default\", \"Default\", \"Default\", \"Default\", \"Default\", \"Default\", \"Default\", \"Default\", \"Default\", \"Default\", \"Default\", \"Default\", \"Default\", \"Default\", \"Default\", \"Topic1\", \"Topic1\", \"Topic1\", \"Topic1\", \"Topic1\", \"Topic1\", \"Topic1\", \"Topic1\", \"Topic1\", \"Topic1\", \"Topic1\", \"Topic1\", \"Topic1\", \"Topic1\", \"Topic1\", \"Topic1\", \"Topic1\", \"Topic1\", \"Topic1\", \"Topic1\", \"Topic1\", \"Topic1\", \"Topic1\", \"Topic1\", \"Topic1\", \"Topic1\", \"Topic1\", \"Topic1\", \"Topic1\", \"Topic1\", \"Topic1\", \"Topic1\", \"Topic1\", \"Topic1\", \"Topic1\", \"Topic1\", \"Topic1\", \"Topic1\", \"Topic1\", \"Topic1\", \"Topic1\", \"Topic1\", \"Topic1\", \"Topic1\", \"Topic1\", \"Topic1\", \"Topic1\", \"Topic1\", \"Topic1\", \"Topic1\", \"Topic1\", \"Topic1\", \"Topic1\", \"Topic1\", \"Topic1\", \"Topic1\", \"Topic1\", \"Topic1\", \"Topic1\", \"Topic1\", \"Topic1\", \"Topic1\", \"Topic1\", \"Topic1\", \"Topic1\", \"Topic1\", \"Topic1\", \"Topic1\", \"Topic1\", \"Topic1\", \"Topic1\", \"Topic1\", \"Topic1\", \"Topic1\", \"Topic1\", \"Topic1\", \"Topic1\", \"Topic1\", \"Topic1\", \"Topic1\", \"Topic1\", \"Topic1\", \"Topic1\", \"Topic1\", \"Topic1\", \"Topic2\", \"Topic2\", \"Topic2\", \"Topic2\", \"Topic2\", \"Topic2\", \"Topic2\", \"Topic2\", \"Topic2\", \"Topic2\", \"Topic2\", \"Topic2\", \"Topic2\", \"Topic2\", \"Topic2\", \"Topic2\", \"Topic2\", \"Topic2\", \"Topic2\", \"Topic2\", \"Topic2\", \"Topic2\", \"Topic2\", \"Topic2\", \"Topic2\", \"Topic2\", \"Topic2\", \"Topic2\", \"Topic2\", \"Topic2\", \"Topic2\", \"Topic2\", \"Topic2\", \"Topic2\", \"Topic2\", \"Topic2\", \"Topic2\", \"Topic2\", \"Topic2\", \"Topic2\", \"Topic2\", \"Topic2\", \"Topic2\", \"Topic2\", \"Topic2\", \"Topic2\", \"Topic2\", \"Topic2\", \"Topic2\", \"Topic2\", \"Topic2\", \"Topic2\", \"Topic2\", \"Topic2\", \"Topic2\", \"Topic2\", \"Topic2\", \"Topic2\", \"Topic2\", \"Topic3\", \"Topic3\", \"Topic3\", \"Topic3\", \"Topic3\", \"Topic3\", \"Topic3\", \"Topic3\", \"Topic3\", \"Topic3\", \"Topic3\", \"Topic3\", \"Topic3\", \"Topic3\", \"Topic3\", \"Topic3\", \"Topic3\", \"Topic3\", \"Topic3\", \"Topic3\", \"Topic3\", \"Topic3\", \"Topic3\", \"Topic3\", \"Topic3\", \"Topic3\", \"Topic3\", \"Topic3\", \"Topic3\", \"Topic3\", \"Topic3\", \"Topic3\", \"Topic3\", \"Topic3\", \"Topic3\", \"Topic3\", \"Topic3\", \"Topic3\", \"Topic3\", \"Topic3\", \"Topic3\", \"Topic3\", \"Topic3\", \"Topic3\", \"Topic3\", \"Topic3\", \"Topic3\", \"Topic3\", \"Topic3\", \"Topic3\", \"Topic3\", \"Topic3\", \"Topic3\", \"Topic3\", \"Topic3\", \"Topic3\", \"Topic3\", \"Topic3\", \"Topic3\", \"Topic3\", \"Topic3\", \"Topic3\", \"Topic3\", \"Topic3\", \"Topic3\", \"Topic3\", \"Topic3\", \"Topic3\", \"Topic3\", \"Topic3\", \"Topic3\", \"Topic3\", \"Topic3\", \"Topic3\", \"Topic3\", \"Topic3\", \"Topic3\", \"Topic3\", \"Topic4\", \"Topic4\", \"Topic4\", \"Topic4\", \"Topic4\", \"Topic4\", \"Topic4\", \"Topic4\", \"Topic4\", \"Topic4\", \"Topic4\", \"Topic4\", \"Topic4\", \"Topic4\", \"Topic4\", \"Topic4\", \"Topic4\", \"Topic4\", \"Topic4\", \"Topic4\", \"Topic4\", \"Topic4\", \"Topic4\", \"Topic4\", \"Topic4\", \"Topic4\", \"Topic4\", \"Topic4\", \"Topic4\", \"Topic4\", \"Topic4\", \"Topic4\", \"Topic4\", \"Topic4\", \"Topic4\", \"Topic4\", \"Topic4\", \"Topic4\", \"Topic4\", \"Topic4\", \"Topic4\", \"Topic4\", \"Topic4\", \"Topic4\", \"Topic4\", \"Topic4\", \"Topic4\", \"Topic4\", \"Topic4\", \"Topic4\", \"Topic4\", \"Topic4\", \"Topic4\", \"Topic4\", \"Topic4\", \"Topic4\", \"Topic4\", \"Topic4\", \"Topic4\", \"Topic4\", \"Topic4\", \"Topic4\", \"Topic4\", \"Topic4\", \"Topic4\", \"Topic4\", \"Topic5\", \"Topic5\", \"Topic5\", \"Topic5\", \"Topic5\", \"Topic5\", \"Topic5\", \"Topic5\", \"Topic5\", \"Topic5\", \"Topic5\", \"Topic5\", \"Topic5\", \"Topic5\", \"Topic5\", \"Topic5\", \"Topic5\", \"Topic5\", \"Topic5\", \"Topic5\", \"Topic5\", \"Topic5\", \"Topic5\", \"Topic5\", \"Topic5\", \"Topic5\", \"Topic5\", \"Topic5\", \"Topic5\", \"Topic5\", \"Topic5\", \"Topic5\", \"Topic5\", \"Topic5\", \"Topic5\", \"Topic5\", \"Topic5\", \"Topic5\", \"Topic5\", \"Topic5\", \"Topic5\", \"Topic5\", \"Topic5\", \"Topic5\", \"Topic5\", \"Topic5\", \"Topic5\", \"Topic5\", \"Topic5\", \"Topic5\", \"Topic5\", \"Topic5\", \"Topic5\", \"Topic5\", \"Topic5\", \"Topic5\", \"Topic5\", \"Topic5\", \"Topic5\", \"Topic5\", \"Topic5\", \"Topic5\", \"Topic5\", \"Topic5\", \"Topic5\", \"Topic5\", \"Topic5\", \"Topic5\", \"Topic5\", \"Topic5\", \"Topic5\"], \"logprob\": [30.0, 29.0, 28.0, 27.0, 26.0, 25.0, 24.0, 23.0, 22.0, 21.0, 20.0, 19.0, 18.0, 17.0, 16.0, 15.0, 14.0, 13.0, 12.0, 11.0, 10.0, 9.0, 8.0, 7.0, 6.0, 5.0, 4.0, 3.0, 2.0, 1.0, -6.4926, -6.5307, -6.7117, -6.9562, -6.9653, -7.0712, -7.1496, -7.3727, -7.4128, -7.3969, -7.5814, -7.6718, -7.7625, -7.7428, -7.7573, -7.769, -7.7461, -7.8199, -7.8288, -7.8346, -7.8649, -7.8694, -7.6223, -7.9217, -7.9423, -7.9408, -7.9635, -8.0121, -8.0275, -8.0294, -7.4691, -6.6997, -7.4939, -6.7233, -6.1097, -7.2341, -6.2722, -6.7517, -7.3039, -7.2429, -6.3993, -7.2896, -6.7929, -6.231, -6.8944, -7.4544, -5.0729, -6.0329, -5.4627, -7.1773, -5.8659, -6.5916, -5.2577, -6.5435, -6.9281, -6.7143, -5.2973, -6.3559, -7.0414, -5.3966, -6.4239, -6.5626, -5.062, -6.5429, -6.3906, -5.8033, -5.729, -5.8801, -6.428, -6.0765, -5.4722, -6.1091, -6.0971, -5.5115, -5.5691, -5.8124, -6.0044, -5.7633, -5.7636, -6.2368, -6.0906, -6.2159, -6.2087, -6.3195, -6.3176, -5.3133, -5.6492, -5.8475, -5.8524, -5.8561, -4.8895, -6.2107, -6.3715, -6.4432, -6.4512, -6.8154, -6.8251, -6.8786, -6.9136, -6.9197, -6.9462, -6.9462, -6.9748, -7.0582, -7.0643, -7.0643, -7.0712, -7.1032, -7.3483, -7.3582, -7.3665, -7.5769, -7.5915, -7.6807, -7.7308, -5.9323, -7.3803, -6.1887, -6.4323, -6.2087, -5.9087, -6.8689, -6.7383, -6.3341, -6.363, -5.6703, -6.328, -6.6301, -6.0174, -6.1148, -6.5041, -5.6686, -5.8407, -6.529, -6.0245, -5.8813, -6.1979, -5.9688, -6.1112, -5.9204, -6.1702, -5.7588, -6.2958, -6.339, -5.8122, -6.4821, -6.7384, -6.8671, -6.9366, -6.9914, -7.0594, -7.0628, -7.232, -7.3725, -7.7143, -7.7648, -7.8026, -7.8128, -7.9278, -7.9402, -7.9402, -7.9274, -7.9551, -7.8417, -8.0177, -8.0177, -8.0177, -8.0201, -8.0339, -8.0364, -8.0364, -8.0505, -8.0674, -8.1099, -7.9521, -5.9537, -5.4632, -7.4181, -4.884, -6.9485, -5.7368, -6.1405, -7.6074, -7.8323, -6.1812, -5.9928, -6.3106, -7.0148, -5.7428, -5.8611, -6.6626, -6.9192, -6.6779, -7.1381, -6.7343, -6.9696, -6.4772, -5.583, -5.6698, -5.7671, -6.1893, -5.9593, -6.3995, -5.9973, -5.6944, -6.0151, -5.6, -6.3384, -5.1966, -6.5258, -6.0283, -5.4118, -5.2806, -5.8937, -5.6396, -5.7621, -6.1558, -5.9379, -6.0048, -6.0078, -6.0827, -6.1689, -4.5544, -5.5155, -6.0448, -6.1631, -6.1687, -6.2881, -6.2814, -6.4164, -6.6017, -6.7084, -6.7419, -6.8472, -6.8594, -6.8811, -6.976, -7.0591, -6.9956, -7.11, -7.1525, -7.1593, -6.9979, -7.2219, -7.2445, -7.2618, -7.3267, -7.4171, -7.4651, -7.5366, -7.5985, -7.15, -5.7474, -5.5514, -6.2182, -5.2426, -5.8674, -5.9167, -5.4497, -5.6204, -6.595, -5.9862, -6.6936, -5.7975, -6.0907, -4.7437, -5.4617, -5.7431, -6.3937, -5.651, -5.3135, -5.631, -6.1674, -5.5899, -5.1899, -5.3948, -5.829, -5.8095, -5.4377, -5.7682, -5.5893, -5.6783, -5.4803, -5.4414, -5.7943, -5.8684, -5.6358, -5.7033, -4.984, -5.3817, -5.6319, -6.468, -6.5984, -6.5984, -6.8337, -6.9603, -7.1112, -7.1471, -7.1517, -7.1361, -7.1753, -7.1179, -7.2868, -7.2949, -7.3001, -7.2898, -7.357, -6.2495, -7.3874, -7.4196, -7.4196, -7.4804, -7.543, -7.6034, -7.6257, -7.6937, -7.7139, -7.7164, -6.7847, -6.05, -6.5255, -6.5393, -6.7364, -6.3237, -6.5793, -5.7481, -6.6872, -5.7673, -6.9262, -6.0189, -4.2871, -4.5363, -5.0384, -5.5378, -6.0987, -6.1614, -6.3395, -5.4118, -5.6492, -6.138, -5.5798, -5.1202, -5.4351, -5.9533, -6.1576, -5.4583, -6.0806, -6.0164, -6.0867, -5.9338, -5.8723, -6.0811, -5.8013, -5.741, -5.7917, -5.9676, -5.853, -5.8572, -6.0662], \"loglift\": [30.0, 29.0, 28.0, 27.0, 26.0, 25.0, 24.0, 23.0, 22.0, 21.0, 20.0, 19.0, 18.0, 17.0, 16.0, 15.0, 14.0, 13.0, 12.0, 11.0, 10.0, 9.0, 8.0, 7.0, 6.0, 5.0, 4.0, 3.0, 2.0, 1.0, 1.1706, 1.1705, 1.1704, 1.1702, 1.1702, 1.1701, 1.17, 1.1697, 1.1695, 1.1695, 1.1693, 1.1692, 1.169, 1.169, 1.169, 1.1689, 1.1689, 1.1688, 1.1688, 1.1688, 1.1687, 1.1687, 1.1686, 1.1686, 1.1685, 1.1685, 1.1684, 1.1684, 1.1682, 1.1682, 1.1678, 1.1595, 1.1664, 1.1558, 1.1454, 1.1599, 1.1401, 1.1497, 1.1592, 1.1572, 1.1387, 1.1558, 1.1397, 1.1098, 1.136, 1.1556, 1.0165, 1.0755, 1.0235, 1.1348, 1.01, 1.081, 0.9426, 1.0688, 1.1101, 1.0822, 0.8674, 1.0089, 1.1188, 0.8493, 1.0097, 1.0248, 0.6641, 1.0045, 0.961, 0.7783, 0.7391, 0.7607, 0.9673, 0.7891, 0.5041, 0.7889, 0.7769, 0.2429, 0.2611, 0.3797, 0.4845, 0.1278, 0.0373, 0.6645, 0.3512, 0.5872, 0.5421, 0.1485, -0.2109, 2.5774, 2.577, 2.5769, 2.5769, 2.5769, 2.5769, 2.5763, 2.5759, 2.5758, 2.5757, 2.5746, 2.5745, 2.5743, 2.5741, 2.5741, 2.574, 2.574, 2.5739, 2.5735, 2.5735, 2.5735, 2.5734, 2.5732, 2.5718, 2.5718, 2.5717, 2.5702, 2.5701, 2.5693, 2.5687, 2.5652, 2.5676, 2.5523, 2.5301, 2.5196, 2.4481, 2.5216, 2.5039, 2.4207, 2.3717, 2.0917, 2.3172, 2.4103, 2.1091, 2.0797, 2.3063, 1.7828, 1.8073, 2.2719, 1.5458, 1.2072, 1.6662, 1.3118, 1.4997, 0.9416, 1.4931, -0.0576, 1.6381, 1.3423, 1.8137, 1.8135, 1.8131, 1.8129, 1.8128, 1.8127, 1.8125, 1.8125, 1.8121, 1.8117, 1.8102, 1.8101, 1.81, 1.81, 1.8094, 1.8093, 1.8093, 1.8093, 1.8092, 1.809, 1.8089, 1.8089, 1.8089, 1.8089, 1.8088, 1.8088, 1.8088, 1.8087, 1.8086, 1.8083, 1.8082, 1.779, 1.7679, 1.7991, 1.7379, 1.7772, 1.7365, 1.7216, 1.7904, 1.8003, 1.7103, 1.6659, 1.6887, 1.7397, 1.6218, 1.627, 1.6989, 1.7141, 1.6663, 1.7227, 1.6601, 1.6948, 1.6102, 1.4285, 1.3991, 1.3998, 1.4695, 1.3607, 1.515, 1.3427, 1.1911, 1.2752, 1.0458, 1.4343, 0.5578, 1.5094, 1.094, 0.5383, 0.4206, 0.8742, 0.5618, 0.43, 1.0171, 0.2636, 0.1431, -0.2069, -0.2472, 0.7759, 1.1772, 1.1771, 1.1769, 1.1768, 1.1768, 1.1768, 1.1768, 1.1767, 1.1766, 1.1765, 1.1764, 1.1763, 1.1763, 1.1763, 1.1762, 1.1761, 1.1761, 1.1761, 1.176, 1.1759, 1.1759, 1.1759, 1.1759, 1.1758, 1.1757, 1.1756, 1.1755, 1.1754, 1.1752, 1.1752, 1.1736, 1.1649, 1.1709, 1.1588, 1.1644, 1.1646, 1.152, 1.135, 1.1577, 1.1203, 1.1513, 1.0871, 1.0955, 0.9388, 0.9793, 1.0044, 1.0912, 0.9076, 0.7933, 0.8549, 1.0041, 0.7899, 0.6456, 0.6498, 0.8424, 0.8237, 0.6295, 0.7701, 0.612, 0.6671, 0.4108, 0.3595, 0.7328, 0.8121, 0.1944, 0.2729, 1.9436, 1.9435, 1.9433, 1.9425, 1.9424, 1.9424, 1.9419, 1.9416, 1.9413, 1.9412, 1.9412, 1.9412, 1.9411, 1.9411, 1.9408, 1.9408, 1.9408, 1.9407, 1.9406, 1.9406, 1.9404, 1.9403, 1.9403, 1.9401, 1.9399, 1.9397, 1.9394, 1.9392, 1.9391, 1.9391, 1.9384, 1.9307, 1.9303, 1.9281, 1.9285, 1.919, 1.9174, 1.8505, 1.8991, 1.8379, 1.8944, 1.7423, 1.4141, 1.4138, 1.4978, 1.525, 1.6467, 1.6612, 1.6421, 1.2265, 1.2738, 1.3918, 1.0294, 0.6059, 0.8142, 1.237, 1.4027, 0.6896, 1.2786, 1.1723, 1.2058, 0.9435, 0.7092, 1.0918, 0.4446, 0.3036, 0.4098, 0.6151, -0.0227, -0.1028, -0.2307]}, \"token.table\": {\"Topic\": [1, 3, 4, 1, 2, 3, 4, 5, 2, 2, 5, 2, 5, 1, 3, 4, 5, 3, 3, 4, 3, 4, 1, 3, 4, 5, 5, 2, 5, 2, 5, 1, 3, 4, 1, 2, 3, 4, 5, 3, 1, 2, 3, 4, 5, 1, 2, 3, 5, 4, 1, 3, 1, 2, 3, 4, 5, 5, 1, 1, 2, 3, 4, 5, 1, 2, 3, 4, 5, 4, 1, 2, 2, 2, 2, 1, 1, 2, 2, 4, 5, 1, 2, 4, 1, 3, 1, 2, 3, 5, 3, 1, 2, 3, 4, 5, 1, 2, 3, 5, 1, 2, 3, 4, 5, 2, 3, 4, 5, 3, 4, 2, 5, 2, 4, 2, 2, 3, 3, 1, 2, 3, 4, 2, 3, 1, 3, 4, 5, 4, 2, 2, 1, 2, 3, 4, 5, 2, 3, 2, 1, 3, 5, 3, 5, 1, 2, 3, 4, 5, 1, 2, 3, 4, 5, 1, 2, 3, 4, 5, 1, 3, 4, 5, 1, 3, 1, 3, 5, 1, 2, 4, 5, 4, 1, 2, 4, 5, 2, 4, 3, 1, 2, 3, 4, 5, 1, 3, 4, 5, 5, 1, 3, 1, 4, 4, 5, 1, 3, 1, 3, 1, 2, 3, 4, 5, 1, 3, 4, 3, 5, 3, 1, 3, 1, 5, 1, 3, 1, 5, 1, 1, 3, 3, 1, 3, 1, 1, 2, 3, 4, 5, 2, 3, 5, 1, 3, 5, 5, 5, 1, 2, 3, 4, 5, 5, 1, 3, 5, 5, 1, 2, 3, 4, 5, 5, 3, 3, 2, 3, 4, 5, 1, 2, 4, 2, 2, 4, 3, 4, 5, 2, 1, 1, 1, 2, 3, 4, 5, 1, 2, 3, 4, 5, 4, 2, 1, 3, 5, 1, 2, 3, 4, 5, 3, 4, 1, 2, 3, 4, 5, 1, 3, 4, 5, 1, 3, 4, 5, 1, 2, 4, 2, 1, 3, 3, 1, 3, 4, 5, 1, 1, 4, 4, 4, 5, 5, 2, 1, 2, 3, 4, 5, 1, 3, 4, 1, 5, 1, 3, 1, 4, 5, 1, 1, 1, 3, 5, 1, 3, 4, 5, 4, 4, 1, 3, 4, 5, 5, 1, 5, 1, 2, 3, 5, 1, 2, 5, 1, 2, 3, 4, 5, 1, 2, 4, 1, 4, 5, 5, 5, 4, 1, 2, 3, 4, 5, 2, 3, 1, 2, 3, 4, 5, 1, 3, 1, 2, 4, 2, 1, 2, 3, 4, 5, 1, 2, 3, 4, 5, 4, 1, 2, 4, 5, 2, 3, 4, 5, 1, 2, 3, 4, 5, 2, 3, 5, 3, 1, 2, 3, 4, 5, 1, 3, 5, 4, 2, 2, 1, 2, 3, 4, 5, 1, 2, 3, 4, 5, 1, 1, 2, 3, 4, 5, 3, 1, 2, 3, 4, 5, 3, 1, 1, 3, 1, 4, 1, 3, 1, 2, 3, 4, 5, 1, 2, 3, 4, 5, 1, 2, 3, 4, 5, 4, 1, 2, 3, 4, 5, 1, 5, 4, 1, 3, 4, 5, 1, 5, 1, 2, 3, 4, 5, 1, 3, 4, 5, 1, 3, 4, 5, 1, 2, 3, 4, 5, 5, 2, 1, 3, 4, 1, 2, 3, 4, 5, 2, 1, 3, 4, 1, 2, 3, 4, 1, 3, 4, 2, 4, 1, 2, 3, 4, 5, 1, 3, 4, 5, 1, 1, 1, 3, 4, 5, 1, 2, 3, 1, 2, 3, 4, 5, 5, 1, 3, 3, 5, 1, 3, 4, 4, 1, 2, 3, 4, 5, 4, 1, 3, 5, 2, 4, 4, 1, 4, 1, 3, 4, 5, 4, 5, 1, 3, 1, 2, 3, 4, 5, 1, 1, 2, 3, 4, 5, 3, 1, 1, 2, 3, 4, 5, 3, 4, 3, 4, 1, 4, 1, 4, 1, 3, 5, 4, 5, 1, 3, 4, 5, 1, 3, 5, 1, 2, 3, 4, 2, 1, 3, 4, 1, 1, 1, 2, 3, 4, 5, 1, 2, 3, 4, 5, 3, 5, 1, 3, 4, 5, 2, 1, 3, 4, 5, 3, 5, 1, 2, 3, 4, 5, 5, 5, 5, 2, 5, 4, 1, 2, 3, 4, 5, 2, 3, 4, 4, 1, 3, 4, 5, 4, 1, 3, 4, 1, 3, 1, 2, 3, 4, 5, 1, 3, 4, 5, 3, 4, 1, 2, 4, 2, 3, 4, 5, 1, 3, 5, 4, 1, 2, 3, 4, 5, 1, 1, 3, 4, 5, 1, 3, 4, 5, 1, 2, 3, 4, 5, 3, 3, 4, 3, 4, 3, 5, 5, 1, 3, 4, 5, 1, 3, 5, 1, 3, 4, 1, 2, 3, 4, 5, 1, 3, 4, 5, 1, 3, 4, 5, 1, 2, 3, 4, 5, 4, 1, 1, 2, 3, 4, 5, 1, 3, 4, 1, 2, 5, 3, 1, 2, 4, 1, 1, 2, 3, 4, 5, 1, 3, 4, 5, 1, 2, 3, 4, 5, 2, 5, 3, 2, 1, 3, 4, 5, 4, 3, 4, 1, 2, 3, 4, 5, 3], \"Freq\": [0.03301347701419433, 0.9243773563974412, 0.04201715256352006, 0.22463913024595086, 0.281572463531426, 0.16337391290614608, 0.17636956506913498, 0.15409130421829687, 0.9961230336189122, 0.0030729843100194987, 0.9971834086013274, 0.9934321495944416, 0.9965193026243999, 0.13159677430270628, 0.683290943494821, 0.03644218365305712, 0.14779330037073166, 0.9966658651160938, 0.012168526886436194, 0.9871717436621362, 0.9047394861567785, 0.09334613746062, 0.1130042847246248, 0.8811794786392091, 0.005078844257286508, 0.9972401332246708, 0.9989780532187953, 0.10016778851685597, 0.8997978267625266, 0.9984293774216669, 0.9995693011770684, 0.03743560554021237, 0.01767792483843362, 0.944729100924526, 0.5032705093060755, 0.0011214941711556001, 0.15588768979062842, 0.22401846068833112, 0.11551389962902682, 0.9899477888126426, 0.2329094763232975, 0.19463414280163674, 0.24431063949996243, 0.21702928475579994, 0.1107541565733163, 0.8502529297495752, 0.00471240736995014, 0.1083853695088532, 0.03635285685390108, 0.9982373098559456, 0.9411580292256954, 0.05807987838138934, 0.09231028601183773, 0.023701289651688065, 0.14096030161267112, 0.004989745189829067, 0.7397297243921591, 0.998039902817114, 0.9984270286129023, 0.12466818297309706, 0.007923825188968035, 0.48652286660263727, 0.15108093360299052, 0.22979093048007299, 0.19819463634714551, 0.0008386232849667653, 0.03242676701871492, 0.7242909771162962, 0.04444703410323856, 0.9988803527254299, 0.9891704126353089, 0.00942067059652675, 0.9940555268507555, 0.9891837217111236, 0.9884890187129136, 0.9997325346617522, 0.9965657613957776, 0.9989947474580627, 0.6065724978317287, 0.34110056493845303, 0.05093356852022149, 0.05714439165170514, 0.7628776285502635, 0.18000483370287118, 0.940545264984023, 0.05915379025056749, 0.6631614862935297, 0.0032635899916020157, 0.23236760740206353, 0.10084493074050228, 0.9962218976957312, 0.29489780756235384, 0.33754456742521727, 0.05988693938189339, 0.2504362919606451, 0.05716480577362551, 0.9139778315623946, 0.009158094504633212, 0.03663237801853285, 0.040295615820386134, 0.2928340470627268, 0.026247544175168818, 0.10625511858863522, 0.1739295095944922, 0.400670343011312, 0.02496078783092517, 0.8153857358102222, 0.12480393915462584, 0.03605447131133636, 0.9965902579893381, 0.9985169468375492, 0.8541093135542441, 0.1432525114505536, 0.989199793086875, 0.008911709847629505, 0.9946835876082787, 0.998868408430635, 0.9979036095195933, 0.9945923488477892, 0.17541673413988432, 0.00047282138582179065, 0.6794443314259131, 0.14468334406146793, 0.9937006139487448, 0.9956810537023899, 0.0115179314206385, 0.6600275483652844, 0.18629002123815314, 0.14272219369052055, 0.9997602241689895, 0.9991806724494435, 0.9955769557411817, 0.16532740840760948, 0.4629167435413066, 0.15817811507106422, 0.008936616670681595, 0.2046485217586085, 0.9729649542603439, 0.023990916680392042, 0.9984093610986996, 0.8566910908130245, 0.13312934422643138, 0.010153933034219341, 0.012026252221344716, 0.9861526821502667, 0.08709863860222705, 0.005474771569282844, 0.2209816887965075, 0.028866977365309538, 0.6579680013265381, 0.3782714791460612, 0.00939415925031609, 0.0626277283354406, 0.07202188758575669, 0.47784956719941174, 0.48712116738509925, 0.013546822731451197, 0.020320234097176794, 0.017497979361457795, 0.4622853257107721, 0.35970111320058334, 0.07660809968165096, 0.5282938487007041, 0.03542094931517195, 0.9634468964772825, 0.03471880708026243, 0.016963456379788813, 0.8575969614226567, 0.1243986801184513, 0.14434692268911947, 0.735886272532766, 0.04528530907893944, 0.07641895907071031, 0.9986826802385464, 0.17125524132284844, 0.6149164805393506, 0.1842746456339422, 0.02904328654013219, 0.9442079875235083, 0.05103826959586531, 0.9969962062302816, 0.25556755821216165, 0.006310310079312633, 0.21202641866490446, 0.31046725590218155, 0.21560226104318161, 0.2742503187513269, 0.39025079141236113, 0.13453089960369144, 0.2008698280584043, 0.9971003466491626, 0.9844072353614701, 0.014029556798500762, 0.012545283749104812, 0.9872173288718633, 0.014822040903371757, 0.9856657200742218, 0.9888973173408557, 0.011036800416750623, 0.998679688672585, 0.993089061548777, 0.0840571113431378, 0.008005439175536932, 0.054036714434874296, 0.03702515618685832, 0.8175554758017093, 0.05133759847321338, 0.9267787513848521, 0.018913852069078616, 0.993938475896413, 0.9949898410025143, 0.9979010318883759, 0.9989825885657194, 0.9965025701083176, 0.9857221352280975, 0.01326933643576285, 0.9991150755900947, 0.9981931838168135, 0.9959120075249743, 0.0024590419938888258, 0.9955084025012206, 0.983759808193954, 0.01388370697047919, 0.9961816131764653, 0.9153200318208403, 0.08500140725856048, 0.9995656351743225, 0.05841366632029997, 0.07167790496071744, 0.2480667707270381, 0.03316059660104365, 0.5887281304246826, 0.046610944520997136, 0.862302473638447, 0.0914291604065713, 0.8626996415117907, 0.018736102425053476, 0.11828912426563613, 0.9964660920581886, 0.996792388229455, 0.6022717754160781, 0.03948894402424133, 0.08956929356491826, 0.006407146546979554, 0.2623007341477752, 0.9974467770545336, 0.9027141146805542, 0.0750106284405045, 0.021554778287501294, 0.9962512049538848, 0.012200579346295416, 0.40150997485081275, 0.03992916876969409, 0.44143914362050685, 0.1064777833858509, 0.9975051779755222, 0.994292243390315, 0.9989834190891779, 0.006010004096932067, 0.9135206227336742, 0.03906502663005843, 0.04207002867852447, 0.9955039401031445, 0.9984682390213425, 0.0007451255515084646, 0.98801774948753, 0.04135520786792861, 0.9584892867796905, 0.964849544538815, 0.035014701213102156, 0.9973626424569082, 0.9973363881774376, 0.9979231269139325, 0.9991960937466792, 0.1273328084632543, 0.35636649641339346, 0.09922037023110723, 0.10252771590547748, 0.3141978390651729, 0.05278625517702485, 0.010304886468821585, 0.2855925678501982, 0.5682408824235903, 0.08307000316703114, 0.9998365952600292, 0.9936215569966113, 0.6751924233086084, 0.03383652235259541, 0.29099409223232053, 0.16878693505464692, 0.002771781993118662, 0.12721020515786702, 0.5876177825411564, 0.11364306171786513, 0.9005163654145185, 0.09803089547550455, 0.16808286732004685, 0.0017478287762916485, 0.07049576064376316, 0.6411618561029864, 0.1188523567878321, 0.21474664976581195, 0.006478028650552397, 0.7022183057198799, 0.07644073807651829, 0.14730414638611714, 0.03306827776014874, 0.7635765955525255, 0.055915451485342424, 0.9692319809013098, 0.028236911315405965, 0.0021177683486554473, 0.9968407727520346, 0.9851771952342471, 0.014636918329194526, 0.9938867654062535, 0.08094240419818123, 0.35384657572975403, 0.5316544800339554, 0.03317311647466444, 0.9974619492647636, 0.08198748678826079, 0.9178043659908083, 0.998791567980487, 0.024294906734204327, 0.975035590266067, 0.9960138099561533, 0.9897603674984896, 0.01218483416054323, 0.0038077606751697594, 0.8285687229169396, 0.08529383912380262, 0.07006279642312357, 0.016605014546837098, 0.9110617981364622, 0.07195506303629409, 0.012463465514296723, 0.9871064687323005, 0.07366361318796377, 0.9259195901147969, 0.23623026600052974, 0.010641002972996836, 0.7533830104881759, 0.9988204806972474, 0.9978909070621421, 0.9786156161821193, 0.004605249958504091, 0.01611837485476432, 0.22953439304171228, 0.2506971384994588, 0.03158132783694481, 0.4880454683255698, 0.999052357607554, 0.9994122366307336, 0.07654404245442725, 0.007654404245442726, 0.004252446803023737, 0.9108741052076844, 0.9953892393179906, 0.9965133050462268, 0.99509010849689, 0.2566783738448928, 0.625833787913952, 0.08075274682760672, 0.037492346741388835, 0.15463789493789015, 0.8451140769861438, 0.9949898410025143, 0.26062463878108993, 0.45150465591653605, 0.02055630953766343, 0.09617416247978247, 0.17105786150984212, 0.8105320114918767, 0.039197859572148136, 0.15014773327636405, 0.948511108539478, 0.00596547867005961, 0.04474109002544707, 0.9967330306797644, 0.9939645806735657, 0.9988483375729449, 0.10734403934051484, 0.03326406579228684, 0.07533861387550372, 0.5901225077312726, 0.19383061040046065, 0.9939185708781275, 0.9939871477851842, 0.2510198552872266, 0.002678565528979552, 0.028124938054285297, 0.6811209487976575, 0.03711726518728808, 0.9969184529817046, 0.002402213139714951, 0.022847526084026654, 0.0021759548651453953, 0.9737398021525645, 0.9917595081907018, 0.06959616791804939, 0.031102712211163664, 0.06158952913101716, 0.5727826209184596, 0.2648349752633738, 0.21848706708283622, 0.00422996847045895, 0.09250757133221095, 0.5782182987444756, 0.10666877012461701, 0.998168116911813, 0.022002317410207275, 0.928497794710747, 0.03520370785633164, 0.013201390446124365, 0.8132388871706132, 0.14304527657072674, 0.010595946412646426, 0.02913885263477767, 0.15043569927553685, 0.0013583358851064274, 0.0736897217670237, 0.6941096372893845, 0.08048140119255583, 0.9941559011705824, 0.9947585401141192, 0.9988230222870613, 0.9952170018484519, 0.30118545045643735, 0.2900988694580409, 0.07760606698877527, 0.2300465557167267, 0.09977922898556821, 0.7247500928612884, 0.051893513930601966, 0.22318608745576693, 0.9982535202728955, 0.9934321495944416, 0.9936215569966113, 0.23925064848212477, 0.000598126621205312, 0.18801113459886973, 0.28690140263814795, 0.28530639831493376, 0.28248263521030087, 0.026106215102373778, 0.08233498609210192, 0.09505339857787376, 0.5140916204775144, 0.9969949518395403, 0.024984621457660387, 0.012933215813377141, 0.11639894232039429, 0.20546176939887778, 0.6401941827621686, 0.9991481058469635, 0.17601491467877506, 0.39008710820701503, 0.03567869892137333, 0.3591655691418248, 0.03805727884946488, 0.9949306645370664, 0.9978105307269932, 0.9742922195970094, 0.025337630478683835, 0.9693191645776169, 0.03088516945958093, 0.9873640377535802, 0.010095746807296321, 0.19064664872954934, 0.0194177142224541, 0.12731842166313653, 0.3395893430495098, 0.3230401547917364, 0.3952080642374424, 0.014796762105554346, 0.28450138048406765, 0.1762159850752381, 0.129135378375747, 0.6821390360535362, 0.012663472203964162, 0.08864430542774913, 0.19543958768118022, 0.021105787006606935, 0.9969219460479398, 0.16136564026570563, 0.2537934278862522, 0.19404728892711437, 0.2481762695225726, 0.1424715621333287, 0.014193657675252698, 0.983417710356794, 0.9979438167072415, 0.2021835419756532, 0.536099041197299, 0.09713147480479833, 0.16466494655749075, 0.9986716860495564, 0.9928045607930607, 0.3522206006848308, 0.007864820768356554, 0.10162582130092096, 0.46464127402075095, 0.07355920600992306, 0.22143479708159589, 0.6346939241931789, 0.09719957662593308, 0.045703112188352636, 0.034474337502561084, 0.18320647929932463, 0.039399242860069815, 0.742675727912316, 0.1413948374507451, 0.0033139415027518384, 0.6605790062151997, 0.08561015548775582, 0.10936006959081067, 0.9979351726166326, 0.9961844330867161, 0.0027589993559110765, 0.0034487491948888456, 0.9932397681279874, 0.6026481746230019, 0.027951355955810348, 0.02244578584330225, 0.2591853006811505, 0.08766561640685973, 0.9970052955678813, 0.022282201539053706, 0.0028245044204434277, 0.97508169270197, 0.06982253616696622, 0.0011261699381768745, 0.007883189567238122, 0.9212070094286834, 0.01785936679759139, 0.000992187044310633, 0.9802807997789053, 0.0017590333510819397, 0.9973719100634598, 0.005725153119606098, 0.03925819282015609, 0.2790603206299429, 0.08751305482826463, 0.5885457406955068, 0.1662322701029965, 0.0639354885011525, 0.7154044660707906, 0.05451341651150897, 0.9992300906737133, 0.998692867031411, 0.7955965940172779, 0.037605437108289605, 0.011554743245563846, 0.15504364573138396, 0.8509294786203455, 0.018028166919922574, 0.13052392850023944, 0.6491435144205592, 0.0002745953952709641, 0.19523732603765548, 0.04036552310483173, 0.11505547061853397, 0.9967642884846315, 0.9653545046614769, 0.03405592553758263, 0.043390677154310844, 0.9568786172450655, 0.2917569194478568, 0.7081654020034667, 0.999740111370125, 0.9974419576721361, 0.20671584126598422, 0.02645962768204598, 0.2505395996143729, 0.14842197402897667, 0.36754076577091993, 0.9978258888778643, 0.9677495316996021, 0.025614545090477475, 0.006403636272619369, 0.9863560739009091, 0.012538424668231895, 0.9992259633666511, 0.9975797368396171, 0.9994785030664525, 0.08501564636778382, 0.4500828337117967, 0.03778473171901503, 0.42674520529711096, 0.9986529680060905, 0.9995550125905338, 0.9985121426165927, 0.9972953064611537, 0.5329844221343987, 0.048453129284945336, 0.07796217794720528, 0.2553807791635089, 0.08524836280208428, 0.997242032158153, 0.12769058834009003, 0.01064088236167417, 0.27584441199109194, 0.0040926470621823734, 0.5819744122423335, 0.9969999991032586, 0.9994911138931416, 0.440511300822826, 0.005884182524652199, 0.11741618765101434, 0.3717733504212071, 0.06445854492914455, 0.9991011080829343, 0.0008741042065467491, 0.9882897592872362, 0.013003812622200477, 0.9993035071642444, 0.9984715181071068, 0.7380541103339439, 0.26176589462668176, 0.3513267443190581, 0.6238512282301032, 0.02495404912920413, 0.025055454017040082, 0.9729867976617231, 0.027999344109955103, 0.8616572348676506, 0.048773051030244374, 0.06141791611215958, 0.10761450119355358, 0.8900996030924432, 0.0018239745965009083, 0.5577940108970583, 0.0046066952035545075, 0.01305230307673777, 0.42458374126094045, 0.9931552750090783, 0.03206784462570354, 0.05414051690053845, 0.9137253390752412, 0.9970055822034133, 0.9965535882327482, 0.18509303686418807, 0.009716169914130608, 0.10687786905543668, 0.6004593006932716, 0.09789041188486587, 0.09498865929284839, 0.009046538980271275, 0.2787464823296087, 0.12438991097873003, 0.49303637442478454, 0.0052367164812662, 0.9949761314405781, 0.4132933895889876, 0.46347901546765036, 0.00295209563992134, 0.12005188935680115, 0.9992242016309271, 0.8460530875961523, 0.09131231986472323, 0.06060552203410833, 0.0016161472542428887, 0.9634826022509015, 0.036754104718018044, 0.04444387400670778, 0.027160145226321424, 0.8864083760226719, 0.03703656167225648, 0.004938208222967531, 0.9996590301443323, 0.9993354492822282, 0.9993354492822282, 0.9993973121410731, 0.9960318657356648, 0.9995565866965708, 0.0511533361229056, 0.009422982970008927, 0.8245110098757812, 0.10769123394295917, 0.008076842545721937, 0.9513217950850292, 0.0266103998625183, 0.019957799896888725, 0.9970822203979828, 0.07697747415544497, 0.05373899139153705, 0.8413056963121037, 0.02795879957532671, 0.9974901744918365, 0.8509731600964275, 0.04211512000477225, 0.1069393733454511, 0.9090157720326457, 0.09116204017519369, 0.8155185581659989, 0.008328700168503818, 0.05830090117952673, 0.06246525126377864, 0.055524667790025455, 0.008659458975691795, 0.023091890601844786, 0.014432431626152991, 0.9525404873260974, 0.982738176820273, 0.012874299259654231, 0.0008638007450355218, 0.0025914022351065653, 0.9963941593984744, 0.7702992974058422, 0.08720369404594441, 0.009689299338438267, 0.13322786590352617, 0.2566201088912148, 0.7406989506632791, 0.0023329100808292254, 0.9994431240669841, 0.07644057666088555, 0.015234660383463203, 0.037685738843303715, 0.8202661880148872, 0.050514926534641146, 0.998061124914636, 0.6742221307854127, 0.04904182980651841, 0.18462806515395164, 0.09190191636011433, 0.27013380545471344, 0.010015866287306713, 0.6654659395007608, 0.05449809597505124, 0.3218541894997562, 0.003100171702712187, 0.1324618818431571, 0.4413517169497532, 0.10131924792045739, 0.9948974518441963, 0.012318024332136185, 0.9875536078849753, 0.9946074512491903, 0.9978801638821955, 0.9768148857571423, 0.020564523910676678, 0.9952769714051826, 0.6824147174426104, 0.11605136512197686, 0.006129473509963566, 0.19532588918417232, 0.40412856868714425, 0.01984914384514461, 0.5756251715091937, 0.004711612960451117, 0.9541016244913512, 0.041226613403947274, 0.4532363677034539, 0.0018754608318763608, 0.2502698287870566, 0.15357940367698644, 0.14107633146447737, 0.19083520482474828, 0.7370187220817865, 0.057908613877854655, 0.014477153469463664, 0.001798288671933941, 0.001798288671933941, 0.981608716494227, 0.014643207757176377, 0.16618572525368414, 0.0025966519570888146, 0.15363524079442153, 0.16575294992750267, 0.5115404355464964, 0.9986220771895394, 0.9994064378312404, 0.03218356269754969, 0.045500898986190946, 0.028854228625389382, 0.8412117422325057, 0.052714456142538293, 0.21433645988660593, 0.5830201663970942, 0.2024635947616919, 0.08168953304291764, 0.8786163109504919, 0.038121782086694894, 0.9972004690195058, 0.8637410235821237, 0.060554385294949276, 0.0756929816186866, 0.997469880944624, 0.30739859594667074, 0.34011889467488776, 0.08352286780623827, 0.053385750556564665, 0.2161261837048021, 0.18150144887443145, 0.13072126511731905, 0.678745030416849, 0.008798546690588783, 0.1394502474494821, 0.003630212904878797, 0.04518989167797399, 0.787756200358699, 0.023909333270063803, 0.942216420356637, 0.055269678289076474, 0.9972004690195058, 0.9960247776475408, 0.4025415094319165, 0.08329445797185295, 0.37424461168886547, 0.13988825345795514, 0.9992769807333973, 0.9942477046313503, 0.9995810011957849, 0.5131595197447912, 0.003694211202351246, 0.06330534651301908, 0.40485196403949336, 0.015112682191436915, 0.9946074512491903], \"Term\": [\"01\", \"01\", \"01\", \"1\", \"1\", \"1\", \"1\", \"1\", \"25area\", \"713\", \"713\", \"abcsubstring2abclengthscriptnoscriptnoscript\", \"acceptance\", \"account\", \"account\", \"account\", \"account\", \"accrual\", \"agent\", \"agent\", \"airfare\", \"airfare\", \"airline\", \"airline\", \"airline\", \"align3drightfont\", \"alignleft\", \"alignleftfont\", \"alignleftfont\", \"alignmiddlefont\", \"alignrightfont\", \"allowed\", \"allowed\", \"allowed\", \"also\", \"also\", \"also\", \"also\", \"also\", \"amazoncom\", \"america\", \"america\", \"america\", \"america\", \"america\", \"american\", \"american\", \"american\", \"american\", \"ankle\", \"asset\", \"asset\", \"attached\", \"attached\", \"attached\", \"attached\", \"attached\", \"attachment\", \"attack\", \"available\", \"available\", \"available\", \"available\", \"available\", \"back\", \"back\", \"back\", \"back\", \"back\", \"ball\", \"ballot\", \"ballot\", \"baumbachhouectect\", \"bgcolor000099trtd\", \"bgcolorf0f0f0\", \"billion\", \"bin\", \"border0\", \"brian\", \"brian\", \"brian\", \"bryan\", \"bryan\", \"bryan\", \"bush\", \"bush\", \"business\", \"business\", \"business\", \"business\", \"buycom\", \"c\", \"c\", \"c\", \"c\", \"c\", \"california\", \"california\", \"california\", \"california\", \"call\", \"call\", \"call\", \"call\", \"call\", \"card\", \"card\", \"card\", \"card\", \"caribbean\", \"catch\", \"cellpadding0\", \"cellpadding0\", \"cellpadding0trtd\", \"cellpadding0trtd\", \"cellpadding1\", \"cellspacing0\", \"chadstarnesenroncomjoestepenovitchenroncom\", \"chrislenartowiczenroncompetermakkaienroncom\", \"city\", \"city\", \"city\", \"city\", \"classtd2\", \"clearstation\", \"click\", \"click\", \"click\", \"click\", \"coach\", \"color000000bfont\", \"colorffffff\", \"communication\", \"communication\", \"communication\", \"communication\", \"communication\", \"communicationsenron\", \"communicationsenron\", \"communicationsenroncommunications\", \"company\", \"company\", \"company\", \"confidential\", \"confidential\", \"contact\", \"contact\", \"contact\", \"contact\", \"contact\", \"contract\", \"contract\", \"contract\", \"contract\", \"contract\", \"corp\", \"corp\", \"corp\", \"corp\", \"corp\", \"could\", \"could\", \"could\", \"could\", \"county\", \"county\", \"cruise\", \"cruise\", \"cruise\", \"d\", \"d\", \"d\", \"d\", \"dallas\", \"david\", \"david\", \"david\", \"david\", \"davidbaumbachenroncom\", \"davidbaumbachenroncom\", \"davidportzenroncomsharencasonenroncom\", \"day\", \"day\", \"day\", \"day\", \"day\", \"deal\", \"deal\", \"deal\", \"deal\", \"deanlaurentenroncomdonbaughmanenroncom\", \"debt\", \"debt\", \"defense\", \"defense\", \"delete\", \"delete\", \"demand\", \"demand\", \"democrat\", \"departure\", \"desk\", \"desk\", \"desk\", \"desk\", \"desk\", \"discount\", \"discount\", \"discount\", \"dougmillerenroncomjeffreymillerenroncom\", \"dougmillerenroncomlarrycampbellenroncom\", \"dougsewellenroncomrobertstalfordenroncom\", \"dow\", \"dvd\", \"dynegy\", \"dynegy\", \"earnings\", \"eb\", \"economic\", \"economic\", \"economist\", \"economy\", \"economy\", \"eel\", \"election\", \"election\", \"electricity\", \"email\", \"email\", \"email\", \"email\", \"email\", \"ena\", \"ena\", \"ena\", \"energy\", \"energy\", \"energy\", \"energy7136478690bobetterineripgdirectcom\", \"enforceable\", \"enron\", \"enron\", \"enron\", \"enron\", \"enron\", \"enronmessagingadministrationenroncom\", \"enrons\", \"enrons\", \"enrons\", \"ercot\", \"eric\", \"eric\", \"eric\", \"eric\", \"eric\", \"estoppel\", \"etrade\", \"ew\", \"expense\", \"expense\", \"expense\", \"expense\", \"expressed\", \"facearial\", \"facearial\", \"faceverdanaarialhelvetica\", \"fantasy\", \"fantasy\", \"fare\", \"fare\", \"fonttdtrtrtd\", \"forcbs\", \"forecast\", \"foreign\", \"forwarded\", \"forwarded\", \"forwarded\", \"forwarded\", \"forwarded\", \"free\", \"free\", \"free\", \"free\", \"free\", \"game\", \"garylamphierenroncomonealwinfreeenroncom\", \"gas\", \"gas\", \"gas\", \"get\", \"get\", \"get\", \"get\", \"get\", \"gift\", \"gift\", \"go\", \"go\", \"go\", \"go\", \"go\", \"going\", \"going\", \"going\", \"going\", \"good\", \"good\", \"good\", \"good\", \"gore\", \"gore\", \"gore\", \"gorons\", \"government\", \"government\", \"gracekimenroncomjeffkingenroncom\", \"great\", \"great\", \"great\", \"great\", \"growing\", \"he\", \"he\", \"he01s\", \"helvetica\", \"helvetica\", \"hereto\", \"hiemstrahouectect\", \"holiday\", \"holiday\", \"holiday\", \"holiday\", \"holiday\", \"hotel\", \"hotel\", \"hotel\", \"hourly\", \"hourly\", \"image\", \"image\", \"index\", \"index\", \"index\", \"india\", \"indian\", \"industry\", \"industry\", \"industry\", \"information\", \"information\", \"information\", \"information\", \"injured\", \"injury\", \"intended\", \"intended\", \"intended\", \"intended\", \"intercontinentalexchange\", \"investigation\", \"itsaffiliates\", \"j\", \"j\", \"j\", \"j\", \"jeffrey\", \"jeffrey\", \"joestepenovitchenroncomjoeerrigoenroncom\", \"john\", \"john\", \"john\", \"john\", \"john\", \"jones\", \"jones\", \"jones\", \"journal\", \"journal\", \"journal\", \"juanhernandezenroncomgregtrefzenroncom\", \"kellermayeauxenroncomchadstarnesenroncom\", \"knee\", \"know\", \"know\", \"know\", \"know\", \"know\", \"languagejavascriptif\", \"larryjesterenroncomgaryjusticeenroncom\", \"last\", \"last\", \"last\", \"last\", \"last\", \"lay\", \"lay\", \"league\", \"league\", \"league\", \"lenharthouectect\", \"let\", \"let\", \"let\", \"let\", \"let\", \"like\", \"like\", \"like\", \"like\", \"like\", \"lineup\", \"lisa\", \"lisa\", \"lisa\", \"lisa\", \"logo\", \"logo\", \"logo\", \"logo\", \"look\", \"look\", \"look\", \"look\", \"look\", \"lqcolomboaolcommichaelwaltersenroncom\", \"madhupkumarenroncomjustinlaverellenroncom\", \"mailbox\", \"mariavaldesenroncomjosephwagnerenroncom\", \"mark\", \"mark\", \"mark\", \"mark\", \"mark\", \"market\", \"market\", \"market\", \"matchup\", \"mathrandom\", \"matthewlenhartenroncomharrybucaloenroncom\", \"may\", \"may\", \"may\", \"may\", \"may\", \"meeting\", \"meeting\", \"meeting\", \"meeting\", \"meeting\", \"megawatt\", \"message\", \"message\", \"message\", \"message\", \"message\", \"meter\", \"michael\", \"michael\", \"michael\", \"michael\", \"michael\", \"michaelkellyenroncom\", \"military\", \"million\", \"million\", \"mr\", \"mr\", \"nation\", \"nation\", \"need\", \"need\", \"need\", \"need\", \"need\", \"new\", \"new\", \"new\", \"new\", \"new\", \"news\", \"news\", \"news\", \"news\", \"news\", \"nfl\", \"north\", \"north\", \"north\", \"north\", \"north\", \"oasis\", \"oasis\", \"offense\", \"offer\", \"offer\", \"offer\", \"offer\", \"officer\", \"oncall\", \"one\", \"one\", \"one\", \"one\", \"one\", \"online\", \"online\", \"online\", \"online\", \"or\", \"or\", \"or\", \"or\", \"order\", \"order\", \"order\", \"order\", \"order\", \"otherwisethank\", \"parentrandom\", \"passing\", \"passing\", \"passing\", \"people\", \"people\", \"people\", \"people\", \"people\", \"pizzahut\", \"play\", \"play\", \"play\", \"player\", \"player\", \"player\", \"player\", \"playing\", \"playing\", \"playing\", \"playoff\", \"playoff\", \"please\", \"please\", \"please\", \"please\", \"please\", \"point\", \"point\", \"point\", \"point\", \"police\", \"political\", \"power\", \"power\", \"power\", \"power\", \"president\", \"president\", \"president\", \"price\", \"price\", \"price\", \"price\", \"price\", \"privileged\", \"profit\", \"profit\", \"prohibited\", \"prohibited\", \"purchase\", \"purchase\", \"qb\", \"quarterback\", \"question\", \"question\", \"question\", \"question\", \"question\", \"questionable\", \"quote\", \"quote\", \"quote\", \"random\", \"random\", \"rank\", \"rating\", \"rb\", \"receive\", \"receive\", \"receive\", \"receive\", \"receiver\", \"recipient\", \"recount\", \"rental\", \"report\", \"report\", \"report\", \"report\", \"report\", \"republican\", \"request\", \"request\", \"request\", \"request\", \"request\", \"resort\", \"revenue\", \"right\", \"right\", \"right\", \"right\", \"right\", \"roundtrip\", \"roundtrip\", \"rt\", \"rt\", \"rto\", \"rushing\", \"said\", \"said\", \"sale\", \"sale\", \"sale\", \"sansserif\", \"sansserif\", \"save\", \"save\", \"save\", \"save\", \"saving\", \"saving\", \"saving\", \"say\", \"say\", \"say\", \"say\", \"scotthouectect\", \"season\", \"season\", \"season\", \"secretary\", \"sector\", \"see\", \"see\", \"see\", \"see\", \"see\", \"send\", \"send\", \"send\", \"send\", \"send\", \"sender\", \"sender\", \"service\", \"service\", \"service\", \"service\", \"shaperect\", \"share\", \"share\", \"share\", \"share\", \"shipping\", \"shipping\", \"shopping\", \"shopping\", \"shopping\", \"shopping\", \"shopping\", \"size1\", \"size1b\", \"size1bb\", \"size2font\", \"size3d1\", \"sore\", \"special\", \"special\", \"special\", \"special\", \"special\", \"spotlight\", \"spotlight\", \"spotlight\", \"sprained\", \"start\", \"start\", \"start\", \"start\", \"starter\", \"state\", \"state\", \"state\", \"stock\", \"stock\", \"street\", \"street\", \"street\", \"street\", \"street\", \"strictly\", \"strictly\", \"strictly\", \"strictly\", \"subscriber\", \"subscriber\", \"sunday\", \"sunday\", \"sunday\", \"tag\", \"tag\", \"tag\", \"tag\", \"tax\", \"tax\", \"tax\", \"te\", \"team\", \"team\", \"team\", \"team\", \"team\", \"terrorist\", \"the\", \"the\", \"the\", \"the\", \"think\", \"think\", \"think\", \"think\", \"time\", \"time\", \"time\", \"time\", \"time\", \"todddecookenroncomgeorgediazenroncom\", \"tofrom\", \"tofrom\", \"tommayenroncomkellermayeauxenroncom\", \"touchdown\", \"trademark\", \"trademark\", \"tradersnews\", \"trading\", \"trading\", \"trading\", \"trading\", \"transmission\", \"transmission\", \"transmission\", \"travel\", \"travel\", \"travel\", \"u\", \"u\", \"u\", \"u\", \"u\", \"unsubscribe\", \"unsubscribe\", \"unsubscribe\", \"unsubscribe\", \"updated\", \"updated\", \"updated\", \"updated\", \"use\", \"use\", \"use\", \"use\", \"use\", \"ut\", \"utility\", \"v\", \"v\", \"v\", \"v\", \"v\", \"value\", \"value\", \"value\", \"var\", \"var\", \"var\", \"veronicagonzalezenroncomkimberlyallenenroncom\", \"vote\", \"vote\", \"vote\", \"voter\", \"w\", \"w\", \"w\", \"w\", \"w\", \"way\", \"way\", \"way\", \"way\", \"week\", \"week\", \"week\", \"week\", \"week\", \"width100\", \"width100\", \"williambradfordenroncomdebbiebrackettenroncom\", \"winfreehouectect\", \"would\", \"would\", \"would\", \"would\", \"wr\", \"xms\", \"yard\", \"year\", \"year\", \"year\", \"year\", \"year\", \"zacharysampsonenroncomannasantuccienroncom\"]}, \"R\": 30, \"lambda.step\": 0.01, \"plot.opts\": {\"xlab\": \"PC1\", \"ylab\": \"PC2\"}, \"topic.order\": [1, 2, 3, 4, 5]};\n",
       "\n",
       "function LDAvis_load_lib(url, callback){\n",
       "  var s = document.createElement('script');\n",
       "  s.src = url;\n",
       "  s.async = true;\n",
       "  s.onreadystatechange = s.onload = callback;\n",
       "  s.onerror = function(){console.warn(\"failed to load library \" + url);};\n",
       "  document.getElementsByTagName(\"head\")[0].appendChild(s);\n",
       "}\n",
       "\n",
       "if(typeof(LDAvis) !== \"undefined\"){\n",
       "   // already loaded: just create the visualization\n",
       "   !function(LDAvis){\n",
       "       new LDAvis(\"#\" + \"ldavis_el2752825588318993603035727666\", ldavis_el2752825588318993603035727666_data);\n",
       "   }(LDAvis);\n",
       "}else if(typeof define === \"function\" && define.amd){\n",
       "   // require.js is available: use it to load d3/LDAvis\n",
       "   require.config({paths: {d3: \"https://d3js.org/d3.v5\"}});\n",
       "   require([\"d3\"], function(d3){\n",
       "      window.d3 = d3;\n",
       "      LDAvis_load_lib(\"https://cdn.jsdelivr.net/gh/bmabey/pyLDAvis@3.2.2/pyLDAvis/js/ldavis.v3.0.0.js\", function(){\n",
       "        new LDAvis(\"#\" + \"ldavis_el2752825588318993603035727666\", ldavis_el2752825588318993603035727666_data);\n",
       "      });\n",
       "    });\n",
       "}else{\n",
       "    // require.js not available: dynamically load d3 & LDAvis\n",
       "    LDAvis_load_lib(\"https://d3js.org/d3.v5.js\", function(){\n",
       "         LDAvis_load_lib(\"https://cdn.jsdelivr.net/gh/bmabey/pyLDAvis@3.2.2/pyLDAvis/js/ldavis.v3.0.0.js\", function(){\n",
       "                 new LDAvis(\"#\" + \"ldavis_el2752825588318993603035727666\", ldavis_el2752825588318993603035727666_data);\n",
       "            })\n",
       "         });\n",
       "}\n",
       "</script>"
      ],
      "text/plain": [
       "<IPython.core.display.HTML object>"
      ]
     },
     "execution_count": 43,
     "metadata": {},
     "output_type": "execute_result"
    }
   ],
   "source": [
    "import pyLDAvis.gensim\n",
    "lda_display = pyLDAvis.gensim.prepare(ldamodel, corpus, dictionary, sort_topics=False)\n",
    "pyLDAvis.display(lda_display)"
   ]
  },
  {
   "cell_type": "code",
   "execution_count": 4,
   "metadata": {},
   "outputs": [
    {
     "data": {
      "text/html": [
       "<img src=\"topic_modeling.jpg\" width=\"700\" height=\"700\"/>"
      ],
      "text/plain": [
       "<IPython.core.display.Image object>"
      ]
     },
     "execution_count": 4,
     "metadata": {},
     "output_type": "execute_result"
    }
   ],
   "source": [
    "from IPython.display import Image\n",
    "Image(url= \"topic_modeling.jpg\", width=700, height=700)"
   ]
  },
  {
   "cell_type": "code",
   "execution_count": null,
   "metadata": {},
   "outputs": [],
   "source": [
    "# Evaluation of model\n",
    "Perplexity_score = ldamodel.log_perplexity(corpus, total_docs = 20000)\n",
    "print('Perplexity: ', nPerplexity_score)  ## Measurement of quality of model, the lower the better.\n",
    "\n",
    "from gensim.models.coherencemodel import CoherenceModel\n",
    "coherence_model_lda = CoherenceModel(model=ldamodel, texts=text_clean, dictionary=dictionary, coherence = 'c_v')\n",
    "coherence_lda = coherence_model_lda.get_coherence()\n",
    "print('Coherence Score: ', coherence_lda)"
   ]
  },
  {
   "cell_type": "code",
   "execution_count": null,
   "metadata": {},
   "outputs": [],
   "source": [
    "Perplexity:  -9.383315865452136\n",
    "Coherence Score:  0.5040865181201668"
   ]
  },
  {
   "cell_type": "markdown",
   "metadata": {},
   "source": [
    "## Conclusion: \n",
    "The classified contents are similar between cluster 1 (K-Means model) and topic 1 (LDA model) , which is about company, market, trading, market, energy, gas, business, stock and etc.."
   ]
  },
  {
   "cell_type": "markdown",
   "metadata": {},
   "source": [
    "#### References:\n",
    "    1. Kaggle\n",
    "    2. Medium\n",
    "    3. Data camp\n",
    "https://www.datacamp.com/community/tutorials/lda2vec-topic-model\n",
    "\n",
    "https://medium.datadriveninvestor.com/nlp-with-lda-analyzing-topics-in-the-enron-email-dataset-20326b7ae36f\n",
    "\n",
    "https://www.machinelearningplus.com/nlp/topic-modeling-visualization-how-to-present-results-lda-models/"
   ]
  },
  {
   "cell_type": "code",
   "execution_count": null,
   "metadata": {},
   "outputs": [],
   "source": []
  },
  {
   "cell_type": "code",
   "execution_count": null,
   "metadata": {},
   "outputs": [],
   "source": []
  }
 ],
 "metadata": {
  "kernelspec": {
   "display_name": "Python 3",
   "language": "python",
   "name": "python3"
  },
  "language_info": {
   "codemirror_mode": {
    "name": "ipython",
    "version": 3
   },
   "file_extension": ".py",
   "mimetype": "text/x-python",
   "name": "python",
   "nbconvert_exporter": "python",
   "pygments_lexer": "ipython3",
   "version": "3.8.12"
  },
  "varInspector": {
   "cols": {
    "lenName": 16,
    "lenType": 16,
    "lenVar": 40
   },
   "kernels_config": {
    "python": {
     "delete_cmd_postfix": "",
     "delete_cmd_prefix": "del ",
     "library": "var_list.py",
     "varRefreshCmd": "print(var_dic_list())"
    },
    "r": {
     "delete_cmd_postfix": ") ",
     "delete_cmd_prefix": "rm(",
     "library": "var_list.r",
     "varRefreshCmd": "cat(var_dic_list()) "
    }
   },
   "types_to_exclude": [
    "module",
    "function",
    "builtin_function_or_method",
    "instance",
    "_Feature"
   ],
   "window_display": false
  }
 },
 "nbformat": 4,
 "nbformat_minor": 4
}
